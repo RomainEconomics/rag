{
 "cells": [
  {
   "cell_type": "code",
   "execution_count": 1,
   "id": "37fb763a-4190-4755-92e5-a6b334870941",
   "metadata": {},
   "outputs": [
    {
     "name": "stderr",
     "output_type": "stream",
     "text": [
      "<frozen importlib._bootstrap>:488: DeprecationWarning: builtin type SwigPyPacked has no __module__ attribute\n",
      "<frozen importlib._bootstrap>:488: DeprecationWarning: builtin type SwigPyObject has no __module__ attribute\n",
      "<frozen importlib._bootstrap>:488: DeprecationWarning: builtin type swigvarlink has no __module__ attribute\n"
     ]
    }
   ],
   "source": [
    "import os\n",
    "from typing import Literal\n",
    "from pydantic import BaseModel\n",
    "import weaviate\n",
    "\n",
    "from langchain_openai import ChatOpenAI, OpenAIEmbeddings\n",
    "from langchain_weaviate import WeaviateVectorStore\n",
    "\n",
    "from rag.enums import ChainComponent, ChainType\n",
    "from rag.factory import ChainManager, LLMConfig\n",
    "from rag.loader import load_pdf\n",
    "from scripts.weaviate_helper_functions import (\n",
    "    EMBEDDING_DIMENSIONS,\n",
    "    EMBEDDING_MODEL,\n",
    "    WeaviateCollection,\n",
    "    create_schema,\n",
    "    batch_ingest,\n",
    ")\n",
    "\n",
    "os.environ[\"OPENAI_API_KEY\"] = os.getenv(\"OPENAI_API_KEY\")"
   ]
  },
  {
   "cell_type": "markdown",
   "id": "62e2f1da-09a5-47d9-b6dd-2c182e4704dc",
   "metadata": {},
   "source": [
    "### Connect to a Weaviate Instance"
   ]
  },
  {
   "cell_type": "code",
   "execution_count": 3,
   "id": "74f364a9-d981-4063-b47c-d9c0ffa133a6",
   "metadata": {},
   "outputs": [],
   "source": [
    "# To start a Weaviate Server, run:\n",
    "# docker compose up\n",
    "# If you don't have docker, using embedded weaviate can do the trick, see https://weaviate.io/developers/weaviate/installation/embedded\n",
    "\n",
    "weaviate_client = weaviate.connect_to_local(\n",
    "    headers={\"X-OpenAI-Api-Key\": os.getenv(\"OPENAI_API_KEY\")}\n",
    ")\n"
   ]
  },
  {
   "cell_type": "markdown",
   "id": "a757164f-9456-41f1-bc78-4e490e21a317",
   "metadata": {},
   "source": [
    "### Create a Weaviate Collection\n",
    "\n",
    "You can create your own collection.\n",
    "`WeaviateCollection.DOCUMENT` will simply defaut to `Document` and the `create_schema`\n",
    "will create a collection with the following fields:\n",
    "\n",
    "- `page_content` (will be used to compute embeddings)\n",
    "- `filename`\n",
    "- `page`\n",
    "\n",
    "This will be enough to ingest a pdf and test serveral chains."
   ]
  },
  {
   "cell_type": "code",
   "execution_count": 8,
   "id": "1b58ce76-73b2-4dde-a4d9-420255d39b08",
   "metadata": {},
   "outputs": [],
   "source": [
    "col = weaviate_client.collections.get(WeaviateCollection.DOCUMENT.value)\n",
    "# weaviate_client.collections.delete(WeaviateCollection.DOCUMENT.value)\n",
    "\n",
    "if not col.exists():\n",
    "    create_schema(weaviate_client)"
   ]
  },
  {
   "cell_type": "markdown",
   "id": "84ce7dd6-5e37-43d1-8aba-53e9c06aa72b",
   "metadata": {},
   "source": [
    "### Ingest a PDF\n",
    "\n",
    "Replace with any PDF, this one will be used as default.\n",
    "\n",
    "`load_pdf` function will simply load the pdf, split it in chunks, and output a list of `Document` (with the `page_content`, `filename` and `page`).\n",
    "`batch_ingest` will take the documents and ingest them to the Weaviate instance."
   ]
  },
  {
   "cell_type": "code",
   "execution_count": 9,
   "id": "69a0ef3f-5c10-49a4-a68b-a85792af5b8f",
   "metadata": {},
   "outputs": [
    {
     "name": "stdout",
     "output_type": "stream",
     "text": [
      "Failed objects:\n",
      "[]\n"
     ]
    }
   ],
   "source": [
    "file_path = \"Apple_CDP-Climate-Change-Questionnaire_2023.pdf\"\n",
    "docs = load_pdf(file_path)\n",
    "batch_ingest(weaviate_client, WeaviateCollection.DOCUMENT, docs)"
   ]
  },
  {
   "cell_type": "code",
   "execution_count": 11,
   "id": "95c141af-f98b-43ec-bfaa-c6ba052ebbe6",
   "metadata": {
    "scrolled": true
   },
   "outputs": [
    {
     "data": {
      "text/html": [
       "<pre style=\"white-space:pre;overflow-x:auto;line-height:normal;font-family:Menlo,'DejaVu Sans Mono',consolas,'Courier New',monospace\"></pre>\n"
      ],
      "text/plain": []
     },
     "metadata": {},
     "output_type": "display_data"
    },
    {
     "data": {
      "text/plain": [
       "\n",
       "\u001b[1;35mQueryReturn\u001b[0m\u001b[1m(\u001b[0m\n",
       "    \u001b[33mobjects\u001b[0m=\u001b[1m[\u001b[0m\n",
       "        \u001b[1;35mObject\u001b[0m\u001b[1m(\u001b[0m\n",
       "            \u001b[33muuid\u001b[0m=\u001b[1;35m_WeaviateUUIDInt\u001b[0m\u001b[1m(\u001b[0m\u001b[32m'015eff8c-87ac-4e70-aa88-b6ce135242ae'\u001b[0m\u001b[1m)\u001b[0m,\n",
       "            \u001b[33mmetadata\u001b[0m=\u001b[1;35mMetadataReturn\u001b[0m\u001b[1m(\u001b[0m\n",
       "                \u001b[33mcreation_time\u001b[0m=\u001b[3;35mNone\u001b[0m,\n",
       "                \u001b[33mlast_update_time\u001b[0m=\u001b[3;35mNone\u001b[0m,\n",
       "                \u001b[33mdistance\u001b[0m=\u001b[3;35mNone\u001b[0m,\n",
       "                \u001b[33mcertainty\u001b[0m=\u001b[3;35mNone\u001b[0m,\n",
       "                \u001b[33mscore\u001b[0m=\u001b[3;35mNone\u001b[0m,\n",
       "                \u001b[33mexplain_score\u001b[0m=\u001b[3;35mNone\u001b[0m,\n",
       "                \u001b[33mis_consistent\u001b[0m=\u001b[3;35mNone\u001b[0m,\n",
       "                \u001b[33mrerank_score\u001b[0m=\u001b[3;35mNone\u001b[0m\n",
       "            \u001b[1m)\u001b[0m,\n",
       "            \u001b[33mproperties\u001b[0m=\u001b[1m{\u001b[0m\n",
       "                \u001b[32m'page'\u001b[0m: \u001b[1;36m41.0\u001b[0m,\n",
       "                \u001b[32m'page_content'\u001b[0m: \u001b[32m'C8.2g\\n\u001b[0m\u001b[32m(\u001b[0m\u001b[32mC8.2g\u001b[0m\u001b[32m)\u001b[0m\u001b[32m Provide a breakdown by country/area of your non-fuel energy consumption in the reporting year.\\nCountry/area\\nAustralia\\nConsumption of purchased electricity \u001b[0m\u001b[32m(\u001b[0m\u001b[32mMWh\u001b[0m\u001b[32m)\u001b[0m\u001b[32m\\n15621\\nConsumption of self-generated electricity \u001b[0m\u001b[32m(\u001b[0m\u001b[32mMWh\u001b[0m\u001b[32m)\u001b[0m\u001b[32m\\n0\\nIs this electricity consumption excluded from your RE100 commitment?\\nNo\\nConsumption of purchased heat, steam, and cooling \u001b[0m\u001b[32m(\u001b[0m\u001b[32mMWh\u001b[0m\u001b[32m)\u001b[0m\u001b[32m\\n0\\nConsumption of self-generated heat, steam, and cooling \u001b[0m\u001b[32m(\u001b[0m\u001b[32mMWh\u001b[0m\u001b[32m)\u001b[0m\u001b[32m\\n0\\nTotal non-fuel energy consumption \u001b[0m\u001b[32m(\u001b[0m\u001b[32mMWh\u001b[0m\u001b[32m)\u001b[0m\u001b[32m \u001b[0m\u001b[32m[\u001b[0m\u001b[32mAuto-calculated\u001b[0m\u001b[32m]\u001b[0m\u001b[32m\\n15621\\nCountry/area\\nAustria\\nConsumption of purchased electricity \u001b[0m\u001b[32m(\u001b[0m\u001b[32mMWh\u001b[0m\u001b[32m)\u001b[0m\u001b[32m\\n773\\nConsumption of self-generated electricity \u001b[0m\u001b[32m(\u001b[0m\u001b[32mMWh\u001b[0m\u001b[32m)\u001b[0m\u001b[32m\\n0\\nIs this electricity consumption excluded from your RE100 commitment?\\nNo\\nConsumption of purchased heat, steam, and cooling \u001b[0m\u001b[32m(\u001b[0m\u001b[32mMWh\u001b[0m\u001b[32m)\u001b[0m\u001b[32m\\n0\\nConsumption of self-generated heat, steam, and cooling \u001b[0m\u001b[32m(\u001b[0m\u001b[32mMWh\u001b[0m\u001b[32m)\u001b[0m\u001b[32m\\n0\\nTotal non-fuel energy consumption \u001b[0m\u001b[32m(\u001b[0m\u001b[32mMWh\u001b[0m\u001b[32m)\u001b[0m\u001b[32m \u001b[0m\u001b[32m[\u001b[0m\u001b[32mAuto-calculated\u001b[0m\u001b[32m]\u001b[0m\u001b[32m\\n773\\nCountry/area\\nBelgium\\nConsumption of purchased electricity \u001b[0m\u001b[32m(\u001b[0m\u001b[32mMWh\u001b[0m\u001b[32m)\u001b[0m\u001b[32m\\n773\\nConsumption of self-generated electricity \u001b[0m\u001b[32m(\u001b[0m\u001b[32mMWh\u001b[0m\u001b[32m)\u001b[0m\u001b[32m\\n0\\nIs this electricity consumption excluded from your RE100 commitment?\\nNo\\nConsumption of purchased heat, steam, and cooling \u001b[0m\u001b[32m(\u001b[0m\u001b[32mMWh\u001b[0m\u001b[32m)\u001b[0m\u001b[32m\\n0\\nConsumption of self-generated heat, steam, and cooling \u001b[0m\u001b[32m(\u001b[0m\u001b[32mMWh\u001b[0m\u001b[32m)\u001b[0m\u001b[32m\\n0\\nTotal non-fuel energy consumption \u001b[0m\u001b[32m(\u001b[0m\u001b[32mMWh\u001b[0m\u001b[32m)\u001b[0m\u001b[32m \u001b[0m\u001b[32m[\u001b[0m\u001b[32mAuto-calculated\u001b[0m\u001b[32m]\u001b[0m\u001b[32m\\n773\\nCountry/area\\nBrazil\\nConsumption of purchased electricity \u001b[0m\u001b[32m(\u001b[0m\u001b[32mMWh\u001b[0m\u001b[32m)\u001b[0m\u001b[32m\\n2085\\nConsumption of self-generated electricity \u001b[0m\u001b[32m(\u001b[0m\u001b[32mMWh\u001b[0m\u001b[32m)\u001b[0m\u001b[32m\\n0\\nIs this electricity consumption excluded from your RE100 commitment?\\nNo\\nConsumption of purchased heat, steam, and cooling \u001b[0m\u001b[32m(\u001b[0m\u001b[32mMWh\u001b[0m\u001b[32m)\u001b[0m\u001b[32m\\n0\\nConsumption of self-generated heat, steam, and cooling \u001b[0m\u001b[32m(\u001b[0m\u001b[32mMWh\u001b[0m\u001b[32m)\u001b[0m\u001b[32m\\n0\\nTotal non-fuel energy consumption \u001b[0m\u001b[32m(\u001b[0m\u001b[32mMWh\u001b[0m\u001b[32m)\u001b[0m\u001b[32m \u001b[0m\u001b[32m[\u001b[0m\u001b[32mAuto-calculated\u001b[0m\u001b[32m]\u001b[0m\u001b[32m\\n2085\\nCDP\\nPage \\n of \\n133\\n41'\u001b[0m,\n",
       "                \u001b[32m'filename'\u001b[0m: \u001b[32m'Apple_CDP-Climate-Change-Questionnaire_2023.pdf'\u001b[0m\n",
       "            \u001b[1m}\u001b[0m,\n",
       "            \u001b[33mreferences\u001b[0m=\u001b[3;35mNone\u001b[0m,\n",
       "            \u001b[33mvector\u001b[0m=\u001b[1m{\u001b[0m\u001b[1m}\u001b[0m,\n",
       "            \u001b[33mcollection\u001b[0m=\u001b[32m'Document'\u001b[0m\n",
       "        \u001b[1m)\u001b[0m\n",
       "    \u001b[1m]\u001b[0m\n",
       "\u001b[1m)\u001b[0m"
      ]
     },
     "execution_count": 11,
     "metadata": {},
     "output_type": "execute_result"
    }
   ],
   "source": [
    "# Document stored in weaviate can be fetched using the following query:\n",
    "col.query.fetch_objects(limit=1)"
   ]
  },
  {
   "cell_type": "markdown",
   "id": "127cfada-2113-4034-990c-b8d90dba439b",
   "metadata": {},
   "source": [
    "## RAG\n",
    "\n",
    "Now that we have a Weaviate instance running, and a pdf document ingested, we can start interacting with it.\n",
    "\n",
    "First, since we're using Langchain, we will define a `WeaviateVectorStore` instance to interact with our vectorstore, instead of simply using the `weaviate_client`."
   ]
  },
  {
   "cell_type": "code",
   "execution_count": 19,
   "id": "37966768-b4b4-4fe1-bfcd-48d35d67072c",
   "metadata": {},
   "outputs": [],
   "source": [
    "vectorstore = WeaviateVectorStore(\n",
    "    weaviate_client,\n",
    "    WeaviateCollection.DOCUMENT,\n",
    "    \"page_content\",\n",
    "    embedding=OpenAIEmbeddings(model=EMBEDDING_MODEL, dimensions=EMBEDDING_DIMENSIONS),\n",
    ")\n",
    "\n",
    "filters = None  # wvc.query.Filter.by_property(\"page\").equal(10)"
   ]
  },
  {
   "cell_type": "markdown",
   "id": "792f248b-4684-49ea-8bca-cb92d14badfc",
   "metadata": {},
   "source": [
    "### Chain Manager\n",
    "\n",
    "To choose between multiple chain more easily, a `ChainManager` is provided.\n",
    "We will see how we can easily switch between chains, and next, we will see how we can create and modify the chains.\n",
    "\n",
    "`ChainManager` expects at least 2 arguments:\n",
    "\n",
    "- `llm_config`: this define which model will be used across the different chain. Hence, it is easy to use cheaper model when doing basic tasks, and more expensive ones, for harder tasks.\n",
    "- `vectorstore`: this allows to connect to the vectorstore"
   ]
  },
  {
   "cell_type": "code",
   "execution_count": 20,
   "id": "7b9035a3-2e44-4d45-b9e0-e398a02896f0",
   "metadata": {},
   "outputs": [],
   "source": [
    "# Create LLM configuration with different models for different components\n",
    "llm_config = LLMConfig(\n",
    "    # Default model for any component not specifically configured\n",
    "    default_llm=ChatOpenAI(model=\"gpt-4o-mini\"),\n",
    "    # Specific models for different components\n",
    "    component_llms={\n",
    "        ChainComponent.EXTRACTION: ChatOpenAI(model=\"gpt-4o\"),\n",
    "    },\n",
    ")\n",
    "\n",
    "# Initialize the chain manager with the LLM configuration\n",
    "manager = ChainManager(\n",
    "    vectorstore=vectorstore,\n",
    "    llm_config=llm_config,\n",
    ")"
   ]
  },
  {
   "cell_type": "markdown",
   "id": "878a99d7-e8a8-4322-872f-560e61206706",
   "metadata": {},
   "source": [
    "## Available Chains\n",
    "\n",
    "The `ChainType` enums display the different chains available.\n",
    "Each chain is composed of different subchain. These subchains can be reused in different chain, to avoid code duplication."
   ]
  },
  {
   "cell_type": "code",
   "execution_count": 17,
   "id": "1364deb6-b625-4ed1-a5aa-3e05b0ebde6e",
   "metadata": {},
   "outputs": [
    {
     "data": {
      "text/html": [
       "<pre style=\"white-space:pre;overflow-x:auto;line-height:normal;font-family:Menlo,'DejaVu Sans Mono',consolas,'Courier New',monospace\"></pre>\n"
      ],
      "text/plain": []
     },
     "metadata": {},
     "output_type": "display_data"
    },
    {
     "data": {
      "text/plain": [
       "\n",
       "\u001b[1m[\u001b[0m\n",
       "    \u001b[32m'BASIC_QA'\u001b[0m,\n",
       "    \u001b[32m'IMAGE_QA'\u001b[0m,\n",
       "    \u001b[32m'STRUCTURED_OUTPUT_IMAGE'\u001b[0m,\n",
       "    \u001b[32m'STRUCTURED_OUTPUT'\u001b[0m,\n",
       "    \u001b[32m'RELEVANCE_CHECK'\u001b[0m,\n",
       "    \u001b[32m'FULL_VALIDATION'\u001b[0m\n",
       "\u001b[1m]\u001b[0m"
      ]
     },
     "execution_count": 17,
     "metadata": {},
     "output_type": "execute_result"
    }
   ],
   "source": [
    "list(ChainType.__members__)"
   ]
  },
  {
   "cell_type": "markdown",
   "id": "8bd1fff8-5607-4f45-8d91-61e13c177d08",
   "metadata": {},
   "source": [
    "### Basic QA Chain\n",
    "\n",
    "We will start with `BASIC_QA`, which simply:\n",
    "\n",
    "- take the question, transform the question into an embedding, perform a similarity_search on the embeddings of the chunks\n",
    "- return the top `k` (2 by default) chunks\n",
    "- the `k` chunks are then formatted, and the model will have access to those chunks as a `context` to better answer the question\n",
    "- the answer will be a simple string"
   ]
  },
  {
   "cell_type": "markdown",
   "id": "ab547d64-7804-4f98-bde7-b11bda64fd25",
   "metadata": {},
   "source": [
    "#### Using ChainManager\n",
    "\n",
    "By default, the chains returns all the input and output of the different chains. This makes it easy to debug in practice."
   ]
  },
  {
   "cell_type": "code",
   "execution_count": 21,
   "id": "bd4a867b-4b89-4eab-865b-2a782e104ed6",
   "metadata": {
    "scrolled": true
   },
   "outputs": [
    {
     "data": {
      "text/html": [
       "<pre style=\"white-space:pre;overflow-x:auto;line-height:normal;font-family:Menlo,'DejaVu Sans Mono',consolas,'Courier New',monospace\"></pre>\n"
      ],
      "text/plain": []
     },
     "metadata": {},
     "output_type": "display_data"
    },
    {
     "data": {
      "text/plain": [
       "\n",
       "\u001b[1m{\u001b[0m\n",
       "    \u001b[32m'question'\u001b[0m: \u001b[32m'What is the GHG scope 1 emission of the company?'\u001b[0m,\n",
       "    \u001b[32m'source_documents'\u001b[0m: \u001b[1m[\u001b[0m\n",
       "        \u001b[1;35mDocument\u001b[0m\u001b[1m(\u001b[0m\n",
       "            \u001b[33mmetadata\u001b[0m=\u001b[1m{\u001b[0m\u001b[32m'page'\u001b[0m: \u001b[1;36m28.0\u001b[0m, \u001b[32m'filename'\u001b[0m: \u001b[32m'Apple_CDP-Climate-Change-Questionnaire_2023.pdf'\u001b[0m\u001b[1m}\u001b[0m,\n",
       "            \u001b[33mpage_content\u001b[0m=\u001b[32m'\u001b[0m\u001b[32m(\u001b[0m\u001b[32mC6.1\u001b[0m\u001b[32m)\u001b[0m\u001b[32m What were your organization’s gross global Scope 1 emissions in metric tons CO2e?\\nReporting year\\nGross global Scope 1 emissions \u001b[0m\u001b[32m(\u001b[0m\u001b[32mmetric tons CO2e\u001b[0m\u001b[32m)\u001b[0m\u001b[32m\\n55200\\nStart date\\n\u001b[0m\u001b[32m<\u001b[0m\u001b[32mNot\u001b[0m\u001b[32m Applicable>\\nEnd date\\n<Not Applicable>\\nComment\\nC6.2\\n\u001b[0m\u001b[32m(\u001b[0m\u001b[32mC6.2\u001b[0m\u001b[32m)\u001b[0m\u001b[32m Describe your organization’s approach to reporting Scope 2 emissions.\\nRow 1\\n\\u200b\\nScope 2, location-based\\n\\u200b\\nWe are reporting a Scope 2, location-based figure\\nScope 2, market-based\\nWe are reporting a Scope 2, market-based figure\\nComment\\nWe believe our market-based Scope 2 emissions figure most accurately represents our emissions profile since generating and sourcing renewable energy is a key aspect\\nof our environmental strategy.\\nC6.3\\n\u001b[0m\u001b[32m(\u001b[0m\u001b[32mC6.3\u001b[0m\u001b[32m)\u001b[0m\u001b[32m What were your organization’s gross global Scope 2 emissions in metric tons CO2e?\\nReporting year\\nScope 2, location-based\\n1065405\\nScope 2, market-based \u001b[0m\u001b[32m(\u001b[0m\u001b[32mif applicable\u001b[0m\u001b[32m)\u001b[0m\u001b[32m\\n3000\\nStart date\\n<Not Applicable>\\nEnd date\\n<Not Applicable>\\nComment\\nC6.4\\n\u001b[0m\u001b[32m(\u001b[0m\u001b[32mC6.4\u001b[0m\u001b[32m)\u001b[0m\u001b[32m Are there any sources \u001b[0m\u001b[32m(\u001b[0m\u001b[32me.g. facilities, specific GHGs, activities, geographies, etc.\u001b[0m\u001b[32m)\u001b[0m\u001b[32m of Scope 1, Scope 2 or Scope 3 emissions that are within your selected\\nreporting boundary which are not included in your disclosure?\\nYes\\nC6.4a\\nCDP\\nPage \\n of \\n133\\n28'\u001b[0m\n",
       "\u001b[39m        \u001b[0m\u001b[1;39m)\u001b[0m\u001b[39m,\u001b[0m\n",
       "\u001b[39m        \u001b[0m\u001b[1;35mDocument\u001b[0m\u001b[1;39m(\u001b[0m\n",
       "\u001b[39m            \u001b[0m\u001b[33mmetadata\u001b[0m\u001b[39m=\u001b[0m\u001b[1;39m{\u001b[0m\u001b[32m'page'\u001b[0m\u001b[39m: \u001b[0m\u001b[1;36m26.0\u001b[0m\u001b[39m, \u001b[0m\u001b[32m'filename'\u001b[0m\u001b[39m: \u001b[0m\u001b[32m'Apple_CDP-Climate-Change-Questionnaire_2023.pdf'\u001b[0m\u001b[1;39m}\u001b[0m\u001b[39m,\u001b[0m\n",
       "\u001b[39m            \u001b[0m\u001b[33mpage_content\u001b[0m\u001b[39m=\u001b[0m\u001b[32m'Scope 3 category 3: Fuel-and-energy-related activities \u001b[0m\u001b[32m(\u001b[0m\u001b[32mnot included in Scope 1 or 2\u001b[0m\u001b[32m)\u001b[0m\u001b[32m\\nBase year start\\nSeptember 28 2014\\nBase year end\\nSeptember 27 2015\\nBase year emissions \u001b[0m\u001b[32m(\u001b[0m\u001b[32mmetric tons CO2e\u001b[0m\u001b[32m)\u001b[0m\u001b[32m\\n0\\nComment\\nThis Scope 3 emissions category was excluded from our baseline emissions, thus assumed to be 0.\\nScope 3 category 4: Upstream transportation and distribution\\nBase year start\\nSeptember 28 2014\\nBase year end\\nSeptember 27 2015\\nBase year emissions \u001b[0m\u001b[32m(\u001b[0m\u001b[32mmetric tons CO2e\u001b[0m\u001b[32m)\u001b[0m\u001b[32m\\n370000\\nComment\\nScope 3 category 5: Waste generated in operations\\nBase year start\\nBase year end\\nBase year emissions \u001b[0m\u001b[32m(\u001b[0m\u001b[32mmetric tons CO2e\u001b[0m\u001b[32m)\u001b[0m\u001b[32m\\nComment\\nScope 3 category 6: Business travel\\nBase year start\\nSeptember 28 2014\\nBase year end\\nSeptember 27 2015\\nBase year emissions \u001b[0m\u001b[32m(\u001b[0m\u001b[32mmetric tons CO2e\u001b[0m\u001b[32m)\u001b[0m\u001b[32m\\n139940\\nComment\\nScope 3 category 7: Employee commuting\\nBase year start\\nSeptember 28 2014\\nBase year end\\nSeptember 27 2015\\nBase year emissions \u001b[0m\u001b[32m(\u001b[0m\u001b[32mmetric tons CO2e\u001b[0m\u001b[32m)\u001b[0m\u001b[32m\\n172970\\nComment\\nScope 3 category 8: Upstream leased assets\\nBase year start\\nBase year end\\nBase year emissions \u001b[0m\u001b[32m(\u001b[0m\u001b[32mmetric tons CO2e\u001b[0m\u001b[32m)\u001b[0m\u001b[32m\\nComment\\nScope 3 category 9: Downstream transportation and distribution\\nBase year start\\nSeptember 28 2014\\nBase year end\\nSeptember 27 2015\\nBase year emissions \u001b[0m\u001b[32m(\u001b[0m\u001b[32mmetric tons CO2e\u001b[0m\u001b[32m)\u001b[0m\u001b[32m\\n1300000\\nComment\\nScope 3 category 10: Processing of sold products\\nBase year start\\nBase year end\\nBase year emissions \u001b[0m\u001b[32m(\u001b[0m\u001b[32mmetric tons CO2e\u001b[0m\u001b[32m)\u001b[0m\u001b[32m\\nComment\\nCDP\\nPage \\n of \\n133\\n26'\u001b[0m\n",
       "\u001b[39m        \u001b[0m\u001b[1;39m)\u001b[0m\n",
       "\u001b[39m    \u001b[0m\u001b[1;39m]\u001b[0m\u001b[39m,\u001b[0m\n",
       "\u001b[39m    \u001b[0m\u001b[32m'context'\u001b[0m\u001b[39m: \u001b[0m\u001b[32m'filename: Apple_CDP-Climate-Change-Questionnaire_2023.pdf; page: 28.0\\n\u001b[0m\u001b[32m(\u001b[0m\u001b[32mC6.1\u001b[0m\u001b[32m)\u001b[0m\u001b[32m What were your organization’s gross global Scope 1 emissions in metric tons CO2e?\\nReporting year\\nGross global Scope 1 emissions \u001b[0m\u001b[32m(\u001b[0m\u001b[32mmetric tons CO2e\u001b[0m\u001b[32m)\u001b[0m\u001b[32m\\n55200\\nStart date\\n<Not Applicable>\\nEnd date\\n<Not Applicable>\\nComment\\nC6.2\\n\u001b[0m\u001b[32m(\u001b[0m\u001b[32mC6.2\u001b[0m\u001b[32m)\u001b[0m\u001b[32m Describe your organization’s approach to reporting Scope 2 emissions.\\nRow 1\\n\\u200b\\nScope 2, location-based\\n\\u200b\\nWe are reporting a Scope 2, location-based figure\\nScope 2, market-based\\nWe are reporting a Scope 2, market-based figure\\nComment\\nWe believe our market-based Scope 2 emissions figure most accurately represents our emissions profile since generating and sourcing renewable energy is a key aspect\\nof our environmental strategy.\\nC6.3\\n\u001b[0m\u001b[32m(\u001b[0m\u001b[32mC6.3\u001b[0m\u001b[32m)\u001b[0m\u001b[32m What were your organization’s gross global Scope 2 emissions in metric tons CO2e?\\nReporting year\\nScope 2, location-based\\n1065405\\nScope 2, market-based \u001b[0m\u001b[32m(\u001b[0m\u001b[32mif applicable\u001b[0m\u001b[32m)\u001b[0m\u001b[32m\\n3000\\nStart date\\n<Not Applicable>\\nEnd date\\n<Not Applicable>\\nComment\\nC6.4\\n\u001b[0m\u001b[32m(\u001b[0m\u001b[32mC6.4\u001b[0m\u001b[32m)\u001b[0m\u001b[32m Are there any sources \u001b[0m\u001b[32m(\u001b[0m\u001b[32me.g. facilities, specific GHGs, activities, geographies, etc.\u001b[0m\u001b[32m)\u001b[0m\u001b[32m of Scope 1, Scope 2 or Scope 3 emissions that are within your selected\\nreporting boundary which are not included in your disclosure?\\nYes\\nC6.4a\\nCDP\\nPage \\n of \\n133\\n28\\n\\nfilename: Apple_CDP-Climate-Change-Questionnaire_2023.pdf; page: 26.0\\nScope 3 category 3: Fuel-and-energy-related activities \u001b[0m\u001b[32m(\u001b[0m\u001b[32mnot included in Scope 1 or 2\u001b[0m\u001b[32m)\u001b[0m\u001b[32m\\nBase year start\\nSeptember 28 2014\\nBase year end\\nSeptember 27 2015\\nBase year emissions \u001b[0m\u001b[32m(\u001b[0m\u001b[32mmetric tons CO2e\u001b[0m\u001b[32m)\u001b[0m\u001b[32m\\n0\\nComment\\nThis Scope 3 emissions category was excluded from our baseline emissions, thus assumed to be 0.\\nScope 3 category 4: Upstream transportation and distribution\\nBase year start\\nSeptember 28 2014\\nBase year end\\nSeptember 27 2015\\nBase year emissions \u001b[0m\u001b[32m(\u001b[0m\u001b[32mmetric tons CO2e\u001b[0m\u001b[32m)\u001b[0m\u001b[32m\\n370000\\nComment\\nScope 3 category 5: Waste generated in operations\\nBase year start\\nBase year end\\nBase year emissions \u001b[0m\u001b[32m(\u001b[0m\u001b[32mmetric tons CO2e\u001b[0m\u001b[32m)\u001b[0m\u001b[32m\\nComment\\nScope 3 category 6: Business travel\\nBase year start\\nSeptember 28 2014\\nBase year end\\nSeptember 27 2015\\nBase year emissions \u001b[0m\u001b[32m(\u001b[0m\u001b[32mmetric tons CO2e\u001b[0m\u001b[32m)\u001b[0m\u001b[32m\\n139940\\nComment\\nScope 3 category 7: Employee commuting\\nBase year start\\nSeptember 28 2014\\nBase year end\\nSeptember 27 2015\\nBase year emissions \u001b[0m\u001b[32m(\u001b[0m\u001b[32mmetric tons CO2e\u001b[0m\u001b[32m)\u001b[0m\u001b[32m\\n172970\\nComment\\nScope 3 category 8: Upstream leased assets\\nBase year start\\nBase year end\\nBase year emissions \u001b[0m\u001b[32m(\u001b[0m\u001b[32mmetric tons CO2e\u001b[0m\u001b[32m)\u001b[0m\u001b[32m\\nComment\\nScope 3 category 9: Downstream transportation and distribution\\nBase year start\\nSeptember 28 2014\\nBase year end\\nSeptember 27 2015\\nBase year emissions \u001b[0m\u001b[32m(\u001b[0m\u001b[32mmetric tons CO2e\u001b[0m\u001b[32m)\u001b[0m\u001b[32m\\n1300000\\nComment\\nScope 3 category 10: Processing of sold products\\nBase year start\\nBase year end\\nBase year emissions \u001b[0m\u001b[32m(\u001b[0m\u001b[32mmetric tons CO2e\u001b[0m\u001b[32m)\u001b[0m\u001b[32m\\nComment\\nCDP\\nPage \\n of \\n133\\n26\\n\\n'\u001b[0m\u001b[39m,\u001b[0m\n",
       "\u001b[39m    \u001b[0m\u001b[32m'prompt'\u001b[0m\u001b[39m: \u001b[0m\u001b[1;35mChatPromptValue\u001b[0m\u001b[1;39m(\u001b[0m\n",
       "\u001b[39m        \u001b[0m\u001b[33mmessages\u001b[0m\u001b[39m=\u001b[0m\u001b[1;39m[\u001b[0m\n",
       "\u001b[39m            \u001b[0m\u001b[1;35mHumanMessage\u001b[0m\u001b[1;39m(\u001b[0m\n",
       "\u001b[39m                \u001b[0m\u001b[33mcontent\u001b[0m\u001b[39m=\u001b[0m\u001b[32m\"You\u001b[0m\u001b[32m're an ESG analyst. You're ask to extract information from the provided context.\\n                Only use the available information to answer the question. Do not add any additional information.\\n\\n                Question: What is the GHG scope 1 emission of the company?\\n\\n                -----------\\n                Context: filename: Apple_CDP-Climate-Change-Questionnaire_2023.pdf; page: 28.0\\n\u001b[0m\u001b[32m(\u001b[0m\u001b[32mC6.1\u001b[0m\u001b[32m)\u001b[0m\u001b[32m What were your organization’s gross global Scope 1 emissions in metric tons CO2e?\\nReporting year\\nGross global Scope 1 emissions \u001b[0m\u001b[32m(\u001b[0m\u001b[32mmetric tons CO2e\u001b[0m\u001b[32m)\u001b[0m\u001b[32m\\n55200\\nStart date\\n<Not Applicable>\\nEnd date\\n<Not Applicable>\\nComment\\nC6.2\\n\u001b[0m\u001b[32m(\u001b[0m\u001b[32mC6.2\u001b[0m\u001b[32m)\u001b[0m\u001b[32m Describe your organization’s approach to reporting Scope 2 emissions.\\nRow 1\\n\\u200b\\nScope 2, location-based\\n\\u200b\\nWe are reporting a Scope 2, location-based figure\\nScope 2, market-based\\nWe are reporting a Scope 2, market-based figure\\nComment\\nWe believe our market-based Scope 2 emissions figure most accurately represents our emissions profile since generating and sourcing renewable energy is a key aspect\\nof our environmental strategy.\\nC6.3\\n\u001b[0m\u001b[32m(\u001b[0m\u001b[32mC6.3\u001b[0m\u001b[32m)\u001b[0m\u001b[32m What were your organization’s gross global Scope 2 emissions in metric tons CO2e?\\nReporting year\\nScope 2, location-based\\n1065405\\nScope 2, market-based \u001b[0m\u001b[32m(\u001b[0m\u001b[32mif applicable\u001b[0m\u001b[32m)\u001b[0m\u001b[32m\\n3000\\nStart date\\n<Not Applicable>\\nEnd date\\n<Not Applicable\u001b[0m\u001b[32m>\u001b[0m\u001b[32m\\nComment\\nC6.4\\n\u001b[0m\u001b[32m(\u001b[0m\u001b[32mC6.4\u001b[0m\u001b[32m)\u001b[0m\u001b[32m Are there any sources \u001b[0m\u001b[32m(\u001b[0m\u001b[32me.g. facilities, specific GHGs, activities, geographies, etc.\u001b[0m\u001b[32m)\u001b[0m\u001b[32m of Scope 1, Scope 2 or Scope 3 emissions that are within your selected\\nreporting boundary which are not included in your disclosure?\\nYes\\nC6.4a\\nCDP\\nPage \\n of \\n133\\n28\\n\\nfilename: Apple_CDP-Climate-Change-Questionnaire_2023.pdf; page: 26.0\\nScope 3 category 3: Fuel-and-energy-related activities \u001b[0m\u001b[32m(\u001b[0m\u001b[32mnot included in Scope 1 or 2\u001b[0m\u001b[32m)\u001b[0m\u001b[32m\\nBase year start\\nSeptember 28 2014\\nBase year end\\nSeptember 27 2015\\nBase year emissions \u001b[0m\u001b[32m(\u001b[0m\u001b[32mmetric tons CO2e\u001b[0m\u001b[32m)\u001b[0m\u001b[32m\\n0\\nComment\\nThis Scope 3 emissions category was excluded from our baseline emissions, thus assumed to be 0.\\nScope 3 category 4: Upstream transportation and distribution\\nBase year start\\nSeptember 28 2014\\nBase year end\\nSeptember 27 2015\\nBase year emissions \u001b[0m\u001b[32m(\u001b[0m\u001b[32mmetric tons CO2e\u001b[0m\u001b[32m)\u001b[0m\u001b[32m\\n370000\\nComment\\nScope 3 category 5: Waste generated in operations\\nBase year start\\nBase year end\\nBase year emissions \u001b[0m\u001b[32m(\u001b[0m\u001b[32mmetric tons CO2e\u001b[0m\u001b[32m)\u001b[0m\u001b[32m\\nComment\\nScope 3 category 6: Business travel\\nBase year start\\nSeptember 28 2014\\nBase year end\\nSeptember 27 2015\\nBase year emissions \u001b[0m\u001b[32m(\u001b[0m\u001b[32mmetric tons CO2e\u001b[0m\u001b[32m)\u001b[0m\u001b[32m\\n139940\\nComment\\nScope 3 category 7: Employee commuting\\nBase year start\\nSeptember 28 2014\\nBase year end\\nSeptember 27 2015\\nBase year emissions \u001b[0m\u001b[32m(\u001b[0m\u001b[32mmetric tons CO2e\u001b[0m\u001b[32m)\u001b[0m\u001b[32m\\n172970\\nComment\\nScope 3 category 8: Upstream leased assets\\nBase year start\\nBase year end\\nBase year emissions \u001b[0m\u001b[32m(\u001b[0m\u001b[32mmetric tons CO2e\u001b[0m\u001b[32m)\u001b[0m\u001b[32m\\nComment\\nScope 3 category 9: Downstream transportation and distribution\\nBase year start\\nSeptember 28 2014\\nBase year end\\nSeptember 27 2015\\nBase year emissions \u001b[0m\u001b[32m(\u001b[0m\u001b[32mmetric tons CO2e\u001b[0m\u001b[32m)\u001b[0m\u001b[32m\\n1300000\\nComment\\nScope 3 category 10: Processing of sold products\\nBase year start\\nBase year end\\nBase year emissions \u001b[0m\u001b[32m(\u001b[0m\u001b[32mmetric tons CO2e\u001b[0m\u001b[32m)\u001b[0m\u001b[32m\\nComment\\nCDP\\nPage \\n of \\n133\\n26\\n\\n\\n                -----------\\n\\n                Answer:\\n                \"\u001b[0m,\n",
       "                \u001b[33madditional_kwargs\u001b[0m=\u001b[1m{\u001b[0m\u001b[1m}\u001b[0m,\n",
       "                \u001b[33mresponse_metadata\u001b[0m=\u001b[1m{\u001b[0m\u001b[1m}\u001b[0m\n",
       "            \u001b[1m)\u001b[0m\n",
       "        \u001b[1m]\u001b[0m\n",
       "    \u001b[1m)\u001b[0m,\n",
       "    \u001b[32m'response'\u001b[0m: \u001b[32m'55200 metric tons CO2e'\u001b[0m\n",
       "\u001b[1m}\u001b[0m"
      ]
     },
     "execution_count": 21,
     "metadata": {},
     "output_type": "execute_result"
    }
   ],
   "source": [
    "\n",
    "# Run a basic QA chain\n",
    "result = manager.run_chain(\n",
    "    chain_type=ChainType.BASIC_QA,\n",
    "    question=\"What is the GHG scope 1 emission of the company?\",\n",
    ")\n",
    "result\n"
   ]
  },
  {
   "cell_type": "code",
   "execution_count": 22,
   "id": "54a96f34-af26-472f-9ec0-8035b6da960e",
   "metadata": {},
   "outputs": [
    {
     "data": {
      "text/html": [
       "<pre style=\"white-space:pre;overflow-x:auto;line-height:normal;font-family:Menlo,'DejaVu Sans Mono',consolas,'Courier New',monospace\"></pre>\n"
      ],
      "text/plain": []
     },
     "metadata": {},
     "output_type": "display_data"
    },
    {
     "data": {
      "text/plain": [
       "\u001b[32m'55200 metric tons CO2e'\u001b[0m"
      ]
     },
     "execution_count": 22,
     "metadata": {},
     "output_type": "execute_result"
    }
   ],
   "source": [
    "result['response']"
   ]
  },
  {
   "cell_type": "markdown",
   "id": "9f5a5f1c-4cee-4720-8fe9-17339adb2a5a",
   "metadata": {},
   "source": [
    "#### Without ChainManager\n",
    "\n",
    "When developing, or if a chain is not yet supported, it is easy in practice to combine different chain.\n",
    "For that, we get (or define new subchain) existing subchain, and combine them with the `ChainBuilder` class that will take all the chains together,\n",
    "and build a single chain that we can then call."
   ]
  },
  {
   "cell_type": "code",
   "execution_count": 27,
   "id": "c792677a-39c8-46e1-956f-f14494165c89",
   "metadata": {},
   "outputs": [],
   "source": [
    "from rag.chains import (\n",
    "    ChainBuilder,\n",
    "    QAFromContextChain,\n",
    "    WeaviateRetrievalChain,\n",
    ")\n",
    "\n",
    "# If we wanted to compose ourself the chain, we could use the subchains like this\n",
    "retrieval_builder = WeaviateRetrievalChain(vectorstore=vectorstore, search_type='similarity')\n",
    "qa_builder = QAFromContextChain(model=ChatOpenAI(model=\"gpt-4o-mini\"))\n",
    "\n",
    "chain = ChainBuilder(chains=[retrieval_builder, qa_builder]).build()"
   ]
  },
  {
   "cell_type": "code",
   "execution_count": 28,
   "id": "66b4e13e-22f2-4ee6-b560-99cfae1177e6",
   "metadata": {
    "scrolled": true
   },
   "outputs": [
    {
     "data": {
      "text/html": [
       "<pre style=\"white-space:pre;overflow-x:auto;line-height:normal;font-family:Menlo,'DejaVu Sans Mono',consolas,'Courier New',monospace\"></pre>\n"
      ],
      "text/plain": []
     },
     "metadata": {},
     "output_type": "display_data"
    },
    {
     "data": {
      "text/plain": [
       "\n",
       "\u001b[1m{\u001b[0m\n",
       "    \u001b[32m'question'\u001b[0m: \u001b[32m'What is the GHG scope 1 emission of the company?'\u001b[0m,\n",
       "    \u001b[32m'source_documents'\u001b[0m: \u001b[1m[\u001b[0m\n",
       "        \u001b[1;35mDocument\u001b[0m\u001b[1m(\u001b[0m\n",
       "            \u001b[33mmetadata\u001b[0m=\u001b[1m{\u001b[0m\u001b[32m'page'\u001b[0m: \u001b[1;36m28.0\u001b[0m, \u001b[32m'filename'\u001b[0m: \u001b[32m'Apple_CDP-Climate-Change-Questionnaire_2023.pdf'\u001b[0m\u001b[1m}\u001b[0m,\n",
       "            \u001b[33mpage_content\u001b[0m=\u001b[32m'\u001b[0m\u001b[32m(\u001b[0m\u001b[32mC6.1\u001b[0m\u001b[32m)\u001b[0m\u001b[32m What were your organization’s gross global Scope 1 emissions in metric tons CO2e?\\nReporting year\\nGross global Scope 1 emissions \u001b[0m\u001b[32m(\u001b[0m\u001b[32mmetric tons CO2e\u001b[0m\u001b[32m)\u001b[0m\u001b[32m\\n55200\\nStart date\\n\u001b[0m\u001b[32m<\u001b[0m\u001b[32mNot\u001b[0m\u001b[32m Applicable>\\nEnd date\\n<Not Applicable>\\nComment\\nC6.2\\n\u001b[0m\u001b[32m(\u001b[0m\u001b[32mC6.2\u001b[0m\u001b[32m)\u001b[0m\u001b[32m Describe your organization’s approach to reporting Scope 2 emissions.\\nRow 1\\n\\u200b\\nScope 2, location-based\\n\\u200b\\nWe are reporting a Scope 2, location-based figure\\nScope 2, market-based\\nWe are reporting a Scope 2, market-based figure\\nComment\\nWe believe our market-based Scope 2 emissions figure most accurately represents our emissions profile since generating and sourcing renewable energy is a key aspect\\nof our environmental strategy.\\nC6.3\\n\u001b[0m\u001b[32m(\u001b[0m\u001b[32mC6.3\u001b[0m\u001b[32m)\u001b[0m\u001b[32m What were your organization’s gross global Scope 2 emissions in metric tons CO2e?\\nReporting year\\nScope 2, location-based\\n1065405\\nScope 2, market-based \u001b[0m\u001b[32m(\u001b[0m\u001b[32mif applicable\u001b[0m\u001b[32m)\u001b[0m\u001b[32m\\n3000\\nStart date\\n<Not Applicable>\\nEnd date\\n<Not Applicable>\\nComment\\nC6.4\\n\u001b[0m\u001b[32m(\u001b[0m\u001b[32mC6.4\u001b[0m\u001b[32m)\u001b[0m\u001b[32m Are there any sources \u001b[0m\u001b[32m(\u001b[0m\u001b[32me.g. facilities, specific GHGs, activities, geographies, etc.\u001b[0m\u001b[32m)\u001b[0m\u001b[32m of Scope 1, Scope 2 or Scope 3 emissions that are within your selected\\nreporting boundary which are not included in your disclosure?\\nYes\\nC6.4a\\nCDP\\nPage \\n of \\n133\\n28'\u001b[0m\n",
       "\u001b[39m        \u001b[0m\u001b[1;39m)\u001b[0m\u001b[39m,\u001b[0m\n",
       "\u001b[39m        \u001b[0m\u001b[1;35mDocument\u001b[0m\u001b[1;39m(\u001b[0m\n",
       "\u001b[39m            \u001b[0m\u001b[33mmetadata\u001b[0m\u001b[39m=\u001b[0m\u001b[1;39m{\u001b[0m\u001b[32m'page'\u001b[0m\u001b[39m: \u001b[0m\u001b[1;36m26.0\u001b[0m\u001b[39m, \u001b[0m\u001b[32m'filename'\u001b[0m\u001b[39m: \u001b[0m\u001b[32m'Apple_CDP-Climate-Change-Questionnaire_2023.pdf'\u001b[0m\u001b[1;39m}\u001b[0m\u001b[39m,\u001b[0m\n",
       "\u001b[39m            \u001b[0m\u001b[33mpage_content\u001b[0m\u001b[39m=\u001b[0m\u001b[32m'Scope 3 category 3: Fuel-and-energy-related activities \u001b[0m\u001b[32m(\u001b[0m\u001b[32mnot included in Scope 1 or 2\u001b[0m\u001b[32m)\u001b[0m\u001b[32m\\nBase year start\\nSeptember 28 2014\\nBase year end\\nSeptember 27 2015\\nBase year emissions \u001b[0m\u001b[32m(\u001b[0m\u001b[32mmetric tons CO2e\u001b[0m\u001b[32m)\u001b[0m\u001b[32m\\n0\\nComment\\nThis Scope 3 emissions category was excluded from our baseline emissions, thus assumed to be 0.\\nScope 3 category 4: Upstream transportation and distribution\\nBase year start\\nSeptember 28 2014\\nBase year end\\nSeptember 27 2015\\nBase year emissions \u001b[0m\u001b[32m(\u001b[0m\u001b[32mmetric tons CO2e\u001b[0m\u001b[32m)\u001b[0m\u001b[32m\\n370000\\nComment\\nScope 3 category 5: Waste generated in operations\\nBase year start\\nBase year end\\nBase year emissions \u001b[0m\u001b[32m(\u001b[0m\u001b[32mmetric tons CO2e\u001b[0m\u001b[32m)\u001b[0m\u001b[32m\\nComment\\nScope 3 category 6: Business travel\\nBase year start\\nSeptember 28 2014\\nBase year end\\nSeptember 27 2015\\nBase year emissions \u001b[0m\u001b[32m(\u001b[0m\u001b[32mmetric tons CO2e\u001b[0m\u001b[32m)\u001b[0m\u001b[32m\\n139940\\nComment\\nScope 3 category 7: Employee commuting\\nBase year start\\nSeptember 28 2014\\nBase year end\\nSeptember 27 2015\\nBase year emissions \u001b[0m\u001b[32m(\u001b[0m\u001b[32mmetric tons CO2e\u001b[0m\u001b[32m)\u001b[0m\u001b[32m\\n172970\\nComment\\nScope 3 category 8: Upstream leased assets\\nBase year start\\nBase year end\\nBase year emissions \u001b[0m\u001b[32m(\u001b[0m\u001b[32mmetric tons CO2e\u001b[0m\u001b[32m)\u001b[0m\u001b[32m\\nComment\\nScope 3 category 9: Downstream transportation and distribution\\nBase year start\\nSeptember 28 2014\\nBase year end\\nSeptember 27 2015\\nBase year emissions \u001b[0m\u001b[32m(\u001b[0m\u001b[32mmetric tons CO2e\u001b[0m\u001b[32m)\u001b[0m\u001b[32m\\n1300000\\nComment\\nScope 3 category 10: Processing of sold products\\nBase year start\\nBase year end\\nBase year emissions \u001b[0m\u001b[32m(\u001b[0m\u001b[32mmetric tons CO2e\u001b[0m\u001b[32m)\u001b[0m\u001b[32m\\nComment\\nCDP\\nPage \\n of \\n133\\n26'\u001b[0m\n",
       "\u001b[39m        \u001b[0m\u001b[1;39m)\u001b[0m\n",
       "\u001b[39m    \u001b[0m\u001b[1;39m]\u001b[0m\u001b[39m,\u001b[0m\n",
       "\u001b[39m    \u001b[0m\u001b[32m'context'\u001b[0m\u001b[39m: \u001b[0m\u001b[32m'filename: Apple_CDP-Climate-Change-Questionnaire_2023.pdf; page: 28.0\\n\u001b[0m\u001b[32m(\u001b[0m\u001b[32mC6.1\u001b[0m\u001b[32m)\u001b[0m\u001b[32m What were your organization’s gross global Scope 1 emissions in metric tons CO2e?\\nReporting year\\nGross global Scope 1 emissions \u001b[0m\u001b[32m(\u001b[0m\u001b[32mmetric tons CO2e\u001b[0m\u001b[32m)\u001b[0m\u001b[32m\\n55200\\nStart date\\n<Not Applicable>\\nEnd date\\n<Not Applicable>\\nComment\\nC6.2\\n\u001b[0m\u001b[32m(\u001b[0m\u001b[32mC6.2\u001b[0m\u001b[32m)\u001b[0m\u001b[32m Describe your organization’s approach to reporting Scope 2 emissions.\\nRow 1\\n\\u200b\\nScope 2, location-based\\n\\u200b\\nWe are reporting a Scope 2, location-based figure\\nScope 2, market-based\\nWe are reporting a Scope 2, market-based figure\\nComment\\nWe believe our market-based Scope 2 emissions figure most accurately represents our emissions profile since generating and sourcing renewable energy is a key aspect\\nof our environmental strategy.\\nC6.3\\n\u001b[0m\u001b[32m(\u001b[0m\u001b[32mC6.3\u001b[0m\u001b[32m)\u001b[0m\u001b[32m What were your organization’s gross global Scope 2 emissions in metric tons CO2e?\\nReporting year\\nScope 2, location-based\\n1065405\\nScope 2, market-based \u001b[0m\u001b[32m(\u001b[0m\u001b[32mif applicable\u001b[0m\u001b[32m)\u001b[0m\u001b[32m\\n3000\\nStart date\\n<Not Applicable>\\nEnd date\\n<Not Applicable>\\nComment\\nC6.4\\n\u001b[0m\u001b[32m(\u001b[0m\u001b[32mC6.4\u001b[0m\u001b[32m)\u001b[0m\u001b[32m Are there any sources \u001b[0m\u001b[32m(\u001b[0m\u001b[32me.g. facilities, specific GHGs, activities, geographies, etc.\u001b[0m\u001b[32m)\u001b[0m\u001b[32m of Scope 1, Scope 2 or Scope 3 emissions that are within your selected\\nreporting boundary which are not included in your disclosure?\\nYes\\nC6.4a\\nCDP\\nPage \\n of \\n133\\n28\\n\\nfilename: Apple_CDP-Climate-Change-Questionnaire_2023.pdf; page: 26.0\\nScope 3 category 3: Fuel-and-energy-related activities \u001b[0m\u001b[32m(\u001b[0m\u001b[32mnot included in Scope 1 or 2\u001b[0m\u001b[32m)\u001b[0m\u001b[32m\\nBase year start\\nSeptember 28 2014\\nBase year end\\nSeptember 27 2015\\nBase year emissions \u001b[0m\u001b[32m(\u001b[0m\u001b[32mmetric tons CO2e\u001b[0m\u001b[32m)\u001b[0m\u001b[32m\\n0\\nComment\\nThis Scope 3 emissions category was excluded from our baseline emissions, thus assumed to be 0.\\nScope 3 category 4: Upstream transportation and distribution\\nBase year start\\nSeptember 28 2014\\nBase year end\\nSeptember 27 2015\\nBase year emissions \u001b[0m\u001b[32m(\u001b[0m\u001b[32mmetric tons CO2e\u001b[0m\u001b[32m)\u001b[0m\u001b[32m\\n370000\\nComment\\nScope 3 category 5: Waste generated in operations\\nBase year start\\nBase year end\\nBase year emissions \u001b[0m\u001b[32m(\u001b[0m\u001b[32mmetric tons CO2e\u001b[0m\u001b[32m)\u001b[0m\u001b[32m\\nComment\\nScope 3 category 6: Business travel\\nBase year start\\nSeptember 28 2014\\nBase year end\\nSeptember 27 2015\\nBase year emissions \u001b[0m\u001b[32m(\u001b[0m\u001b[32mmetric tons CO2e\u001b[0m\u001b[32m)\u001b[0m\u001b[32m\\n139940\\nComment\\nScope 3 category 7: Employee commuting\\nBase year start\\nSeptember 28 2014\\nBase year end\\nSeptember 27 2015\\nBase year emissions \u001b[0m\u001b[32m(\u001b[0m\u001b[32mmetric tons CO2e\u001b[0m\u001b[32m)\u001b[0m\u001b[32m\\n172970\\nComment\\nScope 3 category 8: Upstream leased assets\\nBase year start\\nBase year end\\nBase year emissions \u001b[0m\u001b[32m(\u001b[0m\u001b[32mmetric tons CO2e\u001b[0m\u001b[32m)\u001b[0m\u001b[32m\\nComment\\nScope 3 category 9: Downstream transportation and distribution\\nBase year start\\nSeptember 28 2014\\nBase year end\\nSeptember 27 2015\\nBase year emissions \u001b[0m\u001b[32m(\u001b[0m\u001b[32mmetric tons CO2e\u001b[0m\u001b[32m)\u001b[0m\u001b[32m\\n1300000\\nComment\\nScope 3 category 10: Processing of sold products\\nBase year start\\nBase year end\\nBase year emissions \u001b[0m\u001b[32m(\u001b[0m\u001b[32mmetric tons CO2e\u001b[0m\u001b[32m)\u001b[0m\u001b[32m\\nComment\\nCDP\\nPage \\n of \\n133\\n26\\n\\n'\u001b[0m\u001b[39m,\u001b[0m\n",
       "\u001b[39m    \u001b[0m\u001b[32m'prompt'\u001b[0m\u001b[39m: \u001b[0m\u001b[1;35mChatPromptValue\u001b[0m\u001b[1;39m(\u001b[0m\n",
       "\u001b[39m        \u001b[0m\u001b[33mmessages\u001b[0m\u001b[39m=\u001b[0m\u001b[1;39m[\u001b[0m\n",
       "\u001b[39m            \u001b[0m\u001b[1;35mHumanMessage\u001b[0m\u001b[1;39m(\u001b[0m\n",
       "\u001b[39m                \u001b[0m\u001b[33mcontent\u001b[0m\u001b[39m=\u001b[0m\u001b[32m\"You\u001b[0m\u001b[32m're an ESG analyst. You're ask to extract information from the provided context.\\n                Only use the available information to answer the question. Do not add any additional information.\\n\\n                Question: What is the GHG scope 1 emission of the company?\\n\\n                -----------\\n                Context: filename: Apple_CDP-Climate-Change-Questionnaire_2023.pdf; page: 28.0\\n\u001b[0m\u001b[32m(\u001b[0m\u001b[32mC6.1\u001b[0m\u001b[32m)\u001b[0m\u001b[32m What were your organization’s gross global Scope 1 emissions in metric tons CO2e?\\nReporting year\\nGross global Scope 1 emissions \u001b[0m\u001b[32m(\u001b[0m\u001b[32mmetric tons CO2e\u001b[0m\u001b[32m)\u001b[0m\u001b[32m\\n55200\\nStart date\\n<Not Applicable>\\nEnd date\\n<Not Applicable>\\nComment\\nC6.2\\n\u001b[0m\u001b[32m(\u001b[0m\u001b[32mC6.2\u001b[0m\u001b[32m)\u001b[0m\u001b[32m Describe your organization’s approach to reporting Scope 2 emissions.\\nRow 1\\n\\u200b\\nScope 2, location-based\\n\\u200b\\nWe are reporting a Scope 2, location-based figure\\nScope 2, market-based\\nWe are reporting a Scope 2, market-based figure\\nComment\\nWe believe our market-based Scope 2 emissions figure most accurately represents our emissions profile since generating and sourcing renewable energy is a key aspect\\nof our environmental strategy.\\nC6.3\\n\u001b[0m\u001b[32m(\u001b[0m\u001b[32mC6.3\u001b[0m\u001b[32m)\u001b[0m\u001b[32m What were your organization’s gross global Scope 2 emissions in metric tons CO2e?\\nReporting year\\nScope 2, location-based\\n1065405\\nScope 2, market-based \u001b[0m\u001b[32m(\u001b[0m\u001b[32mif applicable\u001b[0m\u001b[32m)\u001b[0m\u001b[32m\\n3000\\nStart date\\n<Not Applicable>\\nEnd date\\n<Not Applicable\u001b[0m\u001b[32m>\u001b[0m\u001b[32m\\nComment\\nC6.4\\n\u001b[0m\u001b[32m(\u001b[0m\u001b[32mC6.4\u001b[0m\u001b[32m)\u001b[0m\u001b[32m Are there any sources \u001b[0m\u001b[32m(\u001b[0m\u001b[32me.g. facilities, specific GHGs, activities, geographies, etc.\u001b[0m\u001b[32m)\u001b[0m\u001b[32m of Scope 1, Scope 2 or Scope 3 emissions that are within your selected\\nreporting boundary which are not included in your disclosure?\\nYes\\nC6.4a\\nCDP\\nPage \\n of \\n133\\n28\\n\\nfilename: Apple_CDP-Climate-Change-Questionnaire_2023.pdf; page: 26.0\\nScope 3 category 3: Fuel-and-energy-related activities \u001b[0m\u001b[32m(\u001b[0m\u001b[32mnot included in Scope 1 or 2\u001b[0m\u001b[32m)\u001b[0m\u001b[32m\\nBase year start\\nSeptember 28 2014\\nBase year end\\nSeptember 27 2015\\nBase year emissions \u001b[0m\u001b[32m(\u001b[0m\u001b[32mmetric tons CO2e\u001b[0m\u001b[32m)\u001b[0m\u001b[32m\\n0\\nComment\\nThis Scope 3 emissions category was excluded from our baseline emissions, thus assumed to be 0.\\nScope 3 category 4: Upstream transportation and distribution\\nBase year start\\nSeptember 28 2014\\nBase year end\\nSeptember 27 2015\\nBase year emissions \u001b[0m\u001b[32m(\u001b[0m\u001b[32mmetric tons CO2e\u001b[0m\u001b[32m)\u001b[0m\u001b[32m\\n370000\\nComment\\nScope 3 category 5: Waste generated in operations\\nBase year start\\nBase year end\\nBase year emissions \u001b[0m\u001b[32m(\u001b[0m\u001b[32mmetric tons CO2e\u001b[0m\u001b[32m)\u001b[0m\u001b[32m\\nComment\\nScope 3 category 6: Business travel\\nBase year start\\nSeptember 28 2014\\nBase year end\\nSeptember 27 2015\\nBase year emissions \u001b[0m\u001b[32m(\u001b[0m\u001b[32mmetric tons CO2e\u001b[0m\u001b[32m)\u001b[0m\u001b[32m\\n139940\\nComment\\nScope 3 category 7: Employee commuting\\nBase year start\\nSeptember 28 2014\\nBase year end\\nSeptember 27 2015\\nBase year emissions \u001b[0m\u001b[32m(\u001b[0m\u001b[32mmetric tons CO2e\u001b[0m\u001b[32m)\u001b[0m\u001b[32m\\n172970\\nComment\\nScope 3 category 8: Upstream leased assets\\nBase year start\\nBase year end\\nBase year emissions \u001b[0m\u001b[32m(\u001b[0m\u001b[32mmetric tons CO2e\u001b[0m\u001b[32m)\u001b[0m\u001b[32m\\nComment\\nScope 3 category 9: Downstream transportation and distribution\\nBase year start\\nSeptember 28 2014\\nBase year end\\nSeptember 27 2015\\nBase year emissions \u001b[0m\u001b[32m(\u001b[0m\u001b[32mmetric tons CO2e\u001b[0m\u001b[32m)\u001b[0m\u001b[32m\\n1300000\\nComment\\nScope 3 category 10: Processing of sold products\\nBase year start\\nBase year end\\nBase year emissions \u001b[0m\u001b[32m(\u001b[0m\u001b[32mmetric tons CO2e\u001b[0m\u001b[32m)\u001b[0m\u001b[32m\\nComment\\nCDP\\nPage \\n of \\n133\\n26\\n\\n\\n                -----------\\n\\n                Answer:\\n                \"\u001b[0m,\n",
       "                \u001b[33madditional_kwargs\u001b[0m=\u001b[1m{\u001b[0m\u001b[1m}\u001b[0m,\n",
       "                \u001b[33mresponse_metadata\u001b[0m=\u001b[1m{\u001b[0m\u001b[1m}\u001b[0m\n",
       "            \u001b[1m)\u001b[0m\n",
       "        \u001b[1m]\u001b[0m\n",
       "    \u001b[1m)\u001b[0m,\n",
       "    \u001b[32m'response'\u001b[0m: \u001b[32m'The GHG scope 1 emission of the company is 55,200 metric tons CO2e.'\u001b[0m\n",
       "\u001b[1m}\u001b[0m"
      ]
     },
     "execution_count": 28,
     "metadata": {},
     "output_type": "execute_result"
    }
   ],
   "source": [
    "chain.invoke({'question': 'What is the GHG scope 1 emission of the company?'})"
   ]
  },
  {
   "cell_type": "code",
   "execution_count": 30,
   "id": "f1d46a62-04fb-4a2a-9e1e-559fad299d67",
   "metadata": {
    "scrolled": true
   },
   "outputs": [
    {
     "data": {
      "text/html": [
       "<pre style=\"white-space:pre;overflow-x:auto;line-height:normal;font-family:Menlo,'DejaVu Sans Mono',consolas,'Courier New',monospace\"></pre>\n"
      ],
      "text/plain": []
     },
     "metadata": {},
     "output_type": "display_data"
    },
    {
     "data": {
      "text/plain": [
       "\n",
       "\u001b[1m{\u001b[0m\n",
       "    \u001b[32m'question'\u001b[0m: \u001b[32m'What is the GHG scope 1 emission of the company?'\u001b[0m,\n",
       "    \u001b[32m'source_documents'\u001b[0m: \u001b[1m[\u001b[0m\n",
       "        \u001b[1;35mDocument\u001b[0m\u001b[1m(\u001b[0m\n",
       "            \u001b[33mmetadata\u001b[0m=\u001b[1m{\u001b[0m\u001b[32m'page'\u001b[0m: \u001b[1;36m28.0\u001b[0m, \u001b[32m'filename'\u001b[0m: \u001b[32m'Apple_CDP-Climate-Change-Questionnaire_2023.pdf'\u001b[0m\u001b[1m}\u001b[0m,\n",
       "            \u001b[33mpage_content\u001b[0m=\u001b[32m'\u001b[0m\u001b[32m(\u001b[0m\u001b[32mC6.1\u001b[0m\u001b[32m)\u001b[0m\u001b[32m What were your organization’s gross global Scope 1 emissions in metric tons CO2e?\\nReporting year\\nGross global Scope 1 emissions \u001b[0m\u001b[32m(\u001b[0m\u001b[32mmetric tons CO2e\u001b[0m\u001b[32m)\u001b[0m\u001b[32m\\n55200\\nStart date\\n\u001b[0m\u001b[32m<\u001b[0m\u001b[32mNot\u001b[0m\u001b[32m Applicable>\\nEnd date\\n<Not Applicable>\\nComment\\nC6.2\\n\u001b[0m\u001b[32m(\u001b[0m\u001b[32mC6.2\u001b[0m\u001b[32m)\u001b[0m\u001b[32m Describe your organization’s approach to reporting Scope 2 emissions.\\nRow 1\\n\\u200b\\nScope 2, location-based\\n\\u200b\\nWe are reporting a Scope 2, location-based figure\\nScope 2, market-based\\nWe are reporting a Scope 2, market-based figure\\nComment\\nWe believe our market-based Scope 2 emissions figure most accurately represents our emissions profile since generating and sourcing renewable energy is a key aspect\\nof our environmental strategy.\\nC6.3\\n\u001b[0m\u001b[32m(\u001b[0m\u001b[32mC6.3\u001b[0m\u001b[32m)\u001b[0m\u001b[32m What were your organization’s gross global Scope 2 emissions in metric tons CO2e?\\nReporting year\\nScope 2, location-based\\n1065405\\nScope 2, market-based \u001b[0m\u001b[32m(\u001b[0m\u001b[32mif applicable\u001b[0m\u001b[32m)\u001b[0m\u001b[32m\\n3000\\nStart date\\n<Not Applicable>\\nEnd date\\n<Not Applicable>\\nComment\\nC6.4\\n\u001b[0m\u001b[32m(\u001b[0m\u001b[32mC6.4\u001b[0m\u001b[32m)\u001b[0m\u001b[32m Are there any sources \u001b[0m\u001b[32m(\u001b[0m\u001b[32me.g. facilities, specific GHGs, activities, geographies, etc.\u001b[0m\u001b[32m)\u001b[0m\u001b[32m of Scope 1, Scope 2 or Scope 3 emissions that are within your selected\\nreporting boundary which are not included in your disclosure?\\nYes\\nC6.4a\\nCDP\\nPage \\n of \\n133\\n28'\u001b[0m\n",
       "\u001b[39m        \u001b[0m\u001b[1;39m)\u001b[0m\u001b[39m,\u001b[0m\n",
       "\u001b[39m        \u001b[0m\u001b[1;35mDocument\u001b[0m\u001b[1;39m(\u001b[0m\n",
       "\u001b[39m            \u001b[0m\u001b[33mmetadata\u001b[0m\u001b[39m=\u001b[0m\u001b[1;39m{\u001b[0m\u001b[32m'page'\u001b[0m\u001b[39m: \u001b[0m\u001b[1;36m26.0\u001b[0m\u001b[39m, \u001b[0m\u001b[32m'filename'\u001b[0m\u001b[39m: \u001b[0m\u001b[32m'Apple_CDP-Climate-Change-Questionnaire_2023.pdf'\u001b[0m\u001b[1;39m}\u001b[0m\u001b[39m,\u001b[0m\n",
       "\u001b[39m            \u001b[0m\u001b[33mpage_content\u001b[0m\u001b[39m=\u001b[0m\u001b[32m'Scope 3 category 3: Fuel-and-energy-related activities \u001b[0m\u001b[32m(\u001b[0m\u001b[32mnot included in Scope 1 or 2\u001b[0m\u001b[32m)\u001b[0m\u001b[32m\\nBase year start\\nSeptember 28 2014\\nBase year end\\nSeptember 27 2015\\nBase year emissions \u001b[0m\u001b[32m(\u001b[0m\u001b[32mmetric tons CO2e\u001b[0m\u001b[32m)\u001b[0m\u001b[32m\\n0\\nComment\\nThis Scope 3 emissions category was excluded from our baseline emissions, thus assumed to be 0.\\nScope 3 category 4: Upstream transportation and distribution\\nBase year start\\nSeptember 28 2014\\nBase year end\\nSeptember 27 2015\\nBase year emissions \u001b[0m\u001b[32m(\u001b[0m\u001b[32mmetric tons CO2e\u001b[0m\u001b[32m)\u001b[0m\u001b[32m\\n370000\\nComment\\nScope 3 category 5: Waste generated in operations\\nBase year start\\nBase year end\\nBase year emissions \u001b[0m\u001b[32m(\u001b[0m\u001b[32mmetric tons CO2e\u001b[0m\u001b[32m)\u001b[0m\u001b[32m\\nComment\\nScope 3 category 6: Business travel\\nBase year start\\nSeptember 28 2014\\nBase year end\\nSeptember 27 2015\\nBase year emissions \u001b[0m\u001b[32m(\u001b[0m\u001b[32mmetric tons CO2e\u001b[0m\u001b[32m)\u001b[0m\u001b[32m\\n139940\\nComment\\nScope 3 category 7: Employee commuting\\nBase year start\\nSeptember 28 2014\\nBase year end\\nSeptember 27 2015\\nBase year emissions \u001b[0m\u001b[32m(\u001b[0m\u001b[32mmetric tons CO2e\u001b[0m\u001b[32m)\u001b[0m\u001b[32m\\n172970\\nComment\\nScope 3 category 8: Upstream leased assets\\nBase year start\\nBase year end\\nBase year emissions \u001b[0m\u001b[32m(\u001b[0m\u001b[32mmetric tons CO2e\u001b[0m\u001b[32m)\u001b[0m\u001b[32m\\nComment\\nScope 3 category 9: Downstream transportation and distribution\\nBase year start\\nSeptember 28 2014\\nBase year end\\nSeptember 27 2015\\nBase year emissions \u001b[0m\u001b[32m(\u001b[0m\u001b[32mmetric tons CO2e\u001b[0m\u001b[32m)\u001b[0m\u001b[32m\\n1300000\\nComment\\nScope 3 category 10: Processing of sold products\\nBase year start\\nBase year end\\nBase year emissions \u001b[0m\u001b[32m(\u001b[0m\u001b[32mmetric tons CO2e\u001b[0m\u001b[32m)\u001b[0m\u001b[32m\\nComment\\nCDP\\nPage \\n of \\n133\\n26'\u001b[0m\n",
       "\u001b[39m        \u001b[0m\u001b[1;39m)\u001b[0m\n",
       "\u001b[39m    \u001b[0m\u001b[1;39m]\u001b[0m\u001b[39m,\u001b[0m\n",
       "\u001b[39m    \u001b[0m\u001b[32m'context'\u001b[0m\u001b[39m: \u001b[0m\u001b[32m'filename: Apple_CDP-Climate-Change-Questionnaire_2023.pdf; page: 28.0\\n\u001b[0m\u001b[32m(\u001b[0m\u001b[32mC6.1\u001b[0m\u001b[32m)\u001b[0m\u001b[32m What were your organization’s gross global Scope 1 emissions in metric tons CO2e?\\nReporting year\\nGross global Scope 1 emissions \u001b[0m\u001b[32m(\u001b[0m\u001b[32mmetric tons CO2e\u001b[0m\u001b[32m)\u001b[0m\u001b[32m\\n55200\\nStart date\\n<Not Applicable>\\nEnd date\\n<Not Applicable>\\nComment\\nC6.2\\n\u001b[0m\u001b[32m(\u001b[0m\u001b[32mC6.2\u001b[0m\u001b[32m)\u001b[0m\u001b[32m Describe your organization’s approach to reporting Scope 2 emissions.\\nRow 1\\n\\u200b\\nScope 2, location-based\\n\\u200b\\nWe are reporting a Scope 2, location-based figure\\nScope 2, market-based\\nWe are reporting a Scope 2, market-based figure\\nComment\\nWe believe our market-based Scope 2 emissions figure most accurately represents our emissions profile since generating and sourcing renewable energy is a key aspect\\nof our environmental strategy.\\nC6.3\\n\u001b[0m\u001b[32m(\u001b[0m\u001b[32mC6.3\u001b[0m\u001b[32m)\u001b[0m\u001b[32m What were your organization’s gross global Scope 2 emissions in metric tons CO2e?\\nReporting year\\nScope 2, location-based\\n1065405\\nScope 2, market-based \u001b[0m\u001b[32m(\u001b[0m\u001b[32mif applicable\u001b[0m\u001b[32m)\u001b[0m\u001b[32m\\n3000\\nStart date\\n<Not Applicable>\\nEnd date\\n<Not Applicable\u001b[0m\u001b[32m>\u001b[0m\u001b[32m\\nComment\\nC6.4\\n\u001b[0m\u001b[32m(\u001b[0m\u001b[32mC6.4\u001b[0m\u001b[32m)\u001b[0m\u001b[32m Are there any sources \u001b[0m\u001b[32m(\u001b[0m\u001b[32me.g. facilities, specific GHGs, activities, geographies, etc.\u001b[0m\u001b[32m)\u001b[0m\u001b[32m of Scope 1, Scope 2 or Scope 3 emissions that are within your selected\\nreporting boundary which are not included in your disclosure?\\nYes\\nC6.4a\\nCDP\\nPage \\n of \\n133\\n28\\n\\nfilename: Apple_CDP-Climate-Change-Questionnaire_2023.pdf; page: 26.0\\nScope 3 category 3: Fuel-and-energy-related activities \u001b[0m\u001b[32m(\u001b[0m\u001b[32mnot included in Scope 1 or 2\u001b[0m\u001b[32m)\u001b[0m\u001b[32m\\nBase year start\\nSeptember 28 2014\\nBase year end\\nSeptember 27 2015\\nBase year emissions \u001b[0m\u001b[32m(\u001b[0m\u001b[32mmetric tons CO2e\u001b[0m\u001b[32m)\u001b[0m\u001b[32m\\n0\\nComment\\nThis Scope 3 emissions category was excluded from our baseline emissions, thus assumed to be 0.\\nScope 3 category 4: Upstream transportation and distribution\\nBase year start\\nSeptember 28 2014\\nBase year end\\nSeptember 27 2015\\nBase year emissions \u001b[0m\u001b[32m(\u001b[0m\u001b[32mmetric tons CO2e\u001b[0m\u001b[32m)\u001b[0m\u001b[32m\\n370000\\nComment\\nScope 3 category 5: Waste generated in operations\\nBase year start\\nBase year end\\nBase year emissions \u001b[0m\u001b[32m(\u001b[0m\u001b[32mmetric tons CO2e\u001b[0m\u001b[32m)\u001b[0m\u001b[32m\\nComment\\nScope 3 category 6: Business travel\\nBase year start\\nSeptember 28 2014\\nBase year end\\nSeptember 27 2015\\nBase year emissions \u001b[0m\u001b[32m(\u001b[0m\u001b[32mmetric tons CO2e\u001b[0m\u001b[32m)\u001b[0m\u001b[32m\\n139940\\nComment\\nScope 3 category 7: Employee commuting\\nBase year start\\nSeptember 28 2014\\nBase year end\\nSeptember 27 2015\\nBase year emissions \u001b[0m\u001b[32m(\u001b[0m\u001b[32mmetric tons CO2e\u001b[0m\u001b[32m)\u001b[0m\u001b[32m\\n172970\\nComment\\nScope 3 category 8: Upstream leased assets\\nBase year start\\nBase year end\\nBase year emissions \u001b[0m\u001b[32m(\u001b[0m\u001b[32mmetric tons CO2e\u001b[0m\u001b[32m)\u001b[0m\u001b[32m\\nComment\\nScope 3 category 9: Downstream transportation and distribution\\nBase year start\\nSeptember 28 2014\\nBase year end\\nSeptember 27 2015\\nBase year emissions \u001b[0m\u001b[32m(\u001b[0m\u001b[32mmetric tons CO2e\u001b[0m\u001b[32m)\u001b[0m\u001b[32m\\n1300000\\nComment\\nScope 3 category 10: Processing of sold products\\nBase year start\\nBase year end\\nBase year emissions \u001b[0m\u001b[32m(\u001b[0m\u001b[32mmetric tons CO2e\u001b[0m\u001b[32m)\u001b[0m\u001b[32m\\nComment\\nCDP\\nPage \\n of \\n133\\n26\\n\\n'\u001b[0m\n",
       "\u001b[1m}\u001b[0m"
      ]
     },
     "execution_count": 30,
     "metadata": {},
     "output_type": "execute_result"
    }
   ],
   "source": [
    "# We could also access each subchain individually like this\n",
    "retrieval_chain = retrieval_builder.build()\n",
    "retrieval_chain.invoke({'question': 'What is the GHG scope 1 emission of the company?'})"
   ]
  },
  {
   "cell_type": "code",
   "execution_count": 16,
   "id": "347c5833-3983-4b26-9566-8591665c4ace",
   "metadata": {},
   "outputs": [
    {
     "data": {
      "text/html": [
       "<pre style=\"white-space:pre;overflow-x:auto;line-height:normal;font-family:Menlo,'DejaVu Sans Mono',consolas,'Courier New',monospace\"></pre>\n"
      ],
      "text/plain": []
     },
     "metadata": {},
     "output_type": "display_data"
    },
    {
     "data": {
      "text/plain": [
       "\u001b[1m[\u001b[0m\u001b[32m'QA'\u001b[0m, \u001b[32m'EXTRACTION'\u001b[0m, \u001b[32m'RELEVANCE'\u001b[0m, \u001b[32m'VALIDATION'\u001b[0m, \u001b[32m'IMAGE'\u001b[0m, \u001b[32m'EXTRACTION_IMAGE'\u001b[0m\u001b[1m]\u001b[0m"
      ]
     },
     "execution_count": 16,
     "metadata": {},
     "output_type": "execute_result"
    }
   ],
   "source": [
    "list(ChainComponent.__members__)"
   ]
  },
  {
   "cell_type": "markdown",
   "id": "7cac4094-163a-46ea-ab63-6d44776103f3",
   "metadata": {},
   "source": [
    "### Structured Output Chain\n",
    "\n",
    "A typical case, is when we want to have structured output, and not simply a string.\n",
    "\n",
    "For that, the `STRUCTURED_OUTPUT` is available. First define a `pydantic` class, with the expected fields.\n",
    "When we expect to have multiple output, here, multiple instances of a same class, it is better to create another class that will store all of them."
   ]
  },
  {
   "cell_type": "code",
   "execution_count": 31,
   "id": "0deda433-ff52-4d29-bd6e-d6448f57efd2",
   "metadata": {},
   "outputs": [],
   "source": [
    "class GhgEmission(BaseModel):\n",
    "    \"\"\"Ghg emission of a company for a given year and a given scope\"\"\"\n",
    "    scope: Literal[\"scope1\", \"scope2_location_based\", \"scope2_market_based\", \"scope3\"]\n",
    "    year: int\n",
    "    value: float\n",
    "    unit: str\n",
    "\n",
    "class GhgEmissionData(BaseModel):\n",
    "    \"\"\"Ghg emission data for a company for each scope and for different year\"\"\"\n",
    "\n",
    "    data: list[GhgEmission]"
   ]
  },
  {
   "cell_type": "code",
   "execution_count": 32,
   "id": "ac67e5d7-5fd5-428d-8c87-b0591edc76da",
   "metadata": {
    "scrolled": true
   },
   "outputs": [
    {
     "data": {
      "text/html": [
       "<pre style=\"white-space:pre;overflow-x:auto;line-height:normal;font-family:Menlo,'DejaVu Sans Mono',consolas,'Courier New',monospace\"></pre>\n"
      ],
      "text/plain": []
     },
     "metadata": {},
     "output_type": "display_data"
    },
    {
     "data": {
      "text/plain": [
       "\n",
       "\u001b[1m{\u001b[0m\n",
       "    \u001b[32m'question'\u001b[0m: \u001b[32m'What is the GHG scope 1 emission of the company?'\u001b[0m,\n",
       "    \u001b[32m'source_documents'\u001b[0m: \u001b[1m[\u001b[0m\n",
       "        \u001b[1;35mDocument\u001b[0m\u001b[1m(\u001b[0m\n",
       "            \u001b[33mmetadata\u001b[0m=\u001b[1m{\u001b[0m\u001b[32m'page'\u001b[0m: \u001b[1;36m28.0\u001b[0m, \u001b[32m'filename'\u001b[0m: \u001b[32m'Apple_CDP-Climate-Change-Questionnaire_2023.pdf'\u001b[0m\u001b[1m}\u001b[0m,\n",
       "            \u001b[33mpage_content\u001b[0m=\u001b[32m'\u001b[0m\u001b[32m(\u001b[0m\u001b[32mC6.1\u001b[0m\u001b[32m)\u001b[0m\u001b[32m What were your organization’s gross global Scope 1 emissions in metric tons CO2e?\\nReporting year\\nGross global Scope 1 emissions \u001b[0m\u001b[32m(\u001b[0m\u001b[32mmetric tons CO2e\u001b[0m\u001b[32m)\u001b[0m\u001b[32m\\n55200\\nStart date\\n\u001b[0m\u001b[32m<\u001b[0m\u001b[32mNot\u001b[0m\u001b[32m Applicable>\\nEnd date\\n<Not Applicable>\\nComment\\nC6.2\\n\u001b[0m\u001b[32m(\u001b[0m\u001b[32mC6.2\u001b[0m\u001b[32m)\u001b[0m\u001b[32m Describe your organization’s approach to reporting Scope 2 emissions.\\nRow 1\\n\\u200b\\nScope 2, location-based\\n\\u200b\\nWe are reporting a Scope 2, location-based figure\\nScope 2, market-based\\nWe are reporting a Scope 2, market-based figure\\nComment\\nWe believe our market-based Scope 2 emissions figure most accurately represents our emissions profile since generating and sourcing renewable energy is a key aspect\\nof our environmental strategy.\\nC6.3\\n\u001b[0m\u001b[32m(\u001b[0m\u001b[32mC6.3\u001b[0m\u001b[32m)\u001b[0m\u001b[32m What were your organization’s gross global Scope 2 emissions in metric tons CO2e?\\nReporting year\\nScope 2, location-based\\n1065405\\nScope 2, market-based \u001b[0m\u001b[32m(\u001b[0m\u001b[32mif applicable\u001b[0m\u001b[32m)\u001b[0m\u001b[32m\\n3000\\nStart date\\n<Not Applicable>\\nEnd date\\n<Not Applicable>\\nComment\\nC6.4\\n\u001b[0m\u001b[32m(\u001b[0m\u001b[32mC6.4\u001b[0m\u001b[32m)\u001b[0m\u001b[32m Are there any sources \u001b[0m\u001b[32m(\u001b[0m\u001b[32me.g. facilities, specific GHGs, activities, geographies, etc.\u001b[0m\u001b[32m)\u001b[0m\u001b[32m of Scope 1, Scope 2 or Scope 3 emissions that are within your selected\\nreporting boundary which are not included in your disclosure?\\nYes\\nC6.4a\\nCDP\\nPage \\n of \\n133\\n28'\u001b[0m\n",
       "\u001b[39m        \u001b[0m\u001b[1;39m)\u001b[0m\u001b[39m,\u001b[0m\n",
       "\u001b[39m        \u001b[0m\u001b[1;35mDocument\u001b[0m\u001b[1;39m(\u001b[0m\n",
       "\u001b[39m            \u001b[0m\u001b[33mmetadata\u001b[0m\u001b[39m=\u001b[0m\u001b[1;39m{\u001b[0m\u001b[32m'page'\u001b[0m\u001b[39m: \u001b[0m\u001b[1;36m26.0\u001b[0m\u001b[39m, \u001b[0m\u001b[32m'filename'\u001b[0m\u001b[39m: \u001b[0m\u001b[32m'Apple_CDP-Climate-Change-Questionnaire_2023.pdf'\u001b[0m\u001b[1;39m}\u001b[0m\u001b[39m,\u001b[0m\n",
       "\u001b[39m            \u001b[0m\u001b[33mpage_content\u001b[0m\u001b[39m=\u001b[0m\u001b[32m'Scope 3 category 3: Fuel-and-energy-related activities \u001b[0m\u001b[32m(\u001b[0m\u001b[32mnot included in Scope 1 or 2\u001b[0m\u001b[32m)\u001b[0m\u001b[32m\\nBase year start\\nSeptember 28 2014\\nBase year end\\nSeptember 27 2015\\nBase year emissions \u001b[0m\u001b[32m(\u001b[0m\u001b[32mmetric tons CO2e\u001b[0m\u001b[32m)\u001b[0m\u001b[32m\\n0\\nComment\\nThis Scope 3 emissions category was excluded from our baseline emissions, thus assumed to be 0.\\nScope 3 category 4: Upstream transportation and distribution\\nBase year start\\nSeptember 28 2014\\nBase year end\\nSeptember 27 2015\\nBase year emissions \u001b[0m\u001b[32m(\u001b[0m\u001b[32mmetric tons CO2e\u001b[0m\u001b[32m)\u001b[0m\u001b[32m\\n370000\\nComment\\nScope 3 category 5: Waste generated in operations\\nBase year start\\nBase year end\\nBase year emissions \u001b[0m\u001b[32m(\u001b[0m\u001b[32mmetric tons CO2e\u001b[0m\u001b[32m)\u001b[0m\u001b[32m\\nComment\\nScope 3 category 6: Business travel\\nBase year start\\nSeptember 28 2014\\nBase year end\\nSeptember 27 2015\\nBase year emissions \u001b[0m\u001b[32m(\u001b[0m\u001b[32mmetric tons CO2e\u001b[0m\u001b[32m)\u001b[0m\u001b[32m\\n139940\\nComment\\nScope 3 category 7: Employee commuting\\nBase year start\\nSeptember 28 2014\\nBase year end\\nSeptember 27 2015\\nBase year emissions \u001b[0m\u001b[32m(\u001b[0m\u001b[32mmetric tons CO2e\u001b[0m\u001b[32m)\u001b[0m\u001b[32m\\n172970\\nComment\\nScope 3 category 8: Upstream leased assets\\nBase year start\\nBase year end\\nBase year emissions \u001b[0m\u001b[32m(\u001b[0m\u001b[32mmetric tons CO2e\u001b[0m\u001b[32m)\u001b[0m\u001b[32m\\nComment\\nScope 3 category 9: Downstream transportation and distribution\\nBase year start\\nSeptember 28 2014\\nBase year end\\nSeptember 27 2015\\nBase year emissions \u001b[0m\u001b[32m(\u001b[0m\u001b[32mmetric tons CO2e\u001b[0m\u001b[32m)\u001b[0m\u001b[32m\\n1300000\\nComment\\nScope 3 category 10: Processing of sold products\\nBase year start\\nBase year end\\nBase year emissions \u001b[0m\u001b[32m(\u001b[0m\u001b[32mmetric tons CO2e\u001b[0m\u001b[32m)\u001b[0m\u001b[32m\\nComment\\nCDP\\nPage \\n of \\n133\\n26'\u001b[0m\n",
       "\u001b[39m        \u001b[0m\u001b[1;39m)\u001b[0m\n",
       "\u001b[39m    \u001b[0m\u001b[1;39m]\u001b[0m\u001b[39m,\u001b[0m\n",
       "\u001b[39m    \u001b[0m\u001b[32m'context'\u001b[0m\u001b[39m: \u001b[0m\u001b[32m'filename: Apple_CDP-Climate-Change-Questionnaire_2023.pdf; page: 28.0\\n\u001b[0m\u001b[32m(\u001b[0m\u001b[32mC6.1\u001b[0m\u001b[32m)\u001b[0m\u001b[32m What were your organization’s gross global Scope 1 emissions in metric tons CO2e?\\nReporting year\\nGross global Scope 1 emissions \u001b[0m\u001b[32m(\u001b[0m\u001b[32mmetric tons CO2e\u001b[0m\u001b[32m)\u001b[0m\u001b[32m\\n55200\\nStart date\\n<Not Applicable>\\nEnd date\\n<Not Applicable>\\nComment\\nC6.2\\n\u001b[0m\u001b[32m(\u001b[0m\u001b[32mC6.2\u001b[0m\u001b[32m)\u001b[0m\u001b[32m Describe your organization’s approach to reporting Scope 2 emissions.\\nRow 1\\n\\u200b\\nScope 2, location-based\\n\\u200b\\nWe are reporting a Scope 2, location-based figure\\nScope 2, market-based\\nWe are reporting a Scope 2, market-based figure\\nComment\\nWe believe our market-based Scope 2 emissions figure most accurately represents our emissions profile since generating and sourcing renewable energy is a key aspect\\nof our environmental strategy.\\nC6.3\\n\u001b[0m\u001b[32m(\u001b[0m\u001b[32mC6.3\u001b[0m\u001b[32m)\u001b[0m\u001b[32m What were your organization’s gross global Scope 2 emissions in metric tons CO2e?\\nReporting year\\nScope 2, location-based\\n1065405\\nScope 2, market-based \u001b[0m\u001b[32m(\u001b[0m\u001b[32mif applicable\u001b[0m\u001b[32m)\u001b[0m\u001b[32m\\n3000\\nStart date\\n<Not Applicable>\\nEnd date\\n<Not Applicable>\\nComment\\nC6.4\\n\u001b[0m\u001b[32m(\u001b[0m\u001b[32mC6.4\u001b[0m\u001b[32m)\u001b[0m\u001b[32m Are there any sources \u001b[0m\u001b[32m(\u001b[0m\u001b[32me.g. facilities, specific GHGs, activities, geographies, etc.\u001b[0m\u001b[32m)\u001b[0m\u001b[32m of Scope 1, Scope 2 or Scope 3 emissions that are within your selected\\nreporting boundary which are not included in your disclosure?\\nYes\\nC6.4a\\nCDP\\nPage \\n of \\n133\\n28\\n\\nfilename: Apple_CDP-Climate-Change-Questionnaire_2023.pdf; page: 26.0\\nScope 3 category 3: Fuel-and-energy-related activities \u001b[0m\u001b[32m(\u001b[0m\u001b[32mnot included in Scope 1 or 2\u001b[0m\u001b[32m)\u001b[0m\u001b[32m\\nBase year start\\nSeptember 28 2014\\nBase year end\\nSeptember 27 2015\\nBase year emissions \u001b[0m\u001b[32m(\u001b[0m\u001b[32mmetric tons CO2e\u001b[0m\u001b[32m)\u001b[0m\u001b[32m\\n0\\nComment\\nThis Scope 3 emissions category was excluded from our baseline emissions, thus assumed to be 0.\\nScope 3 category 4: Upstream transportation and distribution\\nBase year start\\nSeptember 28 2014\\nBase year end\\nSeptember 27 2015\\nBase year emissions \u001b[0m\u001b[32m(\u001b[0m\u001b[32mmetric tons CO2e\u001b[0m\u001b[32m)\u001b[0m\u001b[32m\\n370000\\nComment\\nScope 3 category 5: Waste generated in operations\\nBase year start\\nBase year end\\nBase year emissions \u001b[0m\u001b[32m(\u001b[0m\u001b[32mmetric tons CO2e\u001b[0m\u001b[32m)\u001b[0m\u001b[32m\\nComment\\nScope 3 category 6: Business travel\\nBase year start\\nSeptember 28 2014\\nBase year end\\nSeptember 27 2015\\nBase year emissions \u001b[0m\u001b[32m(\u001b[0m\u001b[32mmetric tons CO2e\u001b[0m\u001b[32m)\u001b[0m\u001b[32m\\n139940\\nComment\\nScope 3 category 7: Employee commuting\\nBase year start\\nSeptember 28 2014\\nBase year end\\nSeptember 27 2015\\nBase year emissions \u001b[0m\u001b[32m(\u001b[0m\u001b[32mmetric tons CO2e\u001b[0m\u001b[32m)\u001b[0m\u001b[32m\\n172970\\nComment\\nScope 3 category 8: Upstream leased assets\\nBase year start\\nBase year end\\nBase year emissions \u001b[0m\u001b[32m(\u001b[0m\u001b[32mmetric tons CO2e\u001b[0m\u001b[32m)\u001b[0m\u001b[32m\\nComment\\nScope 3 category 9: Downstream transportation and distribution\\nBase year start\\nSeptember 28 2014\\nBase year end\\nSeptember 27 2015\\nBase year emissions \u001b[0m\u001b[32m(\u001b[0m\u001b[32mmetric tons CO2e\u001b[0m\u001b[32m)\u001b[0m\u001b[32m\\n1300000\\nComment\\nScope 3 category 10: Processing of sold products\\nBase year start\\nBase year end\\nBase year emissions \u001b[0m\u001b[32m(\u001b[0m\u001b[32mmetric tons CO2e\u001b[0m\u001b[32m)\u001b[0m\u001b[32m\\nComment\\nCDP\\nPage \\n of \\n133\\n26\\n\\n'\u001b[0m\u001b[39m,\u001b[0m\n",
       "\u001b[39m    \u001b[0m\u001b[32m'prompt'\u001b[0m\u001b[39m: \u001b[0m\u001b[1;35mChatPromptValue\u001b[0m\u001b[1;39m(\u001b[0m\n",
       "\u001b[39m        \u001b[0m\u001b[33mmessages\u001b[0m\u001b[39m=\u001b[0m\u001b[1;39m[\u001b[0m\n",
       "\u001b[39m            \u001b[0m\u001b[1;35mHumanMessage\u001b[0m\u001b[1;39m(\u001b[0m\n",
       "\u001b[39m                \u001b[0m\u001b[33mcontent\u001b[0m\u001b[39m=\u001b[0m\u001b[32m\"You\u001b[0m\u001b[32m're an ESG analyst. You're ask to extract information from the provided context.\\n                Only use the available information to answer the question. Do not add any additional information.\\n                Use the appropriate tool to extract the information.\\n\\n                Question: What is the GHG scope 1 emission of the company?\\n\\n                -----------\\n                Context: filename: Apple_CDP-Climate-Change-Questionnaire_2023.pdf; page: 28.0\\n\u001b[0m\u001b[32m(\u001b[0m\u001b[32mC6.1\u001b[0m\u001b[32m)\u001b[0m\u001b[32m What were your organization’s gross global Scope 1 emissions in metric tons CO2e?\\nReporting year\\nGross global Scope 1 emissions \u001b[0m\u001b[32m(\u001b[0m\u001b[32mmetric tons CO2e\u001b[0m\u001b[32m)\u001b[0m\u001b[32m\\n55200\\nStart date\\n<Not Applicable>\\nEnd date\\n<Not Applicable>\\nComment\\nC6.2\\n\u001b[0m\u001b[32m(\u001b[0m\u001b[32mC6.2\u001b[0m\u001b[32m)\u001b[0m\u001b[32m Describe your organization’s approach to reporting Scope 2 emissions.\\nRow 1\\n\\u200b\\nScope 2, location-based\\n\\u200b\\nWe are reporting a Scope 2, location-based figure\\nScope 2, market-based\\nWe are reporting a Scope 2, market-based figure\\nComment\\nWe believe our market-based Scope 2 emissions figure most accurately represents our emissions profile since generating and sourcing renewable energy is a key aspect\\nof our environmental strategy.\\nC6.3\\n\u001b[0m\u001b[32m(\u001b[0m\u001b[32mC6.3\u001b[0m\u001b[32m)\u001b[0m\u001b[32m What were your organization’s gross global Scope 2 emissions in metric tons CO2e?\\nReporting year\\nScope 2, location-based\\n1065405\\nScope 2, market-based \u001b[0m\u001b[32m(\u001b[0m\u001b[32mif applicable\u001b[0m\u001b[32m)\u001b[0m\u001b[32m\\n3000\\nStart date\\n<Not Applicable>\\nEnd date\\n<Not Applicable\u001b[0m\u001b[32m>\u001b[0m\u001b[32m\\nComment\\nC6.4\\n\u001b[0m\u001b[32m(\u001b[0m\u001b[32mC6.4\u001b[0m\u001b[32m)\u001b[0m\u001b[32m Are there any sources \u001b[0m\u001b[32m(\u001b[0m\u001b[32me.g. facilities, specific GHGs, activities, geographies, etc.\u001b[0m\u001b[32m)\u001b[0m\u001b[32m of Scope 1, Scope 2 or Scope 3 emissions that are within your selected\\nreporting boundary which are not included in your disclosure?\\nYes\\nC6.4a\\nCDP\\nPage \\n of \\n133\\n28\\n\\nfilename: Apple_CDP-Climate-Change-Questionnaire_2023.pdf; page: 26.0\\nScope 3 category 3: Fuel-and-energy-related activities \u001b[0m\u001b[32m(\u001b[0m\u001b[32mnot included in Scope 1 or 2\u001b[0m\u001b[32m)\u001b[0m\u001b[32m\\nBase year start\\nSeptember 28 2014\\nBase year end\\nSeptember 27 2015\\nBase year emissions \u001b[0m\u001b[32m(\u001b[0m\u001b[32mmetric tons CO2e\u001b[0m\u001b[32m)\u001b[0m\u001b[32m\\n0\\nComment\\nThis Scope 3 emissions category was excluded from our baseline emissions, thus assumed to be 0.\\nScope 3 category 4: Upstream transportation and distribution\\nBase year start\\nSeptember 28 2014\\nBase year end\\nSeptember 27 2015\\nBase year emissions \u001b[0m\u001b[32m(\u001b[0m\u001b[32mmetric tons CO2e\u001b[0m\u001b[32m)\u001b[0m\u001b[32m\\n370000\\nComment\\nScope 3 category 5: Waste generated in operations\\nBase year start\\nBase year end\\nBase year emissions \u001b[0m\u001b[32m(\u001b[0m\u001b[32mmetric tons CO2e\u001b[0m\u001b[32m)\u001b[0m\u001b[32m\\nComment\\nScope 3 category 6: Business travel\\nBase year start\\nSeptember 28 2014\\nBase year end\\nSeptember 27 2015\\nBase year emissions \u001b[0m\u001b[32m(\u001b[0m\u001b[32mmetric tons CO2e\u001b[0m\u001b[32m)\u001b[0m\u001b[32m\\n139940\\nComment\\nScope 3 category 7: Employee commuting\\nBase year start\\nSeptember 28 2014\\nBase year end\\nSeptember 27 2015\\nBase year emissions \u001b[0m\u001b[32m(\u001b[0m\u001b[32mmetric tons CO2e\u001b[0m\u001b[32m)\u001b[0m\u001b[32m\\n172970\\nComment\\nScope 3 category 8: Upstream leased assets\\nBase year start\\nBase year end\\nBase year emissions \u001b[0m\u001b[32m(\u001b[0m\u001b[32mmetric tons CO2e\u001b[0m\u001b[32m)\u001b[0m\u001b[32m\\nComment\\nScope 3 category 9: Downstream transportation and distribution\\nBase year start\\nSeptember 28 2014\\nBase year end\\nSeptember 27 2015\\nBase year emissions \u001b[0m\u001b[32m(\u001b[0m\u001b[32mmetric tons CO2e\u001b[0m\u001b[32m)\u001b[0m\u001b[32m\\n1300000\\nComment\\nScope 3 category 10: Processing of sold products\\nBase year start\\nBase year end\\nBase year emissions \u001b[0m\u001b[32m(\u001b[0m\u001b[32mmetric tons CO2e\u001b[0m\u001b[32m)\u001b[0m\u001b[32m\\nComment\\nCDP\\nPage \\n of \\n133\\n26\\n\\n\\n                -----------\\n\\n                Answer:\\n                \"\u001b[0m,\n",
       "                \u001b[33madditional_kwargs\u001b[0m=\u001b[1m{\u001b[0m\u001b[1m}\u001b[0m,\n",
       "                \u001b[33mresponse_metadata\u001b[0m=\u001b[1m{\u001b[0m\u001b[1m}\u001b[0m\n",
       "            \u001b[1m)\u001b[0m\n",
       "        \u001b[1m]\u001b[0m\n",
       "    \u001b[1m)\u001b[0m,\n",
       "    \u001b[32m'response'\u001b[0m: \u001b[1;35mGhgEmissionData\u001b[0m\u001b[1m(\u001b[0m\n",
       "        \u001b[33mdata\u001b[0m=\u001b[1m[\u001b[0m\u001b[1;35mGhgEmission\u001b[0m\u001b[1m(\u001b[0m\u001b[33mscope\u001b[0m=\u001b[32m'scope1'\u001b[0m, \u001b[33myear\u001b[0m=\u001b[1;36m2023\u001b[0m, \u001b[33mvalue\u001b[0m=\u001b[1;36m55200\u001b[0m\u001b[1;36m.0\u001b[0m, \u001b[33munit\u001b[0m=\u001b[32m'metric tons CO2e'\u001b[0m\u001b[1m)\u001b[0m\u001b[1m]\u001b[0m\n",
       "    \u001b[1m)\u001b[0m\n",
       "\u001b[1m}\u001b[0m"
      ]
     },
     "execution_count": 32,
     "metadata": {},
     "output_type": "execute_result"
    }
   ],
   "source": [
    "# Run a structured output chain\n",
    "result = manager.run_chain(\n",
    "    chain_type=ChainType.STRUCTURED_OUTPUT,\n",
    "    question=\"What is the GHG scope 1 emission of the company?\",\n",
    "    output_schema=GhgEmissionData,\n",
    ")\n",
    "result"
   ]
  },
  {
   "cell_type": "code",
   "execution_count": 33,
   "id": "e754adce-3bd1-4616-87fe-fb70e4aaacab",
   "metadata": {},
   "outputs": [
    {
     "data": {
      "text/html": [
       "<pre style=\"white-space:pre;overflow-x:auto;line-height:normal;font-family:Menlo,'DejaVu Sans Mono',consolas,'Courier New',monospace\"></pre>\n"
      ],
      "text/plain": []
     },
     "metadata": {},
     "output_type": "display_data"
    },
    {
     "data": {
      "text/plain": [
       "\u001b[1;35mGhgEmissionData\u001b[0m\u001b[1m(\u001b[0m\u001b[33mdata\u001b[0m=\u001b[1m[\u001b[0m\u001b[1;35mGhgEmission\u001b[0m\u001b[1m(\u001b[0m\u001b[33mscope\u001b[0m=\u001b[32m'scope1'\u001b[0m, \u001b[33myear\u001b[0m=\u001b[1;36m2023\u001b[0m, \u001b[33mvalue\u001b[0m=\u001b[1;36m55200\u001b[0m\u001b[1;36m.0\u001b[0m, \u001b[33munit\u001b[0m=\u001b[32m'metric tons CO2e'\u001b[0m\u001b[1m)\u001b[0m\u001b[1m]\u001b[0m\u001b[1m)\u001b[0m"
      ]
     },
     "execution_count": 33,
     "metadata": {},
     "output_type": "execute_result"
    }
   ],
   "source": [
    "result['response']"
   ]
  },
  {
   "cell_type": "markdown",
   "id": "82662546-1a23-4226-804e-9ea0e654717f",
   "metadata": {},
   "source": [
    "Compared to before, we now have a Pydantic class, and not a string. This makes a huge difference when we will want to perform actions on the extraction results."
   ]
  },
  {
   "cell_type": "markdown",
   "id": "4aad4417-3f83-4630-a497-3e667ee6df4d",
   "metadata": {},
   "source": [
    "### Relevance Check Chain\n",
    "\n",
    "This chain is the same as the one above, except that for each source documents (previously we were passing 2 documents, because our `k` equals 2)\n",
    "we will ask a model to determine wether or not, the given doc is likely to be useful to answer the question.\n",
    "\n",
    "Note that for the relevance check, if we have 2 source documents, we will make 2 separate call in parallel. This allows to still have fast results.\n",
    "\n",
    "Hence, this task perform a `post retrieval` transformation (here, filtering)."
   ]
  },
  {
   "cell_type": "code",
   "execution_count": 34,
   "id": "c2888cc6-e907-483e-b1a8-09bc2cbb8970",
   "metadata": {
    "scrolled": true
   },
   "outputs": [
    {
     "data": {
      "text/html": [
       "<pre style=\"white-space:pre;overflow-x:auto;line-height:normal;font-family:Menlo,'DejaVu Sans Mono',consolas,'Courier New',monospace\"></pre>\n"
      ],
      "text/plain": []
     },
     "metadata": {},
     "output_type": "display_data"
    },
    {
     "data": {
      "text/plain": [
       "\n",
       "\u001b[1m{\u001b[0m\n",
       "    \u001b[32m'question'\u001b[0m: \u001b[32m'What is the GHG scope 1 emission of the company?'\u001b[0m,\n",
       "    \u001b[32m'source_documents'\u001b[0m: \u001b[1m[\u001b[0m\n",
       "        \u001b[1;35mDocument\u001b[0m\u001b[1m(\u001b[0m\n",
       "            \u001b[33mmetadata\u001b[0m=\u001b[1m{\u001b[0m\u001b[32m'page'\u001b[0m: \u001b[1;36m28.0\u001b[0m, \u001b[32m'filename'\u001b[0m: \u001b[32m'Apple_CDP-Climate-Change-Questionnaire_2023.pdf'\u001b[0m\u001b[1m}\u001b[0m,\n",
       "            \u001b[33mpage_content\u001b[0m=\u001b[32m'\u001b[0m\u001b[32m(\u001b[0m\u001b[32mC6.1\u001b[0m\u001b[32m)\u001b[0m\u001b[32m What were your organization’s gross global Scope 1 emissions in metric tons CO2e?\\nReporting year\\nGross global Scope 1 emissions \u001b[0m\u001b[32m(\u001b[0m\u001b[32mmetric tons CO2e\u001b[0m\u001b[32m)\u001b[0m\u001b[32m\\n55200\\nStart date\\n\u001b[0m\u001b[32m<\u001b[0m\u001b[32mNot\u001b[0m\u001b[32m Applicable>\\nEnd date\\n<Not Applicable>\\nComment\\nC6.2\\n\u001b[0m\u001b[32m(\u001b[0m\u001b[32mC6.2\u001b[0m\u001b[32m)\u001b[0m\u001b[32m Describe your organization’s approach to reporting Scope 2 emissions.\\nRow 1\\n\\u200b\\nScope 2, location-based\\n\\u200b\\nWe are reporting a Scope 2, location-based figure\\nScope 2, market-based\\nWe are reporting a Scope 2, market-based figure\\nComment\\nWe believe our market-based Scope 2 emissions figure most accurately represents our emissions profile since generating and sourcing renewable energy is a key aspect\\nof our environmental strategy.\\nC6.3\\n\u001b[0m\u001b[32m(\u001b[0m\u001b[32mC6.3\u001b[0m\u001b[32m)\u001b[0m\u001b[32m What were your organization’s gross global Scope 2 emissions in metric tons CO2e?\\nReporting year\\nScope 2, location-based\\n1065405\\nScope 2, market-based \u001b[0m\u001b[32m(\u001b[0m\u001b[32mif applicable\u001b[0m\u001b[32m)\u001b[0m\u001b[32m\\n3000\\nStart date\\n<Not Applicable>\\nEnd date\\n<Not Applicable>\\nComment\\nC6.4\\n\u001b[0m\u001b[32m(\u001b[0m\u001b[32mC6.4\u001b[0m\u001b[32m)\u001b[0m\u001b[32m Are there any sources \u001b[0m\u001b[32m(\u001b[0m\u001b[32me.g. facilities, specific GHGs, activities, geographies, etc.\u001b[0m\u001b[32m)\u001b[0m\u001b[32m of Scope 1, Scope 2 or Scope 3 emissions that are within your selected\\nreporting boundary which are not included in your disclosure?\\nYes\\nC6.4a\\nCDP\\nPage \\n of \\n133\\n28'\u001b[0m\n",
       "\u001b[39m        \u001b[0m\u001b[1;39m)\u001b[0m\n",
       "\u001b[39m    \u001b[0m\u001b[1;39m]\u001b[0m\u001b[39m,\u001b[0m\n",
       "\u001b[39m    \u001b[0m\u001b[32m'context'\u001b[0m\u001b[39m: \u001b[0m\u001b[32m'filename: Apple_CDP-Climate-Change-Questionnaire_2023.pdf; page: 28.0\\n\u001b[0m\u001b[32m(\u001b[0m\u001b[32mC6.1\u001b[0m\u001b[32m)\u001b[0m\u001b[32m What were your organization’s gross global Scope 1 emissions in metric tons CO2e?\\nReporting year\\nGross global Scope 1 emissions \u001b[0m\u001b[32m(\u001b[0m\u001b[32mmetric tons CO2e\u001b[0m\u001b[32m)\u001b[0m\u001b[32m\\n55200\\nStart date\\n<Not Applicable>\\nEnd date\\n<Not Applicable>\\nComment\\nC6.2\\n\u001b[0m\u001b[32m(\u001b[0m\u001b[32mC6.2\u001b[0m\u001b[32m)\u001b[0m\u001b[32m Describe your organization’s approach to reporting Scope 2 emissions.\\nRow 1\\n\\u200b\\nScope 2, location-based\\n\\u200b\\nWe are reporting a Scope 2, location-based figure\\nScope 2, market-based\\nWe are reporting a Scope 2, market-based figure\\nComment\\nWe believe our market-based Scope 2 emissions figure most accurately represents our emissions profile since generating and sourcing renewable energy is a key aspect\\nof our environmental strategy.\\nC6.3\\n\u001b[0m\u001b[32m(\u001b[0m\u001b[32mC6.3\u001b[0m\u001b[32m)\u001b[0m\u001b[32m What were your organization’s gross global Scope 2 emissions in metric tons CO2e?\\nReporting year\\nScope 2, location-based\\n1065405\\nScope 2, market-based \u001b[0m\u001b[32m(\u001b[0m\u001b[32mif applicable\u001b[0m\u001b[32m)\u001b[0m\u001b[32m\\n3000\\nStart date\\n<Not Applicable>\\nEnd date\\n<Not Applicable>\\nComment\\nC6.4\\n\u001b[0m\u001b[32m(\u001b[0m\u001b[32mC6.4\u001b[0m\u001b[32m)\u001b[0m\u001b[32m Are there any sources \u001b[0m\u001b[32m(\u001b[0m\u001b[32me.g. facilities, specific GHGs, activities, geographies, etc.\u001b[0m\u001b[32m)\u001b[0m\u001b[32m of Scope 1, Scope 2 or Scope 3 emissions that are within your selected\\nreporting boundary which are not included in your disclosure?\\nYes\\nC6.4a\\nCDP\\nPage \\n of \\n133\\n28\\n\\nfilename: Apple_CDP-Climate-Change-Questionnaire_2023.pdf; page: 26.0\\nScope 3 category 3: Fuel-and-energy-related activities \u001b[0m\u001b[32m(\u001b[0m\u001b[32mnot included in Scope 1 or 2\u001b[0m\u001b[32m)\u001b[0m\u001b[32m\\nBase year start\\nSeptember 28 2014\\nBase year end\\nSeptember 27 2015\\nBase year emissions \u001b[0m\u001b[32m(\u001b[0m\u001b[32mmetric tons CO2e\u001b[0m\u001b[32m)\u001b[0m\u001b[32m\\n0\\nComment\\nThis Scope 3 emissions category was excluded from our baseline emissions, thus assumed to be 0.\\nScope 3 category 4: Upstream transportation and distribution\\nBase year start\\nSeptember 28 2014\\nBase year end\\nSeptember 27 2015\\nBase year emissions \u001b[0m\u001b[32m(\u001b[0m\u001b[32mmetric tons CO2e\u001b[0m\u001b[32m)\u001b[0m\u001b[32m\\n370000\\nComment\\nScope 3 category 5: Waste generated in operations\\nBase year start\\nBase year end\\nBase year emissions \u001b[0m\u001b[32m(\u001b[0m\u001b[32mmetric tons CO2e\u001b[0m\u001b[32m)\u001b[0m\u001b[32m\\nComment\\nScope 3 category 6: Business travel\\nBase year start\\nSeptember 28 2014\\nBase year end\\nSeptember 27 2015\\nBase year emissions \u001b[0m\u001b[32m(\u001b[0m\u001b[32mmetric tons CO2e\u001b[0m\u001b[32m)\u001b[0m\u001b[32m\\n139940\\nComment\\nScope 3 category 7: Employee commuting\\nBase year start\\nSeptember 28 2014\\nBase year end\\nSeptember 27 2015\\nBase year emissions \u001b[0m\u001b[32m(\u001b[0m\u001b[32mmetric tons CO2e\u001b[0m\u001b[32m)\u001b[0m\u001b[32m\\n172970\\nComment\\nScope 3 category 8: Upstream leased assets\\nBase year start\\nBase year end\\nBase year emissions \u001b[0m\u001b[32m(\u001b[0m\u001b[32mmetric tons CO2e\u001b[0m\u001b[32m)\u001b[0m\u001b[32m\\nComment\\nScope 3 category 9: Downstream transportation and distribution\\nBase year start\\nSeptember 28 2014\\nBase year end\\nSeptember 27 2015\\nBase year emissions \u001b[0m\u001b[32m(\u001b[0m\u001b[32mmetric tons CO2e\u001b[0m\u001b[32m)\u001b[0m\u001b[32m\\n1300000\\nComment\\nScope 3 category 10: Processing of sold products\\nBase year start\\nBase year end\\nBase year emissions \u001b[0m\u001b[32m(\u001b[0m\u001b[32mmetric tons CO2e\u001b[0m\u001b[32m)\u001b[0m\u001b[32m\\nComment\\nCDP\\nPage \\n of \\n133\\n26\\n\\n'\u001b[0m\u001b[39m,\u001b[0m\n",
       "\u001b[39m    \u001b[0m\u001b[32m'relevance_response'\u001b[0m\u001b[39m: \u001b[0m\u001b[1;39m[\u001b[0m\n",
       "\u001b[39m        \u001b[0m\u001b[1;39m{\u001b[0m\n",
       "\u001b[39m            \u001b[0m\u001b[32m'question'\u001b[0m\u001b[39m: \u001b[0m\u001b[32m'What is the GHG scope 1 emission of the company?'\u001b[0m\u001b[39m,\u001b[0m\n",
       "\u001b[39m            \u001b[0m\u001b[32m'doc'\u001b[0m\u001b[39m: \u001b[0m\u001b[1;35mDocument\u001b[0m\u001b[1;39m(\u001b[0m\n",
       "\u001b[39m                \u001b[0m\u001b[33mmetadata\u001b[0m\u001b[39m=\u001b[0m\u001b[1;39m{\u001b[0m\n",
       "\u001b[39m                    \u001b[0m\u001b[32m'page'\u001b[0m\u001b[39m: \u001b[0m\u001b[1;36m28.0\u001b[0m\u001b[39m,\u001b[0m\n",
       "\u001b[39m                    \u001b[0m\u001b[32m'filename'\u001b[0m\u001b[39m: \u001b[0m\u001b[32m'Apple_CDP-Climate-Change-Questionnaire_2023.pdf'\u001b[0m\n",
       "\u001b[39m                \u001b[0m\u001b[1;39m}\u001b[0m\u001b[39m,\u001b[0m\n",
       "\u001b[39m                \u001b[0m\u001b[33mpage_content\u001b[0m\u001b[39m=\u001b[0m\u001b[32m'\u001b[0m\u001b[32m(\u001b[0m\u001b[32mC6.1\u001b[0m\u001b[32m)\u001b[0m\u001b[32m What were your organization’s gross global Scope 1 emissions in metric tons CO2e?\\nReporting year\\nGross global Scope 1 emissions \u001b[0m\u001b[32m(\u001b[0m\u001b[32mmetric tons CO2e\u001b[0m\u001b[32m)\u001b[0m\u001b[32m\\n55200\\nStart date\\n<Not Applicable>\\nEnd date\\n<Not Applicable>\\nComment\\nC6.2\\n\u001b[0m\u001b[32m(\u001b[0m\u001b[32mC6.2\u001b[0m\u001b[32m)\u001b[0m\u001b[32m Describe your organization’s approach to reporting Scope 2 emissions.\\nRow 1\\n\\u200b\\nScope 2, location-based\\n\\u200b\\nWe are reporting a Scope 2, location-based figure\\nScope 2, market-based\\nWe are reporting a Scope 2, market-based figure\\nComment\\nWe believe our market-based Scope 2 emissions figure most accurately represents our emissions profile since generating and sourcing renewable energy is a key aspect\\nof our environmental strategy.\\nC6.3\\n\u001b[0m\u001b[32m(\u001b[0m\u001b[32mC6.3\u001b[0m\u001b[32m)\u001b[0m\u001b[32m What were your organization’s gross global Scope 2 emissions in metric tons CO2e?\\nReporting year\\nScope 2, location-based\\n1065405\\nScope 2, market-based \u001b[0m\u001b[32m(\u001b[0m\u001b[32mif applicable\u001b[0m\u001b[32m)\u001b[0m\u001b[32m\\n3000\\nStart date\\n<Not Applicable>\\nEnd date\\n<Not Applicable>\\nComment\\nC6.4\\n\u001b[0m\u001b[32m(\u001b[0m\u001b[32mC6.4\u001b[0m\u001b[32m)\u001b[0m\u001b[32m Are there any sources \u001b[0m\u001b[32m(\u001b[0m\u001b[32me.g. facilities, specific GHGs, activities, geographies, etc.\u001b[0m\u001b[32m)\u001b[0m\u001b[32m of Scope 1, Scope 2 or Scope 3 emissions that are within your selected\\nreporting boundary which are not included in your disclosure?\\nYes\\nC6.4a\\nCDP\\nPage \\n of \\n133\\n28'\u001b[0m\n",
       "\u001b[39m            \u001b[0m\u001b[1;39m)\u001b[0m\u001b[39m,\u001b[0m\n",
       "\u001b[39m            \u001b[0m\u001b[32m'page_content'\u001b[0m\u001b[39m: \u001b[0m\u001b[32m'\u001b[0m\u001b[32m(\u001b[0m\u001b[32mC6.1\u001b[0m\u001b[32m)\u001b[0m\u001b[32m What were your organization’s gross global Scope 1 emissions in metric tons CO2e?\\nReporting year\\nGross global Scope 1 emissions \u001b[0m\u001b[32m(\u001b[0m\u001b[32mmetric tons CO2e\u001b[0m\u001b[32m)\u001b[0m\u001b[32m\\n55200\\nStart date\\n<Not Applicable>\\nEnd date\\n<Not Applicable>\\nComment\\nC6.2\\n\u001b[0m\u001b[32m(\u001b[0m\u001b[32mC6.2\u001b[0m\u001b[32m)\u001b[0m\u001b[32m Describe your organization’s approach to reporting Scope 2 emissions.\\nRow 1\\n\\u200b\\nScope 2, location-based\\n\\u200b\\nWe are reporting a Scope 2, location-based figure\\nScope 2, market-based\\nWe are reporting a Scope 2, market-based figure\\nComment\\nWe believe our market-based Scope 2 emissions figure most accurately represents our emissions profile since generating and sourcing renewable energy is a key aspect\\nof our environmental strategy.\\nC6.3\\n\u001b[0m\u001b[32m(\u001b[0m\u001b[32mC6.3\u001b[0m\u001b[32m)\u001b[0m\u001b[32m What were your organization’s gross global Scope 2 emissions in metric tons CO2e?\\nReporting year\\nScope 2, location-based\\n1065405\\nScope 2, market-based \u001b[0m\u001b[32m(\u001b[0m\u001b[32mif applicable\u001b[0m\u001b[32m)\u001b[0m\u001b[32m\\n3000\\nStart date\\n<Not Applicable>\\nEnd date\\n<Not Applicable>\\nComment\\nC6.4\\n\u001b[0m\u001b[32m(\u001b[0m\u001b[32mC6.4\u001b[0m\u001b[32m)\u001b[0m\u001b[32m Are there any sources \u001b[0m\u001b[32m(\u001b[0m\u001b[32me.g. facilities, specific GHGs, activities, geographies, etc.\u001b[0m\u001b[32m)\u001b[0m\u001b[32m of Scope 1, Scope 2 or Scope 3 emissions that are within your selected\\nreporting boundary which are not included in your disclosure?\\nYes\\nC6.4a\\nCDP\\nPage \\n of \\n133\\n28'\u001b[0m\u001b[39m,\u001b[0m\n",
       "\u001b[39m            \u001b[0m\u001b[32m'response'\u001b[0m\u001b[39m: \u001b[0m\u001b[1;35mDocumentRelevance\u001b[0m\u001b[1;39m(\u001b[0m\n",
       "\u001b[39m                \u001b[0m\u001b[33mrelevant\u001b[0m\u001b[39m=\u001b[0m\u001b[3;92mTrue\u001b[0m\u001b[39m,\u001b[0m\n",
       "\u001b[39m                \u001b[0m\u001b[33mexplanation\u001b[0m\u001b[39m=\u001b[0m\u001b[32m'The document provides the gross global Scope 1 emissions of the company, which directly answers the question regarding the GHG scope 1 emission.'\u001b[0m\n",
       "\u001b[39m            \u001b[0m\u001b[1;39m)\u001b[0m\n",
       "\u001b[39m        \u001b[0m\u001b[1;39m}\u001b[0m\u001b[39m,\u001b[0m\n",
       "\u001b[39m        \u001b[0m\u001b[1;39m{\u001b[0m\n",
       "\u001b[39m            \u001b[0m\u001b[32m'question'\u001b[0m\u001b[39m: \u001b[0m\u001b[32m'What is the GHG scope 1 emission of the company?'\u001b[0m\u001b[39m,\u001b[0m\n",
       "\u001b[39m            \u001b[0m\u001b[32m'doc'\u001b[0m\u001b[39m: \u001b[0m\u001b[1;35mDocument\u001b[0m\u001b[1;39m(\u001b[0m\n",
       "\u001b[39m                \u001b[0m\u001b[33mmetadata\u001b[0m\u001b[39m=\u001b[0m\u001b[1;39m{\u001b[0m\n",
       "\u001b[39m                    \u001b[0m\u001b[32m'page'\u001b[0m\u001b[39m: \u001b[0m\u001b[1;36m26.0\u001b[0m\u001b[39m,\u001b[0m\n",
       "\u001b[39m                    \u001b[0m\u001b[32m'filename'\u001b[0m\u001b[39m: \u001b[0m\u001b[32m'Apple_CDP-Climate-Change-Questionnaire_2023.pdf'\u001b[0m\n",
       "\u001b[39m                \u001b[0m\u001b[1;39m}\u001b[0m\u001b[39m,\u001b[0m\n",
       "\u001b[39m                \u001b[0m\u001b[33mpage_content\u001b[0m\u001b[39m=\u001b[0m\u001b[32m'Scope 3 category 3: Fuel-and-energy-related activities \u001b[0m\u001b[32m(\u001b[0m\u001b[32mnot included in Scope 1 or 2\u001b[0m\u001b[32m)\u001b[0m\u001b[32m\\nBase year start\\nSeptember 28 2014\\nBase year end\\nSeptember 27 2015\\nBase year emissions \u001b[0m\u001b[32m(\u001b[0m\u001b[32mmetric tons CO2e\u001b[0m\u001b[32m)\u001b[0m\u001b[32m\\n0\\nComment\\nThis Scope 3 emissions category was excluded from our baseline emissions, thus assumed to be 0.\\nScope 3 category 4: Upstream transportation and distribution\\nBase year start\\nSeptember 28 2014\\nBase year end\\nSeptember 27 2015\\nBase year emissions \u001b[0m\u001b[32m(\u001b[0m\u001b[32mmetric tons CO2e\u001b[0m\u001b[32m)\u001b[0m\u001b[32m\\n370000\\nComment\\nScope 3 category 5: Waste generated in operations\\nBase year start\\nBase year end\\nBase year emissions \u001b[0m\u001b[32m(\u001b[0m\u001b[32mmetric tons CO2e\u001b[0m\u001b[32m)\u001b[0m\u001b[32m\\nComment\\nScope 3 category 6: Business travel\\nBase year start\\nSeptember 28 2014\\nBase year end\\nSeptember 27 2015\\nBase year emissions \u001b[0m\u001b[32m(\u001b[0m\u001b[32mmetric tons CO2e\u001b[0m\u001b[32m)\u001b[0m\u001b[32m\\n139940\\nComment\\nScope 3 category 7: Employee commuting\\nBase year start\\nSeptember 28 2014\\nBase year end\\nSeptember 27 2015\\nBase year emissions \u001b[0m\u001b[32m(\u001b[0m\u001b[32mmetric tons CO2e\u001b[0m\u001b[32m)\u001b[0m\u001b[32m\\n172970\\nComment\\nScope 3 category 8: Upstream leased assets\\nBase year start\\nBase year end\\nBase year emissions \u001b[0m\u001b[32m(\u001b[0m\u001b[32mmetric tons CO2e\u001b[0m\u001b[32m)\u001b[0m\u001b[32m\\nComment\\nScope 3 category 9: Downstream transportation and distribution\\nBase year start\\nSeptember 28 2014\\nBase year end\\nSeptember 27 2015\\nBase year emissions \u001b[0m\u001b[32m(\u001b[0m\u001b[32mmetric tons CO2e\u001b[0m\u001b[32m)\u001b[0m\u001b[32m\\n1300000\\nComment\\nScope 3 category 10: Processing of sold products\\nBase year start\\nBase year end\\nBase year emissions \u001b[0m\u001b[32m(\u001b[0m\u001b[32mmetric tons CO2e\u001b[0m\u001b[32m)\u001b[0m\u001b[32m\\nComment\\nCDP\\nPage \\n of \\n133\\n26'\u001b[0m\n",
       "\u001b[39m            \u001b[0m\u001b[1;39m)\u001b[0m\u001b[39m,\u001b[0m\n",
       "\u001b[39m            \u001b[0m\u001b[32m'page_content'\u001b[0m\u001b[39m: \u001b[0m\u001b[32m'Scope 3 category 3: Fuel-and-energy-related activities \u001b[0m\u001b[32m(\u001b[0m\u001b[32mnot included in Scope 1 or 2\u001b[0m\u001b[32m)\u001b[0m\u001b[32m\\nBase year start\\nSeptember 28 2014\\nBase year end\\nSeptember 27 2015\\nBase year emissions \u001b[0m\u001b[32m(\u001b[0m\u001b[32mmetric tons CO2e\u001b[0m\u001b[32m)\u001b[0m\u001b[32m\\n0\\nComment\\nThis Scope 3 emissions category was excluded from our baseline emissions, thus assumed to be 0.\\nScope 3 category 4: Upstream transportation and distribution\\nBase year start\\nSeptember 28 2014\\nBase year end\\nSeptember 27 2015\\nBase year emissions \u001b[0m\u001b[32m(\u001b[0m\u001b[32mmetric tons CO2e\u001b[0m\u001b[32m)\u001b[0m\u001b[32m\\n370000\\nComment\\nScope 3 category 5: Waste generated in operations\\nBase year start\\nBase year end\\nBase year emissions \u001b[0m\u001b[32m(\u001b[0m\u001b[32mmetric tons CO2e\u001b[0m\u001b[32m)\u001b[0m\u001b[32m\\nComment\\nScope 3 category 6: Business travel\\nBase year start\\nSeptember 28 2014\\nBase year end\\nSeptember 27 2015\\nBase year emissions \u001b[0m\u001b[32m(\u001b[0m\u001b[32mmetric tons CO2e\u001b[0m\u001b[32m)\u001b[0m\u001b[32m\\n139940\\nComment\\nScope 3 category 7: Employee commuting\\nBase year start\\nSeptember 28 2014\\nBase year end\\nSeptember 27 2015\\nBase year emissions \u001b[0m\u001b[32m(\u001b[0m\u001b[32mmetric tons CO2e\u001b[0m\u001b[32m)\u001b[0m\u001b[32m\\n172970\\nComment\\nScope 3 category 8: Upstream leased assets\\nBase year start\\nBase year end\\nBase year emissions \u001b[0m\u001b[32m(\u001b[0m\u001b[32mmetric tons CO2e\u001b[0m\u001b[32m)\u001b[0m\u001b[32m\\nComment\\nScope 3 category 9: Downstream transportation and distribution\\nBase year start\\nSeptember 28 2014\\nBase year end\\nSeptember 27 2015\\nBase year emissions \u001b[0m\u001b[32m(\u001b[0m\u001b[32mmetric tons CO2e\u001b[0m\u001b[32m)\u001b[0m\u001b[32m\\n1300000\\nComment\\nScope 3 category 10: Processing of sold products\\nBase year start\\nBase year end\\nBase year emissions \u001b[0m\u001b[32m(\u001b[0m\u001b[32mmetric tons CO2e\u001b[0m\u001b[32m)\u001b[0m\u001b[32m\\nComment\\nCDP\\nPage \\n of \\n133\\n26'\u001b[0m\u001b[39m,\u001b[0m\n",
       "\u001b[39m            \u001b[0m\u001b[32m'response'\u001b[0m\u001b[39m: \u001b[0m\u001b[1;35mDocumentRelevance\u001b[0m\u001b[1;39m(\u001b[0m\n",
       "\u001b[39m                \u001b[0m\u001b[33mrelevant\u001b[0m\u001b[39m=\u001b[0m\u001b[3;91mFalse\u001b[0m\u001b[39m,\u001b[0m\n",
       "\u001b[39m                \u001b[0m\u001b[33mexplanation\u001b[0m\u001b[39m=\u001b[0m\u001b[32m'The document provides information on Scope 3 emissions, which are indirect emissions not included in Scope 1 or 2. It does not contain any data or details regarding Scope 1 emissions of the company.'\u001b[0m\n",
       "\u001b[39m            \u001b[0m\u001b[1;39m)\u001b[0m\n",
       "\u001b[39m        \u001b[0m\u001b[1;39m}\u001b[0m\n",
       "\u001b[39m    \u001b[0m\u001b[1;39m]\u001b[0m\u001b[39m,\u001b[0m\n",
       "\u001b[39m    \u001b[0m\u001b[32m'raw_source_documents'\u001b[0m\u001b[39m: \u001b[0m\u001b[1;39m[\u001b[0m\n",
       "\u001b[39m        \u001b[0m\u001b[1;35mDocument\u001b[0m\u001b[1;39m(\u001b[0m\n",
       "\u001b[39m            \u001b[0m\u001b[33mmetadata\u001b[0m\u001b[39m=\u001b[0m\u001b[1;39m{\u001b[0m\u001b[32m'page'\u001b[0m\u001b[39m: \u001b[0m\u001b[1;36m28.0\u001b[0m\u001b[39m, \u001b[0m\u001b[32m'filename'\u001b[0m\u001b[39m: \u001b[0m\u001b[32m'Apple_CDP-Climate-Change-Questionnaire_2023.pdf'\u001b[0m\u001b[1;39m}\u001b[0m\u001b[39m,\u001b[0m\n",
       "\u001b[39m            \u001b[0m\u001b[33mpage_content\u001b[0m\u001b[39m=\u001b[0m\u001b[32m'\u001b[0m\u001b[32m(\u001b[0m\u001b[32mC6.1\u001b[0m\u001b[32m)\u001b[0m\u001b[32m What were your organization’s gross global Scope 1 emissions in metric tons CO2e?\\nReporting year\\nGross global Scope 1 emissions \u001b[0m\u001b[32m(\u001b[0m\u001b[32mmetric tons CO2e\u001b[0m\u001b[32m)\u001b[0m\u001b[32m\\n55200\\nStart date\\n<Not Applicable>\\nEnd date\\n<Not Applicable>\\nComment\\nC6.2\\n\u001b[0m\u001b[32m(\u001b[0m\u001b[32mC6.2\u001b[0m\u001b[32m)\u001b[0m\u001b[32m Describe your organization’s approach to reporting Scope 2 emissions.\\nRow 1\\n\\u200b\\nScope 2, location-based\\n\\u200b\\nWe are reporting a Scope 2, location-based figure\\nScope 2, market-based\\nWe are reporting a Scope 2, market-based figure\\nComment\\nWe believe our market-based Scope 2 emissions figure most accurately represents our emissions profile since generating and sourcing renewable energy is a key aspect\\nof our environmental strategy.\\nC6.3\\n\u001b[0m\u001b[32m(\u001b[0m\u001b[32mC6.3\u001b[0m\u001b[32m)\u001b[0m\u001b[32m What were your organization’s gross global Scope 2 emissions in metric tons CO2e?\\nReporting year\\nScope 2, location-based\\n1065405\\nScope 2, market-based \u001b[0m\u001b[32m(\u001b[0m\u001b[32mif applicable\u001b[0m\u001b[32m)\u001b[0m\u001b[32m\\n3000\\nStart date\\n<Not Applicable>\\nEnd date\\n<Not Applicable>\\nComment\\nC6.4\\n\u001b[0m\u001b[32m(\u001b[0m\u001b[32mC6.4\u001b[0m\u001b[32m)\u001b[0m\u001b[32m Are there any sources \u001b[0m\u001b[32m(\u001b[0m\u001b[32me.g. facilities, specific GHGs, activities, geographies, etc.\u001b[0m\u001b[32m)\u001b[0m\u001b[32m of Scope 1, Scope 2 or Scope 3 emissions that are within your selected\\nreporting boundary which are not included in your disclosure?\\nYes\\nC6.4a\\nCDP\\nPage \\n of \\n133\\n28'\u001b[0m\n",
       "\u001b[39m        \u001b[0m\u001b[1;39m)\u001b[0m\u001b[39m,\u001b[0m\n",
       "\u001b[39m        \u001b[0m\u001b[1;35mDocument\u001b[0m\u001b[1;39m(\u001b[0m\n",
       "\u001b[39m            \u001b[0m\u001b[33mmetadata\u001b[0m\u001b[39m=\u001b[0m\u001b[1;39m{\u001b[0m\u001b[32m'page'\u001b[0m\u001b[39m: \u001b[0m\u001b[1;36m26.0\u001b[0m\u001b[39m, \u001b[0m\u001b[32m'filename'\u001b[0m\u001b[39m: \u001b[0m\u001b[32m'Apple_CDP-Climate-Change-Questionnaire_2023.pdf'\u001b[0m\u001b[1;39m}\u001b[0m\u001b[39m,\u001b[0m\n",
       "\u001b[39m            \u001b[0m\u001b[33mpage_content\u001b[0m\u001b[39m=\u001b[0m\u001b[32m'Scope 3 category 3: Fuel-and-energy-related activities \u001b[0m\u001b[32m(\u001b[0m\u001b[32mnot included in Scope 1 or 2\u001b[0m\u001b[32m)\u001b[0m\u001b[32m\\nBase year start\\nSeptember 28 2014\\nBase year end\\nSeptember 27 2015\\nBase year emissions \u001b[0m\u001b[32m(\u001b[0m\u001b[32mmetric tons CO2e\u001b[0m\u001b[32m)\u001b[0m\u001b[32m\\n0\\nComment\\nThis Scope 3 emissions category was excluded from our baseline emissions, thus assumed to be 0.\\nScope 3 category 4: Upstream transportation and distribution\\nBase year start\\nSeptember 28 2014\\nBase year end\\nSeptember 27 2015\\nBase year emissions \u001b[0m\u001b[32m(\u001b[0m\u001b[32mmetric tons CO2e\u001b[0m\u001b[32m)\u001b[0m\u001b[32m\\n370000\\nComment\\nScope 3 category 5: Waste generated in operations\\nBase year start\\nBase year end\\nBase year emissions \u001b[0m\u001b[32m(\u001b[0m\u001b[32mmetric tons CO2e\u001b[0m\u001b[32m)\u001b[0m\u001b[32m\\nComment\\nScope 3 category 6: Business travel\\nBase year start\\nSeptember 28 2014\\nBase year end\\nSeptember 27 2015\\nBase year emissions \u001b[0m\u001b[32m(\u001b[0m\u001b[32mmetric tons CO2e\u001b[0m\u001b[32m)\u001b[0m\u001b[32m\\n139940\\nComment\\nScope 3 category 7: Employee commuting\\nBase year start\\nSeptember 28 2014\\nBase year end\\nSeptember 27 2015\\nBase year emissions \u001b[0m\u001b[32m(\u001b[0m\u001b[32mmetric tons CO2e\u001b[0m\u001b[32m)\u001b[0m\u001b[32m\\n172970\\nComment\\nScope 3 category 8: Upstream leased assets\\nBase year start\\nBase year end\\nBase year emissions \u001b[0m\u001b[32m(\u001b[0m\u001b[32mmetric tons CO2e\u001b[0m\u001b[32m)\u001b[0m\u001b[32m\\nComment\\nScope 3 category 9: Downstream transportation and distribution\\nBase year start\\nSeptember 28 2014\\nBase year end\\nSeptember 27 2015\\nBase year emissions \u001b[0m\u001b[32m(\u001b[0m\u001b[32mmetric tons CO2e\u001b[0m\u001b[32m)\u001b[0m\u001b[32m\\n1300000\\nComment\\nScope 3 category 10: Processing of sold products\\nBase year start\\nBase year end\\nBase year emissions \u001b[0m\u001b[32m(\u001b[0m\u001b[32mmetric tons CO2e\u001b[0m\u001b[32m)\u001b[0m\u001b[32m\\nComment\\nCDP\\nPage \\n of \\n133\\n26'\u001b[0m\n",
       "\u001b[39m        \u001b[0m\u001b[1;39m)\u001b[0m\n",
       "\u001b[39m    \u001b[0m\u001b[1;39m]\u001b[0m\u001b[39m,\u001b[0m\n",
       "\u001b[39m    \u001b[0m\u001b[32m'prompt'\u001b[0m\u001b[39m: \u001b[0m\u001b[1;35mChatPromptValue\u001b[0m\u001b[1;39m(\u001b[0m\n",
       "\u001b[39m        \u001b[0m\u001b[33mmessages\u001b[0m\u001b[39m=\u001b[0m\u001b[1;39m[\u001b[0m\n",
       "\u001b[39m            \u001b[0m\u001b[1;35mHumanMessage\u001b[0m\u001b[1;39m(\u001b[0m\n",
       "\u001b[39m                \u001b[0m\u001b[33mcontent\u001b[0m\u001b[39m=\u001b[0m\u001b[32m\"You\u001b[0m\u001b[32m're an ESG analyst. You're ask to extract information from the provided context.\\n                Only use the available information to answer the question. Do not add any additional information.\\n                Use the appropriate tool to extract the information.\\n\\n                Question: What is the GHG scope 1 emission of the company?\\n\\n                -----------\\n                Context: filename: Apple_CDP-Climate-Change-Questionnaire_2023.pdf; page: 28.0\\n\u001b[0m\u001b[32m(\u001b[0m\u001b[32mC6.1\u001b[0m\u001b[32m)\u001b[0m\u001b[32m What were your organization’s gross global Scope 1 emissions in metric tons CO2e?\\nReporting year\\nGross global Scope 1 emissions \u001b[0m\u001b[32m(\u001b[0m\u001b[32mmetric tons CO2e\u001b[0m\u001b[32m)\u001b[0m\u001b[32m\\n55200\\nStart date\\n<Not Applicable>\\nEnd date\\n<Not Applicable>\\nComment\\nC6.2\\n\u001b[0m\u001b[32m(\u001b[0m\u001b[32mC6.2\u001b[0m\u001b[32m)\u001b[0m\u001b[32m Describe your organization’s approach to reporting Scope 2 emissions.\\nRow 1\\n\\u200b\\nScope 2, location-based\\n\\u200b\\nWe are reporting a Scope 2, location-based figure\\nScope 2, market-based\\nWe are reporting a Scope 2, market-based figure\\nComment\\nWe believe our market-based Scope 2 emissions figure most accurately represents our emissions profile since generating and sourcing renewable energy is a key aspect\\nof our environmental strategy.\\nC6.3\\n\u001b[0m\u001b[32m(\u001b[0m\u001b[32mC6.3\u001b[0m\u001b[32m)\u001b[0m\u001b[32m What were your organization’s gross global Scope 2 emissions in metric tons CO2e?\\nReporting year\\nScope 2, location-based\\n1065405\\nScope 2, market-based \u001b[0m\u001b[32m(\u001b[0m\u001b[32mif applicable\u001b[0m\u001b[32m)\u001b[0m\u001b[32m\\n3000\\nStart date\\n<Not Applicable>\\nEnd date\\n<Not Applicable\u001b[0m\u001b[32m>\u001b[0m\u001b[32m\\nComment\\nC6.4\\n\u001b[0m\u001b[32m(\u001b[0m\u001b[32mC6.4\u001b[0m\u001b[32m)\u001b[0m\u001b[32m Are there any sources \u001b[0m\u001b[32m(\u001b[0m\u001b[32me.g. facilities, specific GHGs, activities, geographies, etc.\u001b[0m\u001b[32m)\u001b[0m\u001b[32m of Scope 1, Scope 2 or Scope 3 emissions that are within your selected\\nreporting boundary which are not included in your disclosure?\\nYes\\nC6.4a\\nCDP\\nPage \\n of \\n133\\n28\\n\\nfilename: Apple_CDP-Climate-Change-Questionnaire_2023.pdf; page: 26.0\\nScope 3 category 3: Fuel-and-energy-related activities \u001b[0m\u001b[32m(\u001b[0m\u001b[32mnot included in Scope 1 or 2\u001b[0m\u001b[32m)\u001b[0m\u001b[32m\\nBase year start\\nSeptember 28 2014\\nBase year end\\nSeptember 27 2015\\nBase year emissions \u001b[0m\u001b[32m(\u001b[0m\u001b[32mmetric tons CO2e\u001b[0m\u001b[32m)\u001b[0m\u001b[32m\\n0\\nComment\\nThis Scope 3 emissions category was excluded from our baseline emissions, thus assumed to be 0.\\nScope 3 category 4: Upstream transportation and distribution\\nBase year start\\nSeptember 28 2014\\nBase year end\\nSeptember 27 2015\\nBase year emissions \u001b[0m\u001b[32m(\u001b[0m\u001b[32mmetric tons CO2e\u001b[0m\u001b[32m)\u001b[0m\u001b[32m\\n370000\\nComment\\nScope 3 category 5: Waste generated in operations\\nBase year start\\nBase year end\\nBase year emissions \u001b[0m\u001b[32m(\u001b[0m\u001b[32mmetric tons CO2e\u001b[0m\u001b[32m)\u001b[0m\u001b[32m\\nComment\\nScope 3 category 6: Business travel\\nBase year start\\nSeptember 28 2014\\nBase year end\\nSeptember 27 2015\\nBase year emissions \u001b[0m\u001b[32m(\u001b[0m\u001b[32mmetric tons CO2e\u001b[0m\u001b[32m)\u001b[0m\u001b[32m\\n139940\\nComment\\nScope 3 category 7: Employee commuting\\nBase year start\\nSeptember 28 2014\\nBase year end\\nSeptember 27 2015\\nBase year emissions \u001b[0m\u001b[32m(\u001b[0m\u001b[32mmetric tons CO2e\u001b[0m\u001b[32m)\u001b[0m\u001b[32m\\n172970\\nComment\\nScope 3 category 8: Upstream leased assets\\nBase year start\\nBase year end\\nBase year emissions \u001b[0m\u001b[32m(\u001b[0m\u001b[32mmetric tons CO2e\u001b[0m\u001b[32m)\u001b[0m\u001b[32m\\nComment\\nScope 3 category 9: Downstream transportation and distribution\\nBase year start\\nSeptember 28 2014\\nBase year end\\nSeptember 27 2015\\nBase year emissions \u001b[0m\u001b[32m(\u001b[0m\u001b[32mmetric tons CO2e\u001b[0m\u001b[32m)\u001b[0m\u001b[32m\\n1300000\\nComment\\nScope 3 category 10: Processing of sold products\\nBase year start\\nBase year end\\nBase year emissions \u001b[0m\u001b[32m(\u001b[0m\u001b[32mmetric tons CO2e\u001b[0m\u001b[32m)\u001b[0m\u001b[32m\\nComment\\nCDP\\nPage \\n of \\n133\\n26\\n\\n\\n                -----------\\n\\n                Answer:\\n                \"\u001b[0m,\n",
       "                \u001b[33madditional_kwargs\u001b[0m=\u001b[1m{\u001b[0m\u001b[1m}\u001b[0m,\n",
       "                \u001b[33mresponse_metadata\u001b[0m=\u001b[1m{\u001b[0m\u001b[1m}\u001b[0m\n",
       "            \u001b[1m)\u001b[0m\n",
       "        \u001b[1m]\u001b[0m\n",
       "    \u001b[1m)\u001b[0m,\n",
       "    \u001b[32m'response'\u001b[0m: \u001b[1;35mGhgEmissionData\u001b[0m\u001b[1m(\u001b[0m\n",
       "        \u001b[33mdata\u001b[0m=\u001b[1m[\u001b[0m\u001b[1;35mGhgEmission\u001b[0m\u001b[1m(\u001b[0m\u001b[33mscope\u001b[0m=\u001b[32m'scope1'\u001b[0m, \u001b[33myear\u001b[0m=\u001b[1;36m2023\u001b[0m, \u001b[33mvalue\u001b[0m=\u001b[1;36m55200\u001b[0m\u001b[1;36m.0\u001b[0m, \u001b[33munit\u001b[0m=\u001b[32m'metric tons CO2e'\u001b[0m\u001b[1m)\u001b[0m\u001b[1m]\u001b[0m\n",
       "    \u001b[1m)\u001b[0m\n",
       "\u001b[1m}\u001b[0m"
      ]
     },
     "execution_count": 34,
     "metadata": {},
     "output_type": "execute_result"
    }
   ],
   "source": [
    "# Run a chain with relevance check\n",
    "result = manager.run_chain(\n",
    "    chain_type=ChainType.RELEVANCE_CHECK,\n",
    "    question=\"What is the GHG scope 1 emission of the company?\",\n",
    "    output_schema=GhgEmissionData,\n",
    ")\n",
    "result"
   ]
  },
  {
   "cell_type": "code",
   "execution_count": 37,
   "id": "ede7ca28-521d-46c6-8a7f-331a6500b015",
   "metadata": {
    "scrolled": true
   },
   "outputs": [
    {
     "data": {
      "text/html": [
       "<pre style=\"white-space:pre;overflow-x:auto;line-height:normal;font-family:Menlo,'DejaVu Sans Mono',consolas,'Courier New',monospace\"></pre>\n"
      ],
      "text/plain": []
     },
     "metadata": {},
     "output_type": "display_data"
    },
    {
     "data": {
      "text/plain": [
       "\n",
       "\u001b[1m[\u001b[0m\n",
       "    \u001b[1;35mDocumentRelevance\u001b[0m\u001b[1m(\u001b[0m\n",
       "        \u001b[33mrelevant\u001b[0m=\u001b[3;92mTrue\u001b[0m,\n",
       "        \u001b[33mexplanation\u001b[0m=\u001b[32m'The document provides the gross global Scope 1 emissions of the company, which directly answers the question regarding the GHG scope 1 emission.'\u001b[0m\n",
       "    \u001b[1m)\u001b[0m,\n",
       "    \u001b[1;35mDocumentRelevance\u001b[0m\u001b[1m(\u001b[0m\n",
       "        \u001b[33mrelevant\u001b[0m=\u001b[3;91mFalse\u001b[0m,\n",
       "        \u001b[33mexplanation\u001b[0m=\u001b[32m'The document provides information on Scope 3 emissions, which are indirect emissions not included in Scope 1 or 2. It does not contain any data or details regarding Scope 1 emissions of the company.'\u001b[0m\n",
       "    \u001b[1m)\u001b[0m\n",
       "\u001b[1m]\u001b[0m"
      ]
     },
     "execution_count": 37,
     "metadata": {},
     "output_type": "execute_result"
    }
   ],
   "source": [
    "[i['response'] for i in result['relevance_response']]"
   ]
  },
  {
   "cell_type": "markdown",
   "id": "01c920ac-a58e-44a5-8d55-fbf13143dd7e",
   "metadata": {},
   "source": [
    "If the `relevant` field is `false`, then we will skip this document. This avoid having too many irrelevant document in the context."
   ]
  },
  {
   "cell_type": "markdown",
   "id": "141b2ade-2e27-4169-8c88-6a445ce37636",
   "metadata": {},
   "source": [
    "### Full Validation Chain\n",
    "\n",
    "This chain is the same as the one above, except that for each output,\n",
    "we will ask a model to determine wether or not, the given response is likely to suffer from hallucinations.\n",
    "Hallucinations happens less often in RAG, but can still happen.\n",
    "\n",
    "Hence, this task perform a `post extraction` transformation."
   ]
  },
  {
   "cell_type": "code",
   "execution_count": 38,
   "id": "ea81fdff-862e-41fa-863e-9746a8372056",
   "metadata": {
    "scrolled": true
   },
   "outputs": [
    {
     "data": {
      "text/html": [
       "<pre style=\"white-space:pre;overflow-x:auto;line-height:normal;font-family:Menlo,'DejaVu Sans Mono',consolas,'Courier New',monospace\"></pre>\n"
      ],
      "text/plain": []
     },
     "metadata": {},
     "output_type": "display_data"
    },
    {
     "data": {
      "text/plain": [
       "\n",
       "\u001b[1m{\u001b[0m\n",
       "    \u001b[32m'question'\u001b[0m: \u001b[32m'What is the GHG scope 1 emission of the company?'\u001b[0m,\n",
       "    \u001b[32m'source_documents'\u001b[0m: \u001b[1m[\u001b[0m\n",
       "        \u001b[1;35mDocument\u001b[0m\u001b[1m(\u001b[0m\n",
       "            \u001b[33mmetadata\u001b[0m=\u001b[1m{\u001b[0m\u001b[32m'page'\u001b[0m: \u001b[1;36m28.0\u001b[0m, \u001b[32m'filename'\u001b[0m: \u001b[32m'Apple_CDP-Climate-Change-Questionnaire_2023.pdf'\u001b[0m\u001b[1m}\u001b[0m,\n",
       "            \u001b[33mpage_content\u001b[0m=\u001b[32m'\u001b[0m\u001b[32m(\u001b[0m\u001b[32mC6.1\u001b[0m\u001b[32m)\u001b[0m\u001b[32m What were your organization’s gross global Scope 1 emissions in metric tons CO2e?\\nReporting year\\nGross global Scope 1 emissions \u001b[0m\u001b[32m(\u001b[0m\u001b[32mmetric tons CO2e\u001b[0m\u001b[32m)\u001b[0m\u001b[32m\\n55200\\nStart date\\n\u001b[0m\u001b[32m<\u001b[0m\u001b[32mNot\u001b[0m\u001b[32m Applicable>\\nEnd date\\n<Not Applicable>\\nComment\\nC6.2\\n\u001b[0m\u001b[32m(\u001b[0m\u001b[32mC6.2\u001b[0m\u001b[32m)\u001b[0m\u001b[32m Describe your organization’s approach to reporting Scope 2 emissions.\\nRow 1\\n\\u200b\\nScope 2, location-based\\n\\u200b\\nWe are reporting a Scope 2, location-based figure\\nScope 2, market-based\\nWe are reporting a Scope 2, market-based figure\\nComment\\nWe believe our market-based Scope 2 emissions figure most accurately represents our emissions profile since generating and sourcing renewable energy is a key aspect\\nof our environmental strategy.\\nC6.3\\n\u001b[0m\u001b[32m(\u001b[0m\u001b[32mC6.3\u001b[0m\u001b[32m)\u001b[0m\u001b[32m What were your organization’s gross global Scope 2 emissions in metric tons CO2e?\\nReporting year\\nScope 2, location-based\\n1065405\\nScope 2, market-based \u001b[0m\u001b[32m(\u001b[0m\u001b[32mif applicable\u001b[0m\u001b[32m)\u001b[0m\u001b[32m\\n3000\\nStart date\\n<Not Applicable>\\nEnd date\\n<Not Applicable>\\nComment\\nC6.4\\n\u001b[0m\u001b[32m(\u001b[0m\u001b[32mC6.4\u001b[0m\u001b[32m)\u001b[0m\u001b[32m Are there any sources \u001b[0m\u001b[32m(\u001b[0m\u001b[32me.g. facilities, specific GHGs, activities, geographies, etc.\u001b[0m\u001b[32m)\u001b[0m\u001b[32m of Scope 1, Scope 2 or Scope 3 emissions that are within your selected\\nreporting boundary which are not included in your disclosure?\\nYes\\nC6.4a\\nCDP\\nPage \\n of \\n133\\n28'\u001b[0m\n",
       "\u001b[39m        \u001b[0m\u001b[1;39m)\u001b[0m\n",
       "\u001b[39m    \u001b[0m\u001b[1;39m]\u001b[0m\u001b[39m,\u001b[0m\n",
       "\u001b[39m    \u001b[0m\u001b[32m'context'\u001b[0m\u001b[39m: \u001b[0m\u001b[32m'filename: Apple_CDP-Climate-Change-Questionnaire_2023.pdf; page: 28.0\\n\u001b[0m\u001b[32m(\u001b[0m\u001b[32mC6.1\u001b[0m\u001b[32m)\u001b[0m\u001b[32m What were your organization’s gross global Scope 1 emissions in metric tons CO2e?\\nReporting year\\nGross global Scope 1 emissions \u001b[0m\u001b[32m(\u001b[0m\u001b[32mmetric tons CO2e\u001b[0m\u001b[32m)\u001b[0m\u001b[32m\\n55200\\nStart date\\n<Not Applicable>\\nEnd date\\n<Not Applicable>\\nComment\\nC6.2\\n\u001b[0m\u001b[32m(\u001b[0m\u001b[32mC6.2\u001b[0m\u001b[32m)\u001b[0m\u001b[32m Describe your organization’s approach to reporting Scope 2 emissions.\\nRow 1\\n\\u200b\\nScope 2, location-based\\n\\u200b\\nWe are reporting a Scope 2, location-based figure\\nScope 2, market-based\\nWe are reporting a Scope 2, market-based figure\\nComment\\nWe believe our market-based Scope 2 emissions figure most accurately represents our emissions profile since generating and sourcing renewable energy is a key aspect\\nof our environmental strategy.\\nC6.3\\n\u001b[0m\u001b[32m(\u001b[0m\u001b[32mC6.3\u001b[0m\u001b[32m)\u001b[0m\u001b[32m What were your organization’s gross global Scope 2 emissions in metric tons CO2e?\\nReporting year\\nScope 2, location-based\\n1065405\\nScope 2, market-based \u001b[0m\u001b[32m(\u001b[0m\u001b[32mif applicable\u001b[0m\u001b[32m)\u001b[0m\u001b[32m\\n3000\\nStart date\\n<Not Applicable>\\nEnd date\\n<Not Applicable>\\nComment\\nC6.4\\n\u001b[0m\u001b[32m(\u001b[0m\u001b[32mC6.4\u001b[0m\u001b[32m)\u001b[0m\u001b[32m Are there any sources \u001b[0m\u001b[32m(\u001b[0m\u001b[32me.g. facilities, specific GHGs, activities, geographies, etc.\u001b[0m\u001b[32m)\u001b[0m\u001b[32m of Scope 1, Scope 2 or Scope 3 emissions that are within your selected\\nreporting boundary which are not included in your disclosure?\\nYes\\nC6.4a\\nCDP\\nPage \\n of \\n133\\n28\\n\\nfilename: Apple_CDP-Climate-Change-Questionnaire_2023.pdf; page: 26.0\\nScope 3 category 3: Fuel-and-energy-related activities \u001b[0m\u001b[32m(\u001b[0m\u001b[32mnot included in Scope 1 or 2\u001b[0m\u001b[32m)\u001b[0m\u001b[32m\\nBase year start\\nSeptember 28 2014\\nBase year end\\nSeptember 27 2015\\nBase year emissions \u001b[0m\u001b[32m(\u001b[0m\u001b[32mmetric tons CO2e\u001b[0m\u001b[32m)\u001b[0m\u001b[32m\\n0\\nComment\\nThis Scope 3 emissions category was excluded from our baseline emissions, thus assumed to be 0.\\nScope 3 category 4: Upstream transportation and distribution\\nBase year start\\nSeptember 28 2014\\nBase year end\\nSeptember 27 2015\\nBase year emissions \u001b[0m\u001b[32m(\u001b[0m\u001b[32mmetric tons CO2e\u001b[0m\u001b[32m)\u001b[0m\u001b[32m\\n370000\\nComment\\nScope 3 category 5: Waste generated in operations\\nBase year start\\nBase year end\\nBase year emissions \u001b[0m\u001b[32m(\u001b[0m\u001b[32mmetric tons CO2e\u001b[0m\u001b[32m)\u001b[0m\u001b[32m\\nComment\\nScope 3 category 6: Business travel\\nBase year start\\nSeptember 28 2014\\nBase year end\\nSeptember 27 2015\\nBase year emissions \u001b[0m\u001b[32m(\u001b[0m\u001b[32mmetric tons CO2e\u001b[0m\u001b[32m)\u001b[0m\u001b[32m\\n139940\\nComment\\nScope 3 category 7: Employee commuting\\nBase year start\\nSeptember 28 2014\\nBase year end\\nSeptember 27 2015\\nBase year emissions \u001b[0m\u001b[32m(\u001b[0m\u001b[32mmetric tons CO2e\u001b[0m\u001b[32m)\u001b[0m\u001b[32m\\n172970\\nComment\\nScope 3 category 8: Upstream leased assets\\nBase year start\\nBase year end\\nBase year emissions \u001b[0m\u001b[32m(\u001b[0m\u001b[32mmetric tons CO2e\u001b[0m\u001b[32m)\u001b[0m\u001b[32m\\nComment\\nScope 3 category 9: Downstream transportation and distribution\\nBase year start\\nSeptember 28 2014\\nBase year end\\nSeptember 27 2015\\nBase year emissions \u001b[0m\u001b[32m(\u001b[0m\u001b[32mmetric tons CO2e\u001b[0m\u001b[32m)\u001b[0m\u001b[32m\\n1300000\\nComment\\nScope 3 category 10: Processing of sold products\\nBase year start\\nBase year end\\nBase year emissions \u001b[0m\u001b[32m(\u001b[0m\u001b[32mmetric tons CO2e\u001b[0m\u001b[32m)\u001b[0m\u001b[32m\\nComment\\nCDP\\nPage \\n of \\n133\\n26\\n\\n'\u001b[0m\u001b[39m,\u001b[0m\n",
       "\u001b[39m    \u001b[0m\u001b[32m'relevance_response'\u001b[0m\u001b[39m: \u001b[0m\u001b[1;39m[\u001b[0m\n",
       "\u001b[39m        \u001b[0m\u001b[1;39m{\u001b[0m\n",
       "\u001b[39m            \u001b[0m\u001b[32m'question'\u001b[0m\u001b[39m: \u001b[0m\u001b[32m'What is the GHG scope 1 emission of the company?'\u001b[0m\u001b[39m,\u001b[0m\n",
       "\u001b[39m            \u001b[0m\u001b[32m'doc'\u001b[0m\u001b[39m: \u001b[0m\u001b[1;35mDocument\u001b[0m\u001b[1;39m(\u001b[0m\n",
       "\u001b[39m                \u001b[0m\u001b[33mmetadata\u001b[0m\u001b[39m=\u001b[0m\u001b[1;39m{\u001b[0m\n",
       "\u001b[39m                    \u001b[0m\u001b[32m'page'\u001b[0m\u001b[39m: \u001b[0m\u001b[1;36m28.0\u001b[0m\u001b[39m,\u001b[0m\n",
       "\u001b[39m                    \u001b[0m\u001b[32m'filename'\u001b[0m\u001b[39m: \u001b[0m\u001b[32m'Apple_CDP-Climate-Change-Questionnaire_2023.pdf'\u001b[0m\n",
       "\u001b[39m                \u001b[0m\u001b[1;39m}\u001b[0m\u001b[39m,\u001b[0m\n",
       "\u001b[39m                \u001b[0m\u001b[33mpage_content\u001b[0m\u001b[39m=\u001b[0m\u001b[32m'\u001b[0m\u001b[32m(\u001b[0m\u001b[32mC6.1\u001b[0m\u001b[32m)\u001b[0m\u001b[32m What were your organization’s gross global Scope 1 emissions in metric tons CO2e?\\nReporting year\\nGross global Scope 1 emissions \u001b[0m\u001b[32m(\u001b[0m\u001b[32mmetric tons CO2e\u001b[0m\u001b[32m)\u001b[0m\u001b[32m\\n55200\\nStart date\\n<Not Applicable>\\nEnd date\\n<Not Applicable>\\nComment\\nC6.2\\n\u001b[0m\u001b[32m(\u001b[0m\u001b[32mC6.2\u001b[0m\u001b[32m)\u001b[0m\u001b[32m Describe your organization’s approach to reporting Scope 2 emissions.\\nRow 1\\n\\u200b\\nScope 2, location-based\\n\\u200b\\nWe are reporting a Scope 2, location-based figure\\nScope 2, market-based\\nWe are reporting a Scope 2, market-based figure\\nComment\\nWe believe our market-based Scope 2 emissions figure most accurately represents our emissions profile since generating and sourcing renewable energy is a key aspect\\nof our environmental strategy.\\nC6.3\\n\u001b[0m\u001b[32m(\u001b[0m\u001b[32mC6.3\u001b[0m\u001b[32m)\u001b[0m\u001b[32m What were your organization’s gross global Scope 2 emissions in metric tons CO2e?\\nReporting year\\nScope 2, location-based\\n1065405\\nScope 2, market-based \u001b[0m\u001b[32m(\u001b[0m\u001b[32mif applicable\u001b[0m\u001b[32m)\u001b[0m\u001b[32m\\n3000\\nStart date\\n<Not Applicable>\\nEnd date\\n<Not Applicable>\\nComment\\nC6.4\\n\u001b[0m\u001b[32m(\u001b[0m\u001b[32mC6.4\u001b[0m\u001b[32m)\u001b[0m\u001b[32m Are there any sources \u001b[0m\u001b[32m(\u001b[0m\u001b[32me.g. facilities, specific GHGs, activities, geographies, etc.\u001b[0m\u001b[32m)\u001b[0m\u001b[32m of Scope 1, Scope 2 or Scope 3 emissions that are within your selected\\nreporting boundary which are not included in your disclosure?\\nYes\\nC6.4a\\nCDP\\nPage \\n of \\n133\\n28'\u001b[0m\n",
       "\u001b[39m            \u001b[0m\u001b[1;39m)\u001b[0m\u001b[39m,\u001b[0m\n",
       "\u001b[39m            \u001b[0m\u001b[32m'page_content'\u001b[0m\u001b[39m: \u001b[0m\u001b[32m'\u001b[0m\u001b[32m(\u001b[0m\u001b[32mC6.1\u001b[0m\u001b[32m)\u001b[0m\u001b[32m What were your organization’s gross global Scope 1 emissions in metric tons CO2e?\\nReporting year\\nGross global Scope 1 emissions \u001b[0m\u001b[32m(\u001b[0m\u001b[32mmetric tons CO2e\u001b[0m\u001b[32m)\u001b[0m\u001b[32m\\n55200\\nStart date\\n<Not Applicable>\\nEnd date\\n<Not Applicable>\\nComment\\nC6.2\\n\u001b[0m\u001b[32m(\u001b[0m\u001b[32mC6.2\u001b[0m\u001b[32m)\u001b[0m\u001b[32m Describe your organization’s approach to reporting Scope 2 emissions.\\nRow 1\\n\\u200b\\nScope 2, location-based\\n\\u200b\\nWe are reporting a Scope 2, location-based figure\\nScope 2, market-based\\nWe are reporting a Scope 2, market-based figure\\nComment\\nWe believe our market-based Scope 2 emissions figure most accurately represents our emissions profile since generating and sourcing renewable energy is a key aspect\\nof our environmental strategy.\\nC6.3\\n\u001b[0m\u001b[32m(\u001b[0m\u001b[32mC6.3\u001b[0m\u001b[32m)\u001b[0m\u001b[32m What were your organization’s gross global Scope 2 emissions in metric tons CO2e?\\nReporting year\\nScope 2, location-based\\n1065405\\nScope 2, market-based \u001b[0m\u001b[32m(\u001b[0m\u001b[32mif applicable\u001b[0m\u001b[32m)\u001b[0m\u001b[32m\\n3000\\nStart date\\n<Not Applicable>\\nEnd date\\n<Not Applicable>\\nComment\\nC6.4\\n\u001b[0m\u001b[32m(\u001b[0m\u001b[32mC6.4\u001b[0m\u001b[32m)\u001b[0m\u001b[32m Are there any sources \u001b[0m\u001b[32m(\u001b[0m\u001b[32me.g. facilities, specific GHGs, activities, geographies, etc.\u001b[0m\u001b[32m)\u001b[0m\u001b[32m of Scope 1, Scope 2 or Scope 3 emissions that are within your selected\\nreporting boundary which are not included in your disclosure?\\nYes\\nC6.4a\\nCDP\\nPage \\n of \\n133\\n28'\u001b[0m\u001b[39m,\u001b[0m\n",
       "\u001b[39m            \u001b[0m\u001b[32m'response'\u001b[0m\u001b[39m: \u001b[0m\u001b[1;35mDocumentRelevance\u001b[0m\u001b[1;39m(\u001b[0m\n",
       "\u001b[39m                \u001b[0m\u001b[33mrelevant\u001b[0m\u001b[39m=\u001b[0m\u001b[3;92mTrue\u001b[0m\u001b[39m,\u001b[0m\n",
       "\u001b[39m                \u001b[0m\u001b[33mexplanation\u001b[0m\u001b[39m=\u001b[0m\u001b[32m\"The\u001b[0m\u001b[32m document provides specific information about the company's gross global Scope 1 emissions, which directly answers the question regarding the GHG scope 1 emission.\"\u001b[0m\n",
       "\u001b[39m            \u001b[0m\u001b[1;39m)\u001b[0m\n",
       "\u001b[39m        \u001b[0m\u001b[1;39m}\u001b[0m\u001b[39m,\u001b[0m\n",
       "\u001b[39m        \u001b[0m\u001b[1;39m{\u001b[0m\n",
       "\u001b[39m            \u001b[0m\u001b[32m'question'\u001b[0m\u001b[39m: \u001b[0m\u001b[32m'What is the GHG scope 1 emission of the company?'\u001b[0m\u001b[39m,\u001b[0m\n",
       "\u001b[39m            \u001b[0m\u001b[32m'doc'\u001b[0m\u001b[39m: \u001b[0m\u001b[1;35mDocument\u001b[0m\u001b[1;39m(\u001b[0m\n",
       "\u001b[39m                \u001b[0m\u001b[33mmetadata\u001b[0m\u001b[39m=\u001b[0m\u001b[1;39m{\u001b[0m\n",
       "\u001b[39m                    \u001b[0m\u001b[32m'page'\u001b[0m\u001b[39m: \u001b[0m\u001b[1;36m26.0\u001b[0m\u001b[39m,\u001b[0m\n",
       "\u001b[39m                    \u001b[0m\u001b[32m'filename'\u001b[0m\u001b[39m: \u001b[0m\u001b[32m'Apple_CDP-Climate-Change-Questionnaire_2023.pdf'\u001b[0m\n",
       "\u001b[39m                \u001b[0m\u001b[1;39m}\u001b[0m\u001b[39m,\u001b[0m\n",
       "\u001b[39m                \u001b[0m\u001b[33mpage_content\u001b[0m\u001b[39m=\u001b[0m\u001b[32m'Scope 3 category 3: Fuel-and-energy-related activities \u001b[0m\u001b[32m(\u001b[0m\u001b[32mnot included in Scope 1 or 2\u001b[0m\u001b[32m)\u001b[0m\u001b[32m\\nBase year start\\nSeptember 28 2014\\nBase year end\\nSeptember 27 2015\\nBase year emissions \u001b[0m\u001b[32m(\u001b[0m\u001b[32mmetric tons CO2e\u001b[0m\u001b[32m)\u001b[0m\u001b[32m\\n0\\nComment\\nThis Scope 3 emissions category was excluded from our baseline emissions, thus assumed to be 0.\\nScope 3 category 4: Upstream transportation and distribution\\nBase year start\\nSeptember 28 2014\\nBase year end\\nSeptember 27 2015\\nBase year emissions \u001b[0m\u001b[32m(\u001b[0m\u001b[32mmetric tons CO2e\u001b[0m\u001b[32m)\u001b[0m\u001b[32m\\n370000\\nComment\\nScope 3 category 5: Waste generated in operations\\nBase year start\\nBase year end\\nBase year emissions \u001b[0m\u001b[32m(\u001b[0m\u001b[32mmetric tons CO2e\u001b[0m\u001b[32m)\u001b[0m\u001b[32m\\nComment\\nScope 3 category 6: Business travel\\nBase year start\\nSeptember 28 2014\\nBase year end\\nSeptember 27 2015\\nBase year emissions \u001b[0m\u001b[32m(\u001b[0m\u001b[32mmetric tons CO2e\u001b[0m\u001b[32m)\u001b[0m\u001b[32m\\n139940\\nComment\\nScope 3 category 7: Employee commuting\\nBase year start\\nSeptember 28 2014\\nBase year end\\nSeptember 27 2015\\nBase year emissions \u001b[0m\u001b[32m(\u001b[0m\u001b[32mmetric tons CO2e\u001b[0m\u001b[32m)\u001b[0m\u001b[32m\\n172970\\nComment\\nScope 3 category 8: Upstream leased assets\\nBase year start\\nBase year end\\nBase year emissions \u001b[0m\u001b[32m(\u001b[0m\u001b[32mmetric tons CO2e\u001b[0m\u001b[32m)\u001b[0m\u001b[32m\\nComment\\nScope 3 category 9: Downstream transportation and distribution\\nBase year start\\nSeptember 28 2014\\nBase year end\\nSeptember 27 2015\\nBase year emissions \u001b[0m\u001b[32m(\u001b[0m\u001b[32mmetric tons CO2e\u001b[0m\u001b[32m)\u001b[0m\u001b[32m\\n1300000\\nComment\\nScope 3 category 10: Processing of sold products\\nBase year start\\nBase year end\\nBase year emissions \u001b[0m\u001b[32m(\u001b[0m\u001b[32mmetric tons CO2e\u001b[0m\u001b[32m)\u001b[0m\u001b[32m\\nComment\\nCDP\\nPage \\n of \\n133\\n26'\u001b[0m\n",
       "\u001b[39m            \u001b[0m\u001b[1;39m)\u001b[0m\u001b[39m,\u001b[0m\n",
       "\u001b[39m            \u001b[0m\u001b[32m'page_content'\u001b[0m\u001b[39m: \u001b[0m\u001b[32m'Scope 3 category 3: Fuel-and-energy-related activities \u001b[0m\u001b[32m(\u001b[0m\u001b[32mnot included in Scope 1 or 2\u001b[0m\u001b[32m)\u001b[0m\u001b[32m\\nBase year start\\nSeptember 28 2014\\nBase year end\\nSeptember 27 2015\\nBase year emissions \u001b[0m\u001b[32m(\u001b[0m\u001b[32mmetric tons CO2e\u001b[0m\u001b[32m)\u001b[0m\u001b[32m\\n0\\nComment\\nThis Scope 3 emissions category was excluded from our baseline emissions, thus assumed to be 0.\\nScope 3 category 4: Upstream transportation and distribution\\nBase year start\\nSeptember 28 2014\\nBase year end\\nSeptember 27 2015\\nBase year emissions \u001b[0m\u001b[32m(\u001b[0m\u001b[32mmetric tons CO2e\u001b[0m\u001b[32m)\u001b[0m\u001b[32m\\n370000\\nComment\\nScope 3 category 5: Waste generated in operations\\nBase year start\\nBase year end\\nBase year emissions \u001b[0m\u001b[32m(\u001b[0m\u001b[32mmetric tons CO2e\u001b[0m\u001b[32m)\u001b[0m\u001b[32m\\nComment\\nScope 3 category 6: Business travel\\nBase year start\\nSeptember 28 2014\\nBase year end\\nSeptember 27 2015\\nBase year emissions \u001b[0m\u001b[32m(\u001b[0m\u001b[32mmetric tons CO2e\u001b[0m\u001b[32m)\u001b[0m\u001b[32m\\n139940\\nComment\\nScope 3 category 7: Employee commuting\\nBase year start\\nSeptember 28 2014\\nBase year end\\nSeptember 27 2015\\nBase year emissions \u001b[0m\u001b[32m(\u001b[0m\u001b[32mmetric tons CO2e\u001b[0m\u001b[32m)\u001b[0m\u001b[32m\\n172970\\nComment\\nScope 3 category 8: Upstream leased assets\\nBase year start\\nBase year end\\nBase year emissions \u001b[0m\u001b[32m(\u001b[0m\u001b[32mmetric tons CO2e\u001b[0m\u001b[32m)\u001b[0m\u001b[32m\\nComment\\nScope 3 category 9: Downstream transportation and distribution\\nBase year start\\nSeptember 28 2014\\nBase year end\\nSeptember 27 2015\\nBase year emissions \u001b[0m\u001b[32m(\u001b[0m\u001b[32mmetric tons CO2e\u001b[0m\u001b[32m)\u001b[0m\u001b[32m\\n1300000\\nComment\\nScope 3 category 10: Processing of sold products\\nBase year start\\nBase year end\\nBase year emissions \u001b[0m\u001b[32m(\u001b[0m\u001b[32mmetric tons CO2e\u001b[0m\u001b[32m)\u001b[0m\u001b[32m\\nComment\\nCDP\\nPage \\n of \\n133\\n26'\u001b[0m\u001b[39m,\u001b[0m\n",
       "\u001b[39m            \u001b[0m\u001b[32m'response'\u001b[0m\u001b[39m: \u001b[0m\u001b[1;35mDocumentRelevance\u001b[0m\u001b[1;39m(\u001b[0m\n",
       "\u001b[39m                \u001b[0m\u001b[33mrelevant\u001b[0m\u001b[39m=\u001b[0m\u001b[3;91mFalse\u001b[0m\u001b[39m,\u001b[0m\n",
       "\u001b[39m                \u001b[0m\u001b[33mexplanation\u001b[0m\u001b[39m=\u001b[0m\u001b[32m'The document discusses Scope 3 emissions categories and their base year emissions, but it does not provide any information about Scope 1 emissions, which is what the question specifically asks for.'\u001b[0m\n",
       "\u001b[39m            \u001b[0m\u001b[1;39m)\u001b[0m\n",
       "\u001b[39m        \u001b[0m\u001b[1;39m}\u001b[0m\n",
       "\u001b[39m    \u001b[0m\u001b[1;39m]\u001b[0m\u001b[39m,\u001b[0m\n",
       "\u001b[39m    \u001b[0m\u001b[32m'raw_source_documents'\u001b[0m\u001b[39m: \u001b[0m\u001b[1;39m[\u001b[0m\n",
       "\u001b[39m        \u001b[0m\u001b[1;35mDocument\u001b[0m\u001b[1;39m(\u001b[0m\n",
       "\u001b[39m            \u001b[0m\u001b[33mmetadata\u001b[0m\u001b[39m=\u001b[0m\u001b[1;39m{\u001b[0m\u001b[32m'page'\u001b[0m\u001b[39m: \u001b[0m\u001b[1;36m28.0\u001b[0m\u001b[39m, \u001b[0m\u001b[32m'filename'\u001b[0m\u001b[39m: \u001b[0m\u001b[32m'Apple_CDP-Climate-Change-Questionnaire_2023.pdf'\u001b[0m\u001b[1;39m}\u001b[0m\u001b[39m,\u001b[0m\n",
       "\u001b[39m            \u001b[0m\u001b[33mpage_content\u001b[0m\u001b[39m=\u001b[0m\u001b[32m'\u001b[0m\u001b[32m(\u001b[0m\u001b[32mC6.1\u001b[0m\u001b[32m)\u001b[0m\u001b[32m What were your organization’s gross global Scope 1 emissions in metric tons CO2e?\\nReporting year\\nGross global Scope 1 emissions \u001b[0m\u001b[32m(\u001b[0m\u001b[32mmetric tons CO2e\u001b[0m\u001b[32m)\u001b[0m\u001b[32m\\n55200\\nStart date\\n<Not Applicable>\\nEnd date\\n<Not Applicable>\\nComment\\nC6.2\\n\u001b[0m\u001b[32m(\u001b[0m\u001b[32mC6.2\u001b[0m\u001b[32m)\u001b[0m\u001b[32m Describe your organization’s approach to reporting Scope 2 emissions.\\nRow 1\\n\\u200b\\nScope 2, location-based\\n\\u200b\\nWe are reporting a Scope 2, location-based figure\\nScope 2, market-based\\nWe are reporting a Scope 2, market-based figure\\nComment\\nWe believe our market-based Scope 2 emissions figure most accurately represents our emissions profile since generating and sourcing renewable energy is a key aspect\\nof our environmental strategy.\\nC6.3\\n\u001b[0m\u001b[32m(\u001b[0m\u001b[32mC6.3\u001b[0m\u001b[32m)\u001b[0m\u001b[32m What were your organization’s gross global Scope 2 emissions in metric tons CO2e?\\nReporting year\\nScope 2, location-based\\n1065405\\nScope 2, market-based \u001b[0m\u001b[32m(\u001b[0m\u001b[32mif applicable\u001b[0m\u001b[32m)\u001b[0m\u001b[32m\\n3000\\nStart date\\n<Not Applicable>\\nEnd date\\n<Not Applicable>\\nComment\\nC6.4\\n\u001b[0m\u001b[32m(\u001b[0m\u001b[32mC6.4\u001b[0m\u001b[32m)\u001b[0m\u001b[32m Are there any sources \u001b[0m\u001b[32m(\u001b[0m\u001b[32me.g. facilities, specific GHGs, activities, geographies, etc.\u001b[0m\u001b[32m)\u001b[0m\u001b[32m of Scope 1, Scope 2 or Scope 3 emissions that are within your selected\\nreporting boundary which are not included in your disclosure?\\nYes\\nC6.4a\\nCDP\\nPage \\n of \\n133\\n28'\u001b[0m\n",
       "\u001b[39m        \u001b[0m\u001b[1;39m)\u001b[0m\u001b[39m,\u001b[0m\n",
       "\u001b[39m        \u001b[0m\u001b[1;35mDocument\u001b[0m\u001b[1;39m(\u001b[0m\n",
       "\u001b[39m            \u001b[0m\u001b[33mmetadata\u001b[0m\u001b[39m=\u001b[0m\u001b[1;39m{\u001b[0m\u001b[32m'page'\u001b[0m\u001b[39m: \u001b[0m\u001b[1;36m26.0\u001b[0m\u001b[39m, \u001b[0m\u001b[32m'filename'\u001b[0m\u001b[39m: \u001b[0m\u001b[32m'Apple_CDP-Climate-Change-Questionnaire_2023.pdf'\u001b[0m\u001b[1;39m}\u001b[0m\u001b[39m,\u001b[0m\n",
       "\u001b[39m            \u001b[0m\u001b[33mpage_content\u001b[0m\u001b[39m=\u001b[0m\u001b[32m'Scope 3 category 3: Fuel-and-energy-related activities \u001b[0m\u001b[32m(\u001b[0m\u001b[32mnot included in Scope 1 or 2\u001b[0m\u001b[32m)\u001b[0m\u001b[32m\\nBase year start\\nSeptember 28 2014\\nBase year end\\nSeptember 27 2015\\nBase year emissions \u001b[0m\u001b[32m(\u001b[0m\u001b[32mmetric tons CO2e\u001b[0m\u001b[32m)\u001b[0m\u001b[32m\\n0\\nComment\\nThis Scope 3 emissions category was excluded from our baseline emissions, thus assumed to be 0.\\nScope 3 category 4: Upstream transportation and distribution\\nBase year start\\nSeptember 28 2014\\nBase year end\\nSeptember 27 2015\\nBase year emissions \u001b[0m\u001b[32m(\u001b[0m\u001b[32mmetric tons CO2e\u001b[0m\u001b[32m)\u001b[0m\u001b[32m\\n370000\\nComment\\nScope 3 category 5: Waste generated in operations\\nBase year start\\nBase year end\\nBase year emissions \u001b[0m\u001b[32m(\u001b[0m\u001b[32mmetric tons CO2e\u001b[0m\u001b[32m)\u001b[0m\u001b[32m\\nComment\\nScope 3 category 6: Business travel\\nBase year start\\nSeptember 28 2014\\nBase year end\\nSeptember 27 2015\\nBase year emissions \u001b[0m\u001b[32m(\u001b[0m\u001b[32mmetric tons CO2e\u001b[0m\u001b[32m)\u001b[0m\u001b[32m\\n139940\\nComment\\nScope 3 category 7: Employee commuting\\nBase year start\\nSeptember 28 2014\\nBase year end\\nSeptember 27 2015\\nBase year emissions \u001b[0m\u001b[32m(\u001b[0m\u001b[32mmetric tons CO2e\u001b[0m\u001b[32m)\u001b[0m\u001b[32m\\n172970\\nComment\\nScope 3 category 8: Upstream leased assets\\nBase year start\\nBase year end\\nBase year emissions \u001b[0m\u001b[32m(\u001b[0m\u001b[32mmetric tons CO2e\u001b[0m\u001b[32m)\u001b[0m\u001b[32m\\nComment\\nScope 3 category 9: Downstream transportation and distribution\\nBase year start\\nSeptember 28 2014\\nBase year end\\nSeptember 27 2015\\nBase year emissions \u001b[0m\u001b[32m(\u001b[0m\u001b[32mmetric tons CO2e\u001b[0m\u001b[32m)\u001b[0m\u001b[32m\\n1300000\\nComment\\nScope 3 category 10: Processing of sold products\\nBase year start\\nBase year end\\nBase year emissions \u001b[0m\u001b[32m(\u001b[0m\u001b[32mmetric tons CO2e\u001b[0m\u001b[32m)\u001b[0m\u001b[32m\\nComment\\nCDP\\nPage \\n of \\n133\\n26'\u001b[0m\n",
       "\u001b[39m        \u001b[0m\u001b[1;39m)\u001b[0m\n",
       "\u001b[39m    \u001b[0m\u001b[1;39m]\u001b[0m\u001b[39m,\u001b[0m\n",
       "\u001b[39m    \u001b[0m\u001b[32m'prompt'\u001b[0m\u001b[39m: \u001b[0m\u001b[1;35mChatPromptValue\u001b[0m\u001b[1;39m(\u001b[0m\n",
       "\u001b[39m        \u001b[0m\u001b[33mmessages\u001b[0m\u001b[39m=\u001b[0m\u001b[1;39m[\u001b[0m\n",
       "\u001b[39m            \u001b[0m\u001b[1;35mHumanMessage\u001b[0m\u001b[1;39m(\u001b[0m\n",
       "\u001b[39m                \u001b[0m\u001b[33mcontent\u001b[0m\u001b[39m=\u001b[0m\u001b[32m\"You\u001b[0m\u001b[32m're an ESG analyst. You're ask to extract information from the provided context.\\n                Only use the available information to answer the question. Do not add any additional information.\\n                Use the appropriate tool to extract the information.\\n\\n                Question: What is the GHG scope 1 emission of the company?\\n\\n                -----------\\n                Context: filename: Apple_CDP-Climate-Change-Questionnaire_2023.pdf; page: 28.0\\n\u001b[0m\u001b[32m(\u001b[0m\u001b[32mC6.1\u001b[0m\u001b[32m)\u001b[0m\u001b[32m What were your organization’s gross global Scope 1 emissions in metric tons CO2e?\\nReporting year\\nGross global Scope 1 emissions \u001b[0m\u001b[32m(\u001b[0m\u001b[32mmetric tons CO2e\u001b[0m\u001b[32m)\u001b[0m\u001b[32m\\n55200\\nStart date\\n<Not Applicable>\\nEnd date\\n<Not Applicable>\\nComment\\nC6.2\\n\u001b[0m\u001b[32m(\u001b[0m\u001b[32mC6.2\u001b[0m\u001b[32m)\u001b[0m\u001b[32m Describe your organization’s approach to reporting Scope 2 emissions.\\nRow 1\\n\\u200b\\nScope 2, location-based\\n\\u200b\\nWe are reporting a Scope 2, location-based figure\\nScope 2, market-based\\nWe are reporting a Scope 2, market-based figure\\nComment\\nWe believe our market-based Scope 2 emissions figure most accurately represents our emissions profile since generating and sourcing renewable energy is a key aspect\\nof our environmental strategy.\\nC6.3\\n\u001b[0m\u001b[32m(\u001b[0m\u001b[32mC6.3\u001b[0m\u001b[32m)\u001b[0m\u001b[32m What were your organization’s gross global Scope 2 emissions in metric tons CO2e?\\nReporting year\\nScope 2, location-based\\n1065405\\nScope 2, market-based \u001b[0m\u001b[32m(\u001b[0m\u001b[32mif applicable\u001b[0m\u001b[32m)\u001b[0m\u001b[32m\\n3000\\nStart date\\n<Not Applicable>\\nEnd date\\n<Not Applicable\u001b[0m\u001b[32m>\u001b[0m\u001b[32m\\nComment\\nC6.4\\n\u001b[0m\u001b[32m(\u001b[0m\u001b[32mC6.4\u001b[0m\u001b[32m)\u001b[0m\u001b[32m Are there any sources \u001b[0m\u001b[32m(\u001b[0m\u001b[32me.g. facilities, specific GHGs, activities, geographies, etc.\u001b[0m\u001b[32m)\u001b[0m\u001b[32m of Scope 1, Scope 2 or Scope 3 emissions that are within your selected\\nreporting boundary which are not included in your disclosure?\\nYes\\nC6.4a\\nCDP\\nPage \\n of \\n133\\n28\\n\\nfilename: Apple_CDP-Climate-Change-Questionnaire_2023.pdf; page: 26.0\\nScope 3 category 3: Fuel-and-energy-related activities \u001b[0m\u001b[32m(\u001b[0m\u001b[32mnot included in Scope 1 or 2\u001b[0m\u001b[32m)\u001b[0m\u001b[32m\\nBase year start\\nSeptember 28 2014\\nBase year end\\nSeptember 27 2015\\nBase year emissions \u001b[0m\u001b[32m(\u001b[0m\u001b[32mmetric tons CO2e\u001b[0m\u001b[32m)\u001b[0m\u001b[32m\\n0\\nComment\\nThis Scope 3 emissions category was excluded from our baseline emissions, thus assumed to be 0.\\nScope 3 category 4: Upstream transportation and distribution\\nBase year start\\nSeptember 28 2014\\nBase year end\\nSeptember 27 2015\\nBase year emissions \u001b[0m\u001b[32m(\u001b[0m\u001b[32mmetric tons CO2e\u001b[0m\u001b[32m)\u001b[0m\u001b[32m\\n370000\\nComment\\nScope 3 category 5: Waste generated in operations\\nBase year start\\nBase year end\\nBase year emissions \u001b[0m\u001b[32m(\u001b[0m\u001b[32mmetric tons CO2e\u001b[0m\u001b[32m)\u001b[0m\u001b[32m\\nComment\\nScope 3 category 6: Business travel\\nBase year start\\nSeptember 28 2014\\nBase year end\\nSeptember 27 2015\\nBase year emissions \u001b[0m\u001b[32m(\u001b[0m\u001b[32mmetric tons CO2e\u001b[0m\u001b[32m)\u001b[0m\u001b[32m\\n139940\\nComment\\nScope 3 category 7: Employee commuting\\nBase year start\\nSeptember 28 2014\\nBase year end\\nSeptember 27 2015\\nBase year emissions \u001b[0m\u001b[32m(\u001b[0m\u001b[32mmetric tons CO2e\u001b[0m\u001b[32m)\u001b[0m\u001b[32m\\n172970\\nComment\\nScope 3 category 8: Upstream leased assets\\nBase year start\\nBase year end\\nBase year emissions \u001b[0m\u001b[32m(\u001b[0m\u001b[32mmetric tons CO2e\u001b[0m\u001b[32m)\u001b[0m\u001b[32m\\nComment\\nScope 3 category 9: Downstream transportation and distribution\\nBase year start\\nSeptember 28 2014\\nBase year end\\nSeptember 27 2015\\nBase year emissions \u001b[0m\u001b[32m(\u001b[0m\u001b[32mmetric tons CO2e\u001b[0m\u001b[32m)\u001b[0m\u001b[32m\\n1300000\\nComment\\nScope 3 category 10: Processing of sold products\\nBase year start\\nBase year end\\nBase year emissions \u001b[0m\u001b[32m(\u001b[0m\u001b[32mmetric tons CO2e\u001b[0m\u001b[32m)\u001b[0m\u001b[32m\\nComment\\nCDP\\nPage \\n of \\n133\\n26\\n\\n\\n                -----------\\n\\n                Answer:\\n                \"\u001b[0m,\n",
       "                \u001b[33madditional_kwargs\u001b[0m=\u001b[1m{\u001b[0m\u001b[1m}\u001b[0m,\n",
       "                \u001b[33mresponse_metadata\u001b[0m=\u001b[1m{\u001b[0m\u001b[1m}\u001b[0m\n",
       "            \u001b[1m)\u001b[0m\n",
       "        \u001b[1m]\u001b[0m\n",
       "    \u001b[1m)\u001b[0m,\n",
       "    \u001b[32m'response'\u001b[0m: \u001b[1;35mGhgEmissionData\u001b[0m\u001b[1m(\u001b[0m\n",
       "        \u001b[33mdata\u001b[0m=\u001b[1m[\u001b[0m\u001b[1;35mGhgEmission\u001b[0m\u001b[1m(\u001b[0m\u001b[33mscope\u001b[0m=\u001b[32m'scope1'\u001b[0m, \u001b[33myear\u001b[0m=\u001b[1;36m2023\u001b[0m, \u001b[33mvalue\u001b[0m=\u001b[1;36m55200\u001b[0m\u001b[1;36m.0\u001b[0m, \u001b[33munit\u001b[0m=\u001b[32m'metric tons CO2e'\u001b[0m\u001b[1m)\u001b[0m\u001b[1m]\u001b[0m\n",
       "    \u001b[1m)\u001b[0m,\n",
       "    \u001b[32m'result_json'\u001b[0m: \u001b[32m'\u001b[0m\u001b[32m{\u001b[0m\u001b[32m\"data\":\u001b[0m\u001b[32m[\u001b[0m\u001b[32m{\u001b[0m\u001b[32m\"scope\":\"scope1\",\"year\":2023,\"value\":55200.0,\"unit\":\"metric tons CO2e\"\u001b[0m\u001b[32m}\u001b[0m\u001b[32m]\u001b[0m\u001b[32m}\u001b[0m\u001b[32m'\u001b[0m,\n",
       "    \u001b[32m'validation'\u001b[0m: \u001b[1;35mValidateExtraction\u001b[0m\u001b[1m(\u001b[0m\u001b[33mhallucination\u001b[0m=\u001b[3;91mFalse\u001b[0m\u001b[1m)\u001b[0m\n",
       "\u001b[1m}\u001b[0m"
      ]
     },
     "execution_count": 38,
     "metadata": {},
     "output_type": "execute_result"
    }
   ],
   "source": [
    "# Run a chain with full validation\n",
    "result = manager.run_chain(\n",
    "    chain_type=ChainType.FULL_VALIDATION,\n",
    "    question=\"What is the GHG scope 1 emission of the company?\",\n",
    "    output_schema=GhgEmissionData,\n",
    ")\n",
    "result"
   ]
  },
  {
   "cell_type": "code",
   "execution_count": 39,
   "id": "cd7f3c4f-e214-4b96-9df7-ab7c436dc019",
   "metadata": {},
   "outputs": [
    {
     "data": {
      "text/html": [
       "<pre style=\"white-space:pre;overflow-x:auto;line-height:normal;font-family:Menlo,'DejaVu Sans Mono',consolas,'Courier New',monospace\"></pre>\n"
      ],
      "text/plain": []
     },
     "metadata": {},
     "output_type": "display_data"
    },
    {
     "data": {
      "text/plain": [
       "\u001b[1;35mValidateExtraction\u001b[0m\u001b[1m(\u001b[0m\u001b[33mhallucination\u001b[0m=\u001b[3;91mFalse\u001b[0m\u001b[1m)\u001b[0m"
      ]
     },
     "execution_count": 39,
     "metadata": {},
     "output_type": "execute_result"
    }
   ],
   "source": [
    "result['validation']"
   ]
  },
  {
   "cell_type": "markdown",
   "id": "81f5695e-6488-4f72-9c41-e5466bb154b6",
   "metadata": {},
   "source": [
    "### Image QA Chain\n",
    "\n",
    "Instead of using text as before, this time, we will pass the pdf images to the model directly."
   ]
  },
  {
   "cell_type": "code",
   "execution_count": 41,
   "id": "d6716f96-b150-4fd5-a84d-66b23adffbd1",
   "metadata": {
    "scrolled": true
   },
   "outputs": [
    {
     "data": {
      "text/html": [
       "<pre style=\"white-space:pre;overflow-x:auto;line-height:normal;font-family:Menlo,'DejaVu Sans Mono',consolas,'Courier New',monospace\"></pre>\n"
      ],
      "text/plain": []
     },
     "metadata": {},
     "output_type": "display_data"
    },
    {
     "data": {
      "text/plain": [
       "\n",
       "\u001b[1m{\u001b[0m\n",
       "    \u001b[32m'question'\u001b[0m: \u001b[32m'What is the GHG scope 1 emission of the company? If the information is not available, describe what you see in the image\u001b[0m\u001b[32m(\u001b[0m\u001b[32ms\u001b[0m\u001b[32m)\u001b[0m\u001b[32m.'\u001b[0m,\n",
       "    \u001b[32m'source_documents'\u001b[0m: \u001b[1m[\u001b[0m\n",
       "        \u001b[1;35mDocument\u001b[0m\u001b[1m(\u001b[0m\n",
       "            \u001b[33mmetadata\u001b[0m=\u001b[1m{\u001b[0m\u001b[32m'page'\u001b[0m: \u001b[1;36m28.0\u001b[0m, \u001b[32m'filename'\u001b[0m: \u001b[32m'Apple_CDP-Climate-Change-Questionnaire_2023.pdf'\u001b[0m\u001b[1m}\u001b[0m,\n",
       "            \u001b[33mpage_content\u001b[0m=\u001b[32m'\u001b[0m\u001b[32m(\u001b[0m\u001b[32mC6.1\u001b[0m\u001b[32m)\u001b[0m\u001b[32m What were your organization’s gross global Scope 1 emissions in metric tons CO2e?\\nReporting year\\nGross global Scope 1 emissions \u001b[0m\u001b[32m(\u001b[0m\u001b[32mmetric tons CO2e\u001b[0m\u001b[32m)\u001b[0m\u001b[32m\\n55200\\nStart date\\n\u001b[0m\u001b[32m<\u001b[0m\u001b[32mNot\u001b[0m\u001b[32m Applicable>\\nEnd date\\n<Not Applicable>\\nComment\\nC6.2\\n\u001b[0m\u001b[32m(\u001b[0m\u001b[32mC6.2\u001b[0m\u001b[32m)\u001b[0m\u001b[32m Describe your organization’s approach to reporting Scope 2 emissions.\\nRow 1\\n\\u200b\\nScope 2, location-based\\n\\u200b\\nWe are reporting a Scope 2, location-based figure\\nScope 2, market-based\\nWe are reporting a Scope 2, market-based figure\\nComment\\nWe believe our market-based Scope 2 emissions figure most accurately represents our emissions profile since generating and sourcing renewable energy is a key aspect\\nof our environmental strategy.\\nC6.3\\n\u001b[0m\u001b[32m(\u001b[0m\u001b[32mC6.3\u001b[0m\u001b[32m)\u001b[0m\u001b[32m What were your organization’s gross global Scope 2 emissions in metric tons CO2e?\\nReporting year\\nScope 2, location-based\\n1065405\\nScope 2, market-based \u001b[0m\u001b[32m(\u001b[0m\u001b[32mif applicable\u001b[0m\u001b[32m)\u001b[0m\u001b[32m\\n3000\\nStart date\\n<Not Applicable>\\nEnd date\\n<Not Applicable>\\nComment\\nC6.4\\n\u001b[0m\u001b[32m(\u001b[0m\u001b[32mC6.4\u001b[0m\u001b[32m)\u001b[0m\u001b[32m Are there any sources \u001b[0m\u001b[32m(\u001b[0m\u001b[32me.g. facilities, specific GHGs, activities, geographies, etc.\u001b[0m\u001b[32m)\u001b[0m\u001b[32m of Scope 1, Scope 2 or Scope 3 emissions that are within your selected\\nreporting boundary which are not included in your disclosure?\\nYes\\nC6.4a\\nCDP\\nPage \\n of \\n133\\n28'\u001b[0m\n",
       "\u001b[39m        \u001b[0m\u001b[1;39m)\u001b[0m\u001b[39m,\u001b[0m\n",
       "\u001b[39m        \u001b[0m\u001b[1;35mDocument\u001b[0m\u001b[1;39m(\u001b[0m\n",
       "\u001b[39m            \u001b[0m\u001b[33mmetadata\u001b[0m\u001b[39m=\u001b[0m\u001b[1;39m{\u001b[0m\u001b[32m'page'\u001b[0m\u001b[39m: \u001b[0m\u001b[1;36m26.0\u001b[0m\u001b[39m, \u001b[0m\u001b[32m'filename'\u001b[0m\u001b[39m: \u001b[0m\u001b[32m'Apple_CDP-Climate-Change-Questionnaire_2023.pdf'\u001b[0m\u001b[1;39m}\u001b[0m\u001b[39m,\u001b[0m\n",
       "\u001b[39m            \u001b[0m\u001b[33mpage_content\u001b[0m\u001b[39m=\u001b[0m\u001b[32m'Scope 3 category 3: Fuel-and-energy-related activities \u001b[0m\u001b[32m(\u001b[0m\u001b[32mnot included in Scope 1 or 2\u001b[0m\u001b[32m)\u001b[0m\u001b[32m\\nBase year start\\nSeptember 28 2014\\nBase year end\\nSeptember 27 2015\\nBase year emissions \u001b[0m\u001b[32m(\u001b[0m\u001b[32mmetric tons CO2e\u001b[0m\u001b[32m)\u001b[0m\u001b[32m\\n0\\nComment\\nThis Scope 3 emissions category was excluded from our baseline emissions, thus assumed to be 0.\\nScope 3 category 4: Upstream transportation and distribution\\nBase year start\\nSeptember 28 2014\\nBase year end\\nSeptember 27 2015\\nBase year emissions \u001b[0m\u001b[32m(\u001b[0m\u001b[32mmetric tons CO2e\u001b[0m\u001b[32m)\u001b[0m\u001b[32m\\n370000\\nComment\\nScope 3 category 5: Waste generated in operations\\nBase year start\\nBase year end\\nBase year emissions \u001b[0m\u001b[32m(\u001b[0m\u001b[32mmetric tons CO2e\u001b[0m\u001b[32m)\u001b[0m\u001b[32m\\nComment\\nScope 3 category 6: Business travel\\nBase year start\\nSeptember 28 2014\\nBase year end\\nSeptember 27 2015\\nBase year emissions \u001b[0m\u001b[32m(\u001b[0m\u001b[32mmetric tons CO2e\u001b[0m\u001b[32m)\u001b[0m\u001b[32m\\n139940\\nComment\\nScope 3 category 7: Employee commuting\\nBase year start\\nSeptember 28 2014\\nBase year end\\nSeptember 27 2015\\nBase year emissions \u001b[0m\u001b[32m(\u001b[0m\u001b[32mmetric tons CO2e\u001b[0m\u001b[32m)\u001b[0m\u001b[32m\\n172970\\nComment\\nScope 3 category 8: Upstream leased assets\\nBase year start\\nBase year end\\nBase year emissions \u001b[0m\u001b[32m(\u001b[0m\u001b[32mmetric tons CO2e\u001b[0m\u001b[32m)\u001b[0m\u001b[32m\\nComment\\nScope 3 category 9: Downstream transportation and distribution\\nBase year start\\nSeptember 28 2014\\nBase year end\\nSeptember 27 2015\\nBase year emissions \u001b[0m\u001b[32m(\u001b[0m\u001b[32mmetric tons CO2e\u001b[0m\u001b[32m)\u001b[0m\u001b[32m\\n1300000\\nComment\\nScope 3 category 10: Processing of sold products\\nBase year start\\nBase year end\\nBase year emissions \u001b[0m\u001b[32m(\u001b[0m\u001b[32mmetric tons CO2e\u001b[0m\u001b[32m)\u001b[0m\u001b[32m\\nComment\\nCDP\\nPage \\n of \\n133\\n26'\u001b[0m\n",
       "\u001b[39m        \u001b[0m\u001b[1;39m)\u001b[0m\n",
       "\u001b[39m    \u001b[0m\u001b[1;39m]\u001b[0m\u001b[39m,\u001b[0m\n",
       "\u001b[39m    \u001b[0m\u001b[32m'context'\u001b[0m\u001b[39m: \u001b[0m\u001b[32m'filename: Apple_CDP-Climate-Change-Questionnaire_2023.pdf; page: 28.0\\n\u001b[0m\u001b[32m(\u001b[0m\u001b[32mC6.1\u001b[0m\u001b[32m)\u001b[0m\u001b[32m What were your organization’s gross global Scope 1 emissions in metric tons CO2e?\\nReporting year\\nGross global Scope 1 emissions \u001b[0m\u001b[32m(\u001b[0m\u001b[32mmetric tons CO2e\u001b[0m\u001b[32m)\u001b[0m\u001b[32m\\n55200\\nStart date\\n<Not Applicable>\\nEnd date\\n<Not Applicable>\\nComment\\nC6.2\\n\u001b[0m\u001b[32m(\u001b[0m\u001b[32mC6.2\u001b[0m\u001b[32m)\u001b[0m\u001b[32m Describe your organization’s approach to reporting Scope 2 emissions.\\nRow 1\\n\\u200b\\nScope 2, location-based\\n\\u200b\\nWe are reporting a Scope 2, location-based figure\\nScope 2, market-based\\nWe are reporting a Scope 2, market-based figure\\nComment\\nWe believe our market-based Scope 2 emissions figure most accurately represents our emissions profile since generating and sourcing renewable energy is a key aspect\\nof our environmental strategy.\\nC6.3\\n\u001b[0m\u001b[32m(\u001b[0m\u001b[32mC6.3\u001b[0m\u001b[32m)\u001b[0m\u001b[32m What were your organization’s gross global Scope 2 emissions in metric tons CO2e?\\nReporting year\\nScope 2, location-based\\n1065405\\nScope 2, market-based \u001b[0m\u001b[32m(\u001b[0m\u001b[32mif applicable\u001b[0m\u001b[32m)\u001b[0m\u001b[32m\\n3000\\nStart date\\n<Not Applicable>\\nEnd date\\n<Not Applicable\u001b[0m\u001b[32m>\u001b[0m\u001b[32m\\nComment\\nC6.4\\n\u001b[0m\u001b[32m(\u001b[0m\u001b[32mC6.4\u001b[0m\u001b[32m)\u001b[0m\u001b[32m Are there any sources \u001b[0m\u001b[32m(\u001b[0m\u001b[32me.g. facilities, specific GHGs, activities, geographies, etc.\u001b[0m\u001b[32m)\u001b[0m\u001b[32m of Scope 1, Scope 2 or Scope 3 emissions that are within your selected\\nreporting boundary which are not included in your disclosure?\\nYes\\nC6.4a\\nCDP\\nPage \\n of \\n133\\n28\\n\\nfilename: Apple_CDP-Climate-Change-Questionnaire_2023.pdf; page: 26.0\\nScope 3 category 3: Fuel-and-energy-related activities \u001b[0m\u001b[32m(\u001b[0m\u001b[32mnot included in Scope 1 or 2\u001b[0m\u001b[32m)\u001b[0m\u001b[32m\\nBase year start\\nSeptember 28 2014\\nBase year end\\nSeptember 27 2015\\nBase year emissions \u001b[0m\u001b[32m(\u001b[0m\u001b[32mmetric tons CO2e\u001b[0m\u001b[32m)\u001b[0m\u001b[32m\\n0\\nComment\\nThis Scope 3 emissions category was excluded from our baseline emissions, thus assumed to be 0.\\nScope 3 category 4: Upstream transportation and distribution\\nBase year start\\nSeptember 28 2014\\nBase year end\\nSeptember 27 2015\\nBase year emissions \u001b[0m\u001b[32m(\u001b[0m\u001b[32mmetric tons CO2e\u001b[0m\u001b[32m)\u001b[0m\u001b[32m\\n370000\\nComment\\nScope 3 category 5: Waste generated in operations\\nBase year start\\nBase year end\\nBase year emissions \u001b[0m\u001b[32m(\u001b[0m\u001b[32mmetric tons CO2e\u001b[0m\u001b[32m)\u001b[0m\u001b[32m\\nComment\\nScope 3 category 6: Business travel\\nBase year start\\nSeptember 28 2014\\nBase year end\\nSeptember 27 2015\\nBase year emissions \u001b[0m\u001b[32m(\u001b[0m\u001b[32mmetric tons CO2e\u001b[0m\u001b[32m)\u001b[0m\u001b[32m\\n139940\\nComment\\nScope 3 category 7: Employee commuting\\nBase year start\\nSeptember 28 2014\\nBase year end\\nSeptember 27 2015\\nBase year emissions \u001b[0m\u001b[32m(\u001b[0m\u001b[32mmetric tons CO2e\u001b[0m\u001b[32m)\u001b[0m\u001b[32m\\n172970\\nComment\\nScope 3 category 8: Upstream leased assets\\nBase year start\\nBase year end\\nBase year emissions \u001b[0m\u001b[32m(\u001b[0m\u001b[32mmetric tons CO2e\u001b[0m\u001b[32m)\u001b[0m\u001b[32m\\nComment\\nScope 3 category 9: Downstream transportation and distribution\\nBase year start\\nSeptember 28 2014\\nBase year end\\nSeptember 27 2015\\nBase year emissions \u001b[0m\u001b[32m(\u001b[0m\u001b[32mmetric tons CO2e\u001b[0m\u001b[32m)\u001b[0m\u001b[32m\\n1300000\\nComment\\nScope 3 category 10: Processing of sold products\\nBase year start\\nBase year end\\nBase year emissions \u001b[0m\u001b[32m(\u001b[0m\u001b[32mmetric tons CO2e\u001b[0m\u001b[32m)\u001b[0m\u001b[32m\\nComment\\nCDP\\nPage \\n of \\n133\\n26\\n\\n'\u001b[0m,\n",
       "    \u001b[32m'pages'\u001b[0m: \u001b[1m[\u001b[0m\u001b[1;36m28.0\u001b[0m, \u001b[1;36m26.0\u001b[0m\u001b[1m]\u001b[0m,\n",
       "    \u001b[32m'response'\u001b[0m: \u001b[32m'The images do not provide any information regarding the GHG Scope 1 emissions of the company. They focus on Scope 2 emissions and Scope 3 emissions categories without mentioning Scope 1 emissions.'\u001b[0m\n",
       "\u001b[1m}\u001b[0m"
      ]
     },
     "execution_count": 41,
     "metadata": {},
     "output_type": "execute_result"
    }
   ],
   "source": [
    "# Run a chain with image\n",
    "result = manager.run_chain(\n",
    "    chain_type=ChainType.IMAGE_QA,\n",
    "    question=\"What is the GHG scope 1 emission of the company? If the information is not available, describe what you see in the image(s).\",\n",
    "    file_path=\"Apple_CDP-Climate-Change-Questionnaire_2023.pdf\",\n",
    ")\n",
    "result"
   ]
  },
  {
   "cell_type": "markdown",
   "id": "1e794587-60c2-4f4e-889d-4c9a4e772d85",
   "metadata": {},
   "source": [
    "We can note here that the model, even though it got the same pages as before, it wasn't able to find the values we were looking for."
   ]
  },
  {
   "cell_type": "markdown",
   "id": "e8e4deb9-102a-4a7b-8e30-5718d5e1a3e2",
   "metadata": {},
   "source": [
    "### Image QA with Structured Output Chain\n",
    "\n",
    "Same chain as before, but this time, we will output structured output."
   ]
  },
  {
   "cell_type": "code",
   "execution_count": 43,
   "id": "e9ac5b12-6a4c-45f2-a1d3-aa8277906b02",
   "metadata": {
    "scrolled": true
   },
   "outputs": [
    {
     "data": {
      "text/html": [
       "<pre style=\"white-space:pre;overflow-x:auto;line-height:normal;font-family:Menlo,'DejaVu Sans Mono',consolas,'Courier New',monospace\"></pre>\n"
      ],
      "text/plain": []
     },
     "metadata": {},
     "output_type": "display_data"
    },
    {
     "data": {
      "text/plain": [
       "\n",
       "\u001b[1m{\u001b[0m\n",
       "    \u001b[32m'question'\u001b[0m: \u001b[32m'What is the GHG scope 1 emission of the company? Consider all year available in the context.'\u001b[0m,\n",
       "    \u001b[32m'source_documents'\u001b[0m: \u001b[1m[\u001b[0m\n",
       "        \u001b[1;35mDocument\u001b[0m\u001b[1m(\u001b[0m\n",
       "            \u001b[33mmetadata\u001b[0m=\u001b[1m{\u001b[0m\u001b[32m'page'\u001b[0m: \u001b[1;36m26.0\u001b[0m, \u001b[32m'filename'\u001b[0m: \u001b[32m'Apple_CDP-Climate-Change-Questionnaire_2023.pdf'\u001b[0m\u001b[1m}\u001b[0m,\n",
       "            \u001b[33mpage_content\u001b[0m=\u001b[32m'Scope 3 category 3: Fuel-and-energy-related activities \u001b[0m\u001b[32m(\u001b[0m\u001b[32mnot included in Scope 1 or 2\u001b[0m\u001b[32m)\u001b[0m\u001b[32m\\nBase year start\\nSeptember 28 2014\\nBase year end\\nSeptember 27 2015\\nBase year emissions \u001b[0m\u001b[32m(\u001b[0m\u001b[32mmetric tons CO2e\u001b[0m\u001b[32m)\u001b[0m\u001b[32m\\n0\\nComment\\nThis Scope 3 emissions category was excluded from our baseline emissions, thus assumed to be 0.\\nScope 3 category 4: Upstream transportation and distribution\\nBase year start\\nSeptember 28 2014\\nBase year end\\nSeptember 27 2015\\nBase year emissions \u001b[0m\u001b[32m(\u001b[0m\u001b[32mmetric tons CO2e\u001b[0m\u001b[32m)\u001b[0m\u001b[32m\\n370000\\nComment\\nScope 3 category 5: Waste generated in operations\\nBase year start\\nBase year end\\nBase year emissions \u001b[0m\u001b[32m(\u001b[0m\u001b[32mmetric tons CO2e\u001b[0m\u001b[32m)\u001b[0m\u001b[32m\\nComment\\nScope 3 category 6: Business travel\\nBase year start\\nSeptember 28 2014\\nBase year end\\nSeptember 27 2015\\nBase year emissions \u001b[0m\u001b[32m(\u001b[0m\u001b[32mmetric tons CO2e\u001b[0m\u001b[32m)\u001b[0m\u001b[32m\\n139940\\nComment\\nScope 3 category 7: Employee commuting\\nBase year start\\nSeptember 28 2014\\nBase year end\\nSeptember 27 2015\\nBase year emissions \u001b[0m\u001b[32m(\u001b[0m\u001b[32mmetric tons CO2e\u001b[0m\u001b[32m)\u001b[0m\u001b[32m\\n172970\\nComment\\nScope 3 category 8: Upstream leased assets\\nBase year start\\nBase year end\\nBase year emissions \u001b[0m\u001b[32m(\u001b[0m\u001b[32mmetric tons CO2e\u001b[0m\u001b[32m)\u001b[0m\u001b[32m\\nComment\\nScope 3 category 9: Downstream transportation and distribution\\nBase year start\\nSeptember 28 2014\\nBase year end\\nSeptember 27 2015\\nBase year emissions \u001b[0m\u001b[32m(\u001b[0m\u001b[32mmetric tons CO2e\u001b[0m\u001b[32m)\u001b[0m\u001b[32m\\n1300000\\nComment\\nScope 3 category 10: Processing of sold products\\nBase year start\\nBase year end\\nBase year emissions \u001b[0m\u001b[32m(\u001b[0m\u001b[32mmetric tons CO2e\u001b[0m\u001b[32m)\u001b[0m\u001b[32m\\nComment\\nCDP\\nPage \\n of \\n133\\n26'\u001b[0m\n",
       "        \u001b[1m)\u001b[0m,\n",
       "        \u001b[1;35mDocument\u001b[0m\u001b[1m(\u001b[0m\n",
       "            \u001b[33mmetadata\u001b[0m=\u001b[1m{\u001b[0m\u001b[32m'page'\u001b[0m: \u001b[1;36m28.0\u001b[0m, \u001b[32m'filename'\u001b[0m: \u001b[32m'Apple_CDP-Climate-Change-Questionnaire_2023.pdf'\u001b[0m\u001b[1m}\u001b[0m,\n",
       "            \u001b[33mpage_content\u001b[0m=\u001b[32m'\u001b[0m\u001b[32m(\u001b[0m\u001b[32mC6.1\u001b[0m\u001b[32m)\u001b[0m\u001b[32m What were your organization’s gross global Scope 1 emissions in metric tons CO2e?\\nReporting year\\nGross global Scope 1 emissions \u001b[0m\u001b[32m(\u001b[0m\u001b[32mmetric tons CO2e\u001b[0m\u001b[32m)\u001b[0m\u001b[32m\\n55200\\nStart date\\n\u001b[0m\u001b[32m<\u001b[0m\u001b[32mNot\u001b[0m\u001b[32m Applicable>\\nEnd date\\n<Not Applicable>\\nComment\\nC6.2\\n\u001b[0m\u001b[32m(\u001b[0m\u001b[32mC6.2\u001b[0m\u001b[32m)\u001b[0m\u001b[32m Describe your organization’s approach to reporting Scope 2 emissions.\\nRow 1\\n\\u200b\\nScope 2, location-based\\n\\u200b\\nWe are reporting a Scope 2, location-based figure\\nScope 2, market-based\\nWe are reporting a Scope 2, market-based figure\\nComment\\nWe believe our market-based Scope 2 emissions figure most accurately represents our emissions profile since generating and sourcing renewable energy is a key aspect\\nof our environmental strategy.\\nC6.3\\n\u001b[0m\u001b[32m(\u001b[0m\u001b[32mC6.3\u001b[0m\u001b[32m)\u001b[0m\u001b[32m What were your organization’s gross global Scope 2 emissions in metric tons CO2e?\\nReporting year\\nScope 2, location-based\\n1065405\\nScope 2, market-based \u001b[0m\u001b[32m(\u001b[0m\u001b[32mif applicable\u001b[0m\u001b[32m)\u001b[0m\u001b[32m\\n3000\\nStart date\\n<Not Applicable>\\nEnd date\\n<Not Applicable>\\nComment\\nC6.4\\n\u001b[0m\u001b[32m(\u001b[0m\u001b[32mC6.4\u001b[0m\u001b[32m)\u001b[0m\u001b[32m Are there any sources \u001b[0m\u001b[32m(\u001b[0m\u001b[32me.g. facilities, specific GHGs, activities, geographies, etc.\u001b[0m\u001b[32m)\u001b[0m\u001b[32m of Scope 1, Scope 2 or Scope 3 emissions that are within your selected\\nreporting boundary which are not included in your disclosure?\\nYes\\nC6.4a\\nCDP\\nPage \\n of \\n133\\n28'\u001b[0m\n",
       "\u001b[39m        \u001b[0m\u001b[1;39m)\u001b[0m\n",
       "\u001b[39m    \u001b[0m\u001b[1;39m]\u001b[0m\u001b[39m,\u001b[0m\n",
       "\u001b[39m    \u001b[0m\u001b[32m'context'\u001b[0m\u001b[39m: \u001b[0m\u001b[32m'filename: Apple_CDP-Climate-Change-Questionnaire_2023.pdf; page: 26.0\\nScope 3 category 3: Fuel-and-energy-related activities \u001b[0m\u001b[32m(\u001b[0m\u001b[32mnot included in Scope 1 or 2\u001b[0m\u001b[32m)\u001b[0m\u001b[32m\\nBase year start\\nSeptember 28 2014\\nBase year end\\nSeptember 27 2015\\nBase year emissions \u001b[0m\u001b[32m(\u001b[0m\u001b[32mmetric tons CO2e\u001b[0m\u001b[32m)\u001b[0m\u001b[32m\\n0\\nComment\\nThis Scope 3 emissions category was excluded from our baseline emissions, thus assumed to be 0.\\nScope 3 category 4: Upstream transportation and distribution\\nBase year start\\nSeptember 28 2014\\nBase year end\\nSeptember 27 2015\\nBase year emissions \u001b[0m\u001b[32m(\u001b[0m\u001b[32mmetric tons CO2e\u001b[0m\u001b[32m)\u001b[0m\u001b[32m\\n370000\\nComment\\nScope 3 category 5: Waste generated in operations\\nBase year start\\nBase year end\\nBase year emissions \u001b[0m\u001b[32m(\u001b[0m\u001b[32mmetric tons CO2e\u001b[0m\u001b[32m)\u001b[0m\u001b[32m\\nComment\\nScope 3 category 6: Business travel\\nBase year start\\nSeptember 28 2014\\nBase year end\\nSeptember 27 2015\\nBase year emissions \u001b[0m\u001b[32m(\u001b[0m\u001b[32mmetric tons CO2e\u001b[0m\u001b[32m)\u001b[0m\u001b[32m\\n139940\\nComment\\nScope 3 category 7: Employee commuting\\nBase year start\\nSeptember 28 2014\\nBase year end\\nSeptember 27 2015\\nBase year emissions \u001b[0m\u001b[32m(\u001b[0m\u001b[32mmetric tons CO2e\u001b[0m\u001b[32m)\u001b[0m\u001b[32m\\n172970\\nComment\\nScope 3 category 8: Upstream leased assets\\nBase year start\\nBase year end\\nBase year emissions \u001b[0m\u001b[32m(\u001b[0m\u001b[32mmetric tons CO2e\u001b[0m\u001b[32m)\u001b[0m\u001b[32m\\nComment\\nScope 3 category 9: Downstream transportation and distribution\\nBase year start\\nSeptember 28 2014\\nBase year end\\nSeptember 27 2015\\nBase year emissions \u001b[0m\u001b[32m(\u001b[0m\u001b[32mmetric tons CO2e\u001b[0m\u001b[32m)\u001b[0m\u001b[32m\\n1300000\\nComment\\nScope 3 category 10: Processing of sold products\\nBase year start\\nBase year end\\nBase year emissions \u001b[0m\u001b[32m(\u001b[0m\u001b[32mmetric tons CO2e\u001b[0m\u001b[32m)\u001b[0m\u001b[32m\\nComment\\nCDP\\nPage \\n of \\n133\\n26\\n\\nfilename: Apple_CDP-Climate-Change-Questionnaire_2023.pdf; page: 28.0\\n\u001b[0m\u001b[32m(\u001b[0m\u001b[32mC6.1\u001b[0m\u001b[32m)\u001b[0m\u001b[32m What were your organization’s gross global Scope 1 emissions in metric tons CO2e?\\nReporting year\\nGross global Scope 1 emissions \u001b[0m\u001b[32m(\u001b[0m\u001b[32mmetric tons CO2e\u001b[0m\u001b[32m)\u001b[0m\u001b[32m\\n55200\\nStart date\\n<Not Applicable>\\nEnd date\\n<Not Applicable>\\nComment\\nC6.2\\n\u001b[0m\u001b[32m(\u001b[0m\u001b[32mC6.2\u001b[0m\u001b[32m)\u001b[0m\u001b[32m Describe your organization’s approach to reporting Scope 2 emissions.\\nRow 1\\n\\u200b\\nScope 2, location-based\\n\\u200b\\nWe are reporting a Scope 2, location-based figure\\nScope 2, market-based\\nWe are reporting a Scope 2, market-based figure\\nComment\\nWe believe our market-based Scope 2 emissions figure most accurately represents our emissions profile since generating and sourcing renewable energy is a key aspect\\nof our environmental strategy.\\nC6.3\\n\u001b[0m\u001b[32m(\u001b[0m\u001b[32mC6.3\u001b[0m\u001b[32m)\u001b[0m\u001b[32m What were your organization’s gross global Scope 2 emissions in metric tons CO2e?\\nReporting year\\nScope 2, location-based\\n1065405\\nScope 2, market-based \u001b[0m\u001b[32m(\u001b[0m\u001b[32mif applicable\u001b[0m\u001b[32m)\u001b[0m\u001b[32m\\n3000\\nStart date\\n<Not Applicable>\\nEnd date\\n<Not Applicable\u001b[0m\u001b[32m>\u001b[0m\u001b[32m\\nComment\\nC6.4\\n\u001b[0m\u001b[32m(\u001b[0m\u001b[32mC6.4\u001b[0m\u001b[32m)\u001b[0m\u001b[32m Are there any sources \u001b[0m\u001b[32m(\u001b[0m\u001b[32me.g. facilities, specific GHGs, activities, geographies, etc.\u001b[0m\u001b[32m)\u001b[0m\u001b[32m of Scope 1, Scope 2 or Scope 3 emissions that are within your selected\\nreporting boundary which are not included in your disclosure?\\nYes\\nC6.4a\\nCDP\\nPage \\n of \\n133\\n28\\n\\n'\u001b[0m,\n",
       "    \u001b[32m'pages'\u001b[0m: \u001b[1m[\u001b[0m\u001b[1;36m26.0\u001b[0m, \u001b[1;36m28.0\u001b[0m\u001b[1m]\u001b[0m,\n",
       "    \u001b[32m'response'\u001b[0m: \u001b[1;35mGhgEmissionData\u001b[0m\u001b[1m(\u001b[0m\n",
       "        \u001b[33mdata\u001b[0m=\u001b[1m[\u001b[0m\u001b[1;35mGhgEmission\u001b[0m\u001b[1m(\u001b[0m\u001b[33mscope\u001b[0m=\u001b[32m'scope1'\u001b[0m, \u001b[33myear\u001b[0m=\u001b[1;36m2015\u001b[0m, \u001b[33mvalue\u001b[0m=\u001b[1;36m5520\u001b[0m\u001b[1;36m.0\u001b[0m, \u001b[33munit\u001b[0m=\u001b[32m'metric tons CO2e'\u001b[0m\u001b[1m)\u001b[0m\u001b[1m]\u001b[0m\n",
       "    \u001b[1m)\u001b[0m\n",
       "\u001b[1m}\u001b[0m"
      ]
     },
     "execution_count": 43,
     "metadata": {},
     "output_type": "execute_result"
    }
   ],
   "source": [
    "# Run a chain with image + structured output\n",
    "result = manager.run_chain(\n",
    "    chain_type=ChainType.STRUCTURED_OUTPUT_IMAGE,\n",
    "    question=\"What is the GHG scope 1 emission of the company? Consider all year available in the context.\",\n",
    "    file_path=\"Apple_CDP-Climate-Change-Questionnaire_2023.pdf\",\n",
    "    output_schema=GhgEmissionData,\n",
    ")\n",
    "result"
   ]
  },
  {
   "cell_type": "code",
   "execution_count": null,
   "id": "931e448f-1bc6-45e2-9600-d09ff82c0888",
   "metadata": {},
   "outputs": [],
   "source": []
  }
 ],
 "metadata": {
  "kernelspec": {
   "display_name": "Python 3 (ipykernel)",
   "language": "python",
   "name": "python3"
  },
  "language_info": {
   "codemirror_mode": {
    "name": "ipython",
    "version": 3
   },
   "file_extension": ".py",
   "mimetype": "text/x-python",
   "name": "python",
   "nbconvert_exporter": "python",
   "pygments_lexer": "ipython3",
   "version": "3.12.7"
  }
 },
 "nbformat": 4,
 "nbformat_minor": 5
}
